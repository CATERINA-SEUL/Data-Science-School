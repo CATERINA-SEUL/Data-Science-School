{
  "nbformat": 4,
  "nbformat_minor": 0,
  "metadata": {
    "kernelspec": {
      "display_name": "Python 3",
      "language": "python",
      "name": "python3"
    },
    "language_info": {
      "codemirror_mode": {
        "name": "ipython",
        "version": 3
      },
      "file_extension": ".py",
      "mimetype": "text/x-python",
      "name": "python",
      "nbconvert_exporter": "python",
      "pygments_lexer": "ipython3",
      "version": "3.7.3"
    },
    "colab": {
      "name": "02_Linear algebra_01.ipynb",
      "provenance": [],
      "collapsed_sections": [
        "QZS5thzH3N3i",
        "YuG6icjq3N3m",
        "gH22dt1N3N3o",
        "yrWE_c263N3o"
      ]
    }
  },
  "cells": [
    {
      "cell_type": "markdown",
      "metadata": {
        "id": "O4wS-CfG3N3N",
        "colab_type": "text"
      },
      "source": [
        "### 행렬과 벡터의 곱\n",
        "\n",
        " - $Mv$\n",
        " - 해석방법 2가지 \n",
        "     1. 열벡터의 선형조합(앞 행렬을 열로 분할) \n",
        "         - $Xw$\n",
        "         - x에 스칼라 곱을 한 조합 == 선형조합\n",
        "     2. 행벡터의 선형조합(앞 행렬을 행으로 분할)\n",
        "         - 특징행렬\n",
        "         - $\\hat{y} = Xw$\n",
        "     "
      ]
    },
    {
      "cell_type": "markdown",
      "metadata": {
        "id": "Az4gqDHU3N3O",
        "colab_type": "text"
      },
      "source": [
        "- 행렬 $X$와 벡터 $w$에 대해 곱 $Xw$가 열벡터 $c_1,c_2,c_3$ 의 선형조합 $w_1c_1 + w_2c_2 + w_3c_3$ 가 됨을 실제 계산으로 증명하라. "
      ]
    },
    {
      "cell_type": "code",
      "metadata": {
        "id": "mU-MKGtz3N3P",
        "colab_type": "code",
        "colab": {}
      },
      "source": [
        "X = np.arange(1, 7).reshape(2, 3)\n",
        "w = np.array([[2], [3], [4]])\n",
        "X"
      ],
      "execution_count": 0,
      "outputs": []
    },
    {
      "cell_type": "code",
      "metadata": {
        "id": "bWq1taww3N3S",
        "colab_type": "code",
        "colab": {}
      },
      "source": [
        "w"
      ],
      "execution_count": 0,
      "outputs": []
    },
    {
      "cell_type": "code",
      "metadata": {
        "id": "CX82ibO_3N3V",
        "colab_type": "code",
        "colab": {}
      },
      "source": [
        "X@w"
      ],
      "execution_count": 0,
      "outputs": []
    },
    {
      "cell_type": "markdown",
      "metadata": {
        "id": "fIpe7c_r3N3Y",
        "colab_type": "text"
      },
      "source": [
        "벡터 $v_1,v_2,v_3$ 으로 이루어진 행렬 $V$와 벡터 $\\lambda$에 대해 다음 식이 성립함을 증명하라. 이 식에서 $\\lambda_1$은 스칼라이다."
      ]
    },
    {
      "cell_type": "code",
      "metadata": {
        "id": "R_2HZYcX3N3Z",
        "colab_type": "code",
        "colab": {}
      },
      "source": [
        "from sklearn.datasets import fetch_olivetti_faces\n",
        "#import matplotlib.pyplot as plt\n",
        "\n",
        "faces = fetch_olivetti_faces()\n",
        "\n",
        "f, ax = plt.subplots(1, 3)\n",
        "\n",
        "ax[0].imshow(faces.images[6], cmap=plt.cm.bone)\n",
        "ax[0].grid(False)\n",
        "ax[0].set_xticks([])\n",
        "ax[0].set_yticks([])\n",
        "ax[0].set_title(\"image 1: $x_1$\")\n",
        "\n",
        "ax[1].imshow(faces.images[10], cmap=plt.cm.bone)\n",
        "ax[1].grid(False)\n",
        "ax[1].set_xticks([])\n",
        "ax[1].set_yticks([])\n",
        "ax[1].set_title(\"image 2: $x_2$\")\n",
        "\n",
        "new_face = 0.7*faces.images[6]+0.3 * faces.images[10]\n",
        "ax[2].imshow(new_face, cmap=plt.cm.bone)\n",
        "ax[2].grid(False)\n",
        "ax[2].set_xticks([])\n",
        "ax[2].set_yticks([])\n",
        "ax[2].set_title(\"image 3: $0.7x_1 + 0.3x_2$\")\n",
        "\n",
        "plt.show()"
      ],
      "execution_count": 0,
      "outputs": []
    },
    {
      "cell_type": "markdown",
      "metadata": {
        "id": "6hz4AgCB3N3c",
        "colab_type": "text"
      },
      "source": [
        "### 잔차 \n",
        "\n",
        " - 예측치와 실젯값(target) $y_i$의 차이\n",
        " - $e_i = y_i -$$\\hat{y}_i$$ = y_i - w^Tx_i$\n",
        "      - $e = y-Xw$"
      ]
    },
    {
      "cell_type": "markdown",
      "metadata": {
        "id": "x3pLUwjE3N3c",
        "colab_type": "text"
      },
      "source": [
        "### 잔차 제곱합(RSS : Residual Sum of Squares)\n",
        "\n",
        " - 잔차 백터의 각 원소를 제곱한 후 더한 잔차 제곱합을 이용해서 크기를 구한다.\n",
        " \n",
        " $\\sum^{N}_{i=1}$ $e^2_i$"
      ]
    },
    {
      "cell_type": "markdown",
      "metadata": {
        "id": "5c593k0W3N3e",
        "colab_type": "text"
      },
      "source": [
        "#### 분배 법칙을 사용하여 위의 식 $(y-Xw)^T(y-Xw)$를 풀어쓰면 다음과 같아짐을 보자"
      ]
    },
    {
      "cell_type": "markdown",
      "metadata": {
        "id": "a5VLfTGs3N3e",
        "colab_type": "text"
      },
      "source": [
        "$(y-Xw)^T(y-Xw)$ = $y^Ty-w^TX^Ty-y^TXw+w^TX^TXw$\n",
        "\n",
        " - 곱셈의 분배법칙 & 전치형 분배법칙을 사용해서 풀어야한다."
      ]
    },
    {
      "cell_type": "markdown",
      "metadata": {
        "id": "lqbWx7xa3N3f",
        "colab_type": "text"
      },
      "source": [
        "### 이차형식\n",
        "\n",
        " - $w^TX^TXw$\n",
        " \n",
        " - $X^TX$ $\\rightarrow$ 정방행렬 $A$\n",
        " \n",
        " - $w^TAw$"
      ]
    },
    {
      "cell_type": "markdown",
      "metadata": {
        "id": "MEmXiRNE3N3g",
        "colab_type": "text"
      },
      "source": [
        "- 다음식이 성립함을 증명하라\n",
        "\n",
        " $x^TAx = \\frac{1}{2}x^T(A+A^T)x$"
      ]
    },
    {
      "cell_type": "markdown",
      "metadata": {
        "id": "TeSmk02X3N3h",
        "colab_type": "text"
      },
      "source": [
        "### 부분행렬"
      ]
    },
    {
      "cell_type": "markdown",
      "metadata": {
        "id": "QZS5thzH3N3i",
        "colab_type": "text"
      },
      "source": [
        "### 행렬의 성질\n",
        "\n",
        " - 행렬은 크기를 정의하기 어려우나, 부호/크기와 유사한 개념은 정의할 수 있다.\n",
        " \n",
        " 1) 정부호 : positive definite (0은 제외)\n",
        " \n",
        "     $x^TAx>0$\n",
        "     \n",
        "      - 이차형식 : 스칼라\n",
        "      \n",
        " 2) 준정부호 : positive semi definite\n",
        " \n",
        "     $x^TAx\\geq0$"
      ]
    },
    {
      "cell_type": "markdown",
      "metadata": {
        "id": "2KoWtf-U3N3i",
        "colab_type": "text"
      },
      "source": [
        "### 항등행렬\n",
        "\n",
        " - 다른 행렬이나 벡터가 곱해질 때 없는 척!\n",
        " - 각각의 성분들이 모두 제곱한 후 sum $\\rightarrow$ 영벡터를 제외하고 모두 양"
      ]
    },
    {
      "cell_type": "code",
      "metadata": {
        "id": "G4CJsAq_3N3j",
        "colab_type": "code",
        "colab": {}
      },
      "source": [
        "x = np.array([1, 2])\n",
        "y = np.ones(4).reshape(2, 2)\n",
        "z = np.array([[1], [2]])\n",
        "\n",
        "y"
      ],
      "execution_count": 0,
      "outputs": []
    },
    {
      "cell_type": "markdown",
      "metadata": {
        "id": "i2RRqD5b3N3m",
        "colab_type": "text"
      },
      "source": [
        "$y = (x_1+x_2)^2$"
      ]
    },
    {
      "cell_type": "markdown",
      "metadata": {
        "id": "YuG6icjq3N3m",
        "colab_type": "text"
      },
      "source": [
        "### 행렬 놈(norm)\n",
        "\n",
        " - $p=2$ : 프로베니우스 놈(probenius norm)\n",
        "  $\\rightarrow \\|x\\|_p$\n",
        " - $\\|x\\|^2 = x^Tx$"
      ]
    },
    {
      "cell_type": "markdown",
      "metadata": {
        "id": "gH22dt1N3N3o",
        "colab_type": "text"
      },
      "source": [
        "### 놈의 정의\n",
        "\n",
        " - 놈의 값은 0 이상이다 \n",
        " \n",
        "     $\\|x\\| \\geq 0$\n",
        "     \n",
        " - 행렬에 스칼라를 곱하면 놈의 값도 그 스칼라의 절대값을 곱한 것과 같다\n",
        " \n",
        "     $\\|aA\\| = |a|\\|A\\|$\n",
        "     \n",
        " - 행렬의 함의 놈은 각 행렬의 놈의 합보다 작다\n",
        " \n",
        "     $\\|A+B\\| \\leq \\|A\\|+\\|B\\|$\n",
        "     \n",
        " - 정방행렬의 곱의 놈은 각 정방행렬의 놈의 곰보다 작다.\n",
        " \n",
        "     $\\|AB\\| \\leq \\|A\\|\\|B\\|$"
      ]
    },
    {
      "cell_type": "markdown",
      "metadata": {
        "id": "yrWE_c263N3o",
        "colab_type": "text"
      },
      "source": [
        "### 대각합(trace)\n",
        "\n",
        " - 정방행렬의 대각원소의 합\n",
        " \n",
        "     $tr(I_N) = N$"
      ]
    },
    {
      "cell_type": "markdown",
      "metadata": {
        "id": "GUVw_-Dz3N3p",
        "colab_type": "text"
      },
      "source": [
        "### 대각합의 성질\n",
        "\n",
        " - 스칼라를 곱하면 대각합은 스칼라와 원래의 대각합의 곱이다\n",
        "     \n",
        "     $tr(cA) = c tr(A)$\n",
        "     \n",
        " - 전치연산을 해도 대각합의 값은 그대로\n",
        " \n",
        "     $tr(A^T) = tr(A)$\n",
        "     \n",
        " - 두 행렬의 합의 대각합은 두 행렬의 대각합의 합이다\n",
        "     \n",
        "     $tr(A+B) = tr(A) + tr(B)$\n",
        "     \n",
        " - 두 행렬의 곱의 대각합은 행렬의 순서를 바꿔도 그대로\n",
        "     \n",
        "     $tr(AB) = tr(BA)$\n",
        "     \n",
        " ##### trace trick\n",
        " \n",
        " - 세 행렬의 곱의 대각합은 순서를 순환시켜도 그대로\n",
        " \n",
        "     $tr(ABC) = tr(BCA) = tr(CAB)$\n",
        "     \n",
        " - 순서가 바껴도 대각합의 값은 같다\n",
        " \n",
        "     $tr((AB)C) = tr(C(AB)) = tr((CA)B) = tr(B(CA))$\n",
        "     \n",
        "     \n",
        " ###### trace trick 공식  == 이차형식(스칼라값)\n",
        "\n",
        "   - $x^TAx = tr(x^TAx) = tr(Axx^T) = tr(xx^TA)$"
      ]
    },
    {
      "cell_type": "code",
      "metadata": {
        "id": "EJQ0Usnk8IdZ",
        "colab_type": "code",
        "colab": {}
      },
      "source": [
        "np.trace(np.eye(3))"
      ],
      "execution_count": 0,
      "outputs": []
    }
  ]
}