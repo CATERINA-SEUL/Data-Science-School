{
 "cells": [
  {
   "cell_type": "markdown",
   "metadata": {},
   "source": [
    "### 검정과 유의확률\n",
    "\n",
    "\n",
    " - 검정 : 확률변수의 분포에 대한 가설이 맞는지 틀린지 정량적으로 증명하는 작업\n",
    " \n",
    "----\n",
    "\n",
    "#### 가설과 검정\n",
    "\n",
    " - 확률분포에 대한 주장 : 가설\n",
    " - 가설을 증명하는 행위 : 통계적 가설검정 (검정)\n",
    " - 확률분포의 모수값이 특정한 값을 가진다는 가설을 검정하는 것 : 모수검정\n",
    " \n",
    "---\n",
    "#### 귀무가설 ($H_0$)\n",
    "\n",
    " - 확률분포의 모수에 대한 가설 \n",
    " \n",
    " - 고정이 되어있어야 함 (반드시 등식으로 표현)\n",
    " - $H_0 : \\theta = \\theta_0$\n",
    " \n",
    "----\n",
    "#### 대립가설 ($H_a$)\n",
    "\n",
    " - 귀무가설의 상대가 되는 가설 \n",
    " - 내가 주장하고 싶은 가설(내가 증명하고자 하는 가설일 확률이 높다)\n",
    " - 연구가설\n",
    " - $H_0 : \\theta = \\theta_0 , H_a : \\theta \\not= \\theta_0$\n",
    " - $H_0 : \\theta = \\theta_0 , H_a : \\theta > \\theta_0$\n",
    " - $H_0 : \\theta = \\theta_0 , H_a : \\theta < \\theta_0$\n",
    " \n",
    "----\n",
    "#### 검정통계량\n",
    "\n",
    " - 증명\n",
    " - 통계량 중에서 검정에 사용되는 것을 검정통계량이라고 한다. \n",
    " - $t = f(x_1,x_2,\\cdots,x_N)$\n",
    " \n",
    " - 통계량 == 확률변수, 검정통계량 확률변수 $T$\n",
    " \n",
    "--- \n",
    "#### 베르누이 확률변수 \n",
    "\n",
    " - 이항분포\n",
    " \n",
    "     $x ~ Bern(x;\\mu) \\rightarrow t = \\Sigma_{i=1}^N x ~ Bin(t;N,\\mu)$\n",
    "   \n",
    "    \n",
    "--- \n",
    "#### 분산 $\\sigma^2$ 값을 알고 있는 정규분포\n",
    "\n",
    " - 표준정규분포\n",
    " \n",
    "     $x ~ N(\\mu,\\sigma^2) \\rightarrow z=\\frac{\\bar x - \\mu}{\\frac{\\sigma}{\\sqrt{N}}} ~ N(z;0,1)$\n",
    "    \n",
    "---\n",
    "#### 분산 $\\sigma^2$ 값을 모르는 정규분포\n",
    "\n",
    " - student - t 분포\n",
    " \n",
    "     $x ~ N(\\mu,\\sigma^2) \\rightarrow t=\\frac{m - \\mu}{\\frac{\\sigma}{\\sqrt{N}}} ~ N(t;0,1,N-1)$\n",
    "\n",
    " - 카이제곱분포\n",
    " \n",
    "     $x ~ N(\\mu,\\sigma^2) \\rightarrow t=(N-1)\\frac{s^2}{\\sigma^2} ~ \\chi ^2(t;N-1)$"
   ]
  },
  {
   "cell_type": "markdown",
   "metadata": {},
   "source": [
    "---\n",
    "\n",
    "### 유의확률\n",
    "\n",
    " - pdf 의 면적을 구하기 때문에 이름은 확률이지만, 개념은 중심에서 떨어진 거리를 측정.\n",
    " \n",
    " - 귀무가설이 맞음에도 불구하고 현재 검정통계량값과 같은 혹은 대립가설을 더 옹호하는 검정통계량 값이 나올 확률 \n",
    " \n",
    "  $\\rightarrow$ (1에 가까우면 거리가 가깝고 값이 작으면 거리가 먼 것이다. 거리가 가까우면 지지, 거리가 멀면 귀무가설을 지지하지 않는 것)\n",
    " \n",
    "     $P(t for H_a|H_0)$\n",
    "     \n",
    "     \n",
    "---\n",
    "#### 양측검정 유의확률\n",
    "\n",
    " - 통계량분포의 양 끝단의 면적을 구함\n",
    " \n",
    "  유의확률 $= 2min(F(t_0),1-F(t_0 - 1)$\n",
    "  \n",
    "#### 단측검정 유의확률\n",
    "\n",
    " 1) 우측검정 : 모수 $\\theta$가 특정한 값보다 크다는 것을 증명\n",
    " \n",
    "   유의확률 = $P(t \\geq t_0 | H_0) = 1-F(t_0)$\n",
    "   \n",
    "   - 이산확률분포\n",
    "   \n",
    "    유의확률 = $1-F(t_0 -1)$\n",
    "    \n",
    " 2) 좌측검정 : 모수 $\\theta$가 특정한 값보다 작다는 것을 증명\n",
    " \n",
    "   유의확률 = $P(t \\leq t_0 | H_0) = F(t_0)$\n",
    "   \n",
    "---\n",
    "## 유의확률이 작으면 귀무가설은 틀렸다. \n",
    "\n",
    " #### 유의확률이 유의수준보다 작으면 귀무가설을 기각하고 대립가설을 채택한다\n",
    " \n",
    "--- \n",
    "#### 기각역\n",
    "\n",
    " - P value를 모를 때, 범위를 구해서 기각인지 채택인지 판단 가능"
   ]
  },
  {
   "cell_type": "markdown",
   "metadata": {},
   "source": [
    "---\n",
    "\n",
    "### scipy를 이용한 검정\n",
    "\n",
    "- 이항검정(Binomial Test)\n",
    "- 카이제곱검정(Chi-squared Test)\n",
    "- 카이제곱 독립검정(Chi-squared Contingency Test)\n",
    "- 단일표본 z검정(One-sample z-Test)\n",
    "- 단일표본 t검정(One-sample t-Test)\n",
    "- 독립표본 t검정(Independent two-sample t-Test)\n",
    "- 대응표본 t검정(Paired two-sample t-Test)\n",
    "- 등분산검정(Equal-variance Test)\n",
    "- 정규성검정(Normality Test)"
   ]
  },
  {
   "cell_type": "markdown",
   "metadata": {},
   "source": [
    "#### 이항검정 \n",
    "\n",
    " - binom_test\n",
    " \n",
    "sp.stats.binom_test(x, n = None, p=0.5,alternative = 'two-sided')\n",
    "\n",
    "- x : 검정 통계량, 1이 나온 횟수\n",
    "- n : 총 시도 횟수\n",
    "- p : 귀무가설의 $\\mu$ 값\n",
    "- alternative : 'two-sided', 'one-sided'"
   ]
  },
  {
   "cell_type": "code",
   "execution_count": 2,
   "metadata": {},
   "outputs": [],
   "source": [
    "import scipy as sp"
   ]
  },
  {
   "cell_type": "code",
   "execution_count": 2,
   "metadata": {},
   "outputs": [
    {
     "data": {
      "text/plain": [
       "7"
      ]
     },
     "execution_count": 2,
     "metadata": {},
     "output_type": "execute_result"
    }
   ],
   "source": [
    "N = 10\n",
    "mu_0 = 0.5\n",
    "np.random.seed(0)\n",
    "x = sp.stats.bernoulli(mu_0).rvs(N)\n",
    "n = np.count_nonzero(x)\n",
    "n"
   ]
  },
  {
   "cell_type": "code",
   "execution_count": 3,
   "metadata": {},
   "outputs": [
    {
     "data": {
      "text/plain": [
       "0.3437499999999999"
      ]
     },
     "execution_count": 3,
     "metadata": {},
     "output_type": "execute_result"
    }
   ],
   "source": [
    "sp.stats.binom_test(n,N)"
   ]
  },
  {
   "cell_type": "markdown",
   "metadata": {},
   "source": [
    "---"
   ]
  },
  {
   "cell_type": "code",
   "execution_count": 4,
   "metadata": {},
   "outputs": [
    {
     "data": {
      "text/plain": [
       "49"
      ]
     },
     "execution_count": 4,
     "metadata": {},
     "output_type": "execute_result"
    }
   ],
   "source": [
    "N = 100\n",
    "mu_0 = 0.5\n",
    "np.random.seed(0)\n",
    "x = sp.stats.bernoulli(mu_0).rvs(N)\n",
    "n = np.count_nonzero(x)\n",
    "n"
   ]
  },
  {
   "cell_type": "code",
   "execution_count": 5,
   "metadata": {},
   "outputs": [
    {
     "data": {
      "text/plain": [
       "0.9204107626128206"
      ]
     },
     "execution_count": 5,
     "metadata": {},
     "output_type": "execute_result"
    }
   ],
   "source": [
    "sp.stats.binom_test(n,N)"
   ]
  },
  {
   "cell_type": "markdown",
   "metadata": {},
   "source": [
    "---"
   ]
  },
  {
   "cell_type": "code",
   "execution_count": 6,
   "metadata": {},
   "outputs": [
    {
     "data": {
      "text/plain": [
       "9"
      ]
     },
     "execution_count": 6,
     "metadata": {},
     "output_type": "execute_result"
    }
   ],
   "source": [
    "N1 = 10\n",
    "mu_0 = 0.1\n",
    "np.random.seed(0)\n",
    "x = sp.stats.bernoulli(mu_0).rvs(N)\n",
    "n = np.count_nonzero(x)\n",
    "n"
   ]
  },
  {
   "cell_type": "code",
   "execution_count": 7,
   "metadata": {},
   "outputs": [
    {
     "name": "stdout",
     "output_type": "stream",
     "text": [
      "N = 10 일때 공정한 경우 : 앞면이 나온 횟수가 2~8일때\n"
     ]
    }
   ],
   "source": [
    "pvalue1 = np.array([sp.stats.binom_test(n,N1) for n in range(N1+1)])\n",
    "fair_range1, = np.where(pvalue1 > 0.1)\n",
    "fair_range1, fair_end1 = fair_range1[0], fair_range1[-1]\n",
    "\n",
    "print(f\"N = {N1} 일때 공정한 경우 : 앞면이 나온 횟수가 {fair_range1}~{fair_end1}일때\")"
   ]
  },
  {
   "cell_type": "code",
   "execution_count": 8,
   "metadata": {},
   "outputs": [
    {
     "data": {
      "text/plain": [
       "9"
      ]
     },
     "execution_count": 8,
     "metadata": {},
     "output_type": "execute_result"
    }
   ],
   "source": [
    "N2 = 1000\n",
    "mu_0 = 0.1\n",
    "np.random.seed(0)\n",
    "x = sp.stats.bernoulli(mu_0).rvs(N)\n",
    "n = np.count_nonzero(x)\n",
    "n"
   ]
  },
  {
   "cell_type": "code",
   "execution_count": 9,
   "metadata": {},
   "outputs": [
    {
     "name": "stdout",
     "output_type": "stream",
     "text": [
      "N = 1000 일때 공정한 경우 : 앞면이 나온 횟수가 474~526일때\n"
     ]
    }
   ],
   "source": [
    "pvalue2 = np.array([sp.stats.binom_test(n,N2) for n in range(N2+1)])\n",
    "fair_range2, = np.where(pvalue2 > 0.1)\n",
    "fair_range2, fair_end2 = fair_range2[0], fair_range2[-1]\n",
    "\n",
    "print(f\"N = {N2} 일때 공정한 경우 : 앞면이 나온 횟수가 {fair_range2}~{fair_end2}일때\")"
   ]
  },
  {
   "cell_type": "code",
   "execution_count": 11,
   "metadata": {},
   "outputs": [],
   "source": [
    "plt.rcParams['axes.grid'] = True\n",
    "plt.rcParams['figure.figsize'] = (10, 5)"
   ]
  },
  {
   "cell_type": "code",
   "execution_count": 12,
   "metadata": {},
   "outputs": [
    {
     "data": {
      "image/png": "[encoded data removed]",
      "text/plain": [
       "<Figure size 720x360 with 2 Axes>"
      ]
     },
     "metadata": {
      "image/png": {
       "height": 350,
       "width": 719
      },
      "needs_background": "light"
     },
     "output_type": "display_data"
    }
   ],
   "source": [
    "plt.subplot(211)\n",
    "plt.plot(pvalue1, 'r-')\n",
    "plt.hlines(y = 0.1 , xmin = 0, xmax = N1+1, ls = '--')\n",
    "plt.xlim(0,N1)\n",
    "plt.title(f\"N={N1}일 때 유의확률\")\n",
    "plt.subplot(212)\n",
    "plt.plot(pvalue2, 'r-')\n",
    "plt.hlines(y = 0.1 , xmin = 0, xmax = N2+1, ls = '--')\n",
    "plt.xlim(0,N2)\n",
    "plt.title(f\"N={N2}일 때 유의확률\")\n",
    "plt.xlabel(\"앞면이 나온 횟수\")\n",
    "plt.tight_layout()\n",
    "plt.show()"
   ]
  },
  {
   "cell_type": "code",
   "execution_count": 14,
   "metadata": {},
   "outputs": [
    {
     "data": {
      "text/html": [
       "<div>\n",
       "<style scoped>\n",
       "    .dataframe tbody tr th:only-of-type {\n",
       "        vertical-align: middle;\n",
       "    }\n",
       "\n",
       "    .dataframe tbody tr th {\n",
       "        vertical-align: top;\n",
       "    }\n",
       "\n",
       "    .dataframe thead th {\n",
       "        text-align: right;\n",
       "    }\n",
       "</style>\n",
       "<table border=\"1\" class=\"dataframe\">\n",
       "  <thead>\n",
       "    <tr style=\"text-align: right;\">\n",
       "      <th></th>\n",
       "      <th>total_bill</th>\n",
       "      <th>tip</th>\n",
       "      <th>sex</th>\n",
       "      <th>smoker</th>\n",
       "      <th>day</th>\n",
       "      <th>time</th>\n",
       "      <th>size</th>\n",
       "    </tr>\n",
       "  </thead>\n",
       "  <tbody>\n",
       "    <tr>\n",
       "      <th>0</th>\n",
       "      <td>16.99</td>\n",
       "      <td>1.01</td>\n",
       "      <td>Female</td>\n",
       "      <td>No</td>\n",
       "      <td>Sun</td>\n",
       "      <td>Dinner</td>\n",
       "      <td>2</td>\n",
       "    </tr>\n",
       "    <tr>\n",
       "      <th>1</th>\n",
       "      <td>10.34</td>\n",
       "      <td>1.66</td>\n",
       "      <td>Male</td>\n",
       "      <td>No</td>\n",
       "      <td>Sun</td>\n",
       "      <td>Dinner</td>\n",
       "      <td>3</td>\n",
       "    </tr>\n",
       "    <tr>\n",
       "      <th>2</th>\n",
       "      <td>21.01</td>\n",
       "      <td>3.50</td>\n",
       "      <td>Male</td>\n",
       "      <td>No</td>\n",
       "      <td>Sun</td>\n",
       "      <td>Dinner</td>\n",
       "      <td>3</td>\n",
       "    </tr>\n",
       "    <tr>\n",
       "      <th>3</th>\n",
       "      <td>23.68</td>\n",
       "      <td>3.31</td>\n",
       "      <td>Male</td>\n",
       "      <td>No</td>\n",
       "      <td>Sun</td>\n",
       "      <td>Dinner</td>\n",
       "      <td>2</td>\n",
       "    </tr>\n",
       "    <tr>\n",
       "      <th>4</th>\n",
       "      <td>24.59</td>\n",
       "      <td>3.61</td>\n",
       "      <td>Female</td>\n",
       "      <td>No</td>\n",
       "      <td>Sun</td>\n",
       "      <td>Dinner</td>\n",
       "      <td>4</td>\n",
       "    </tr>\n",
       "    <tr>\n",
       "      <th>...</th>\n",
       "      <td>...</td>\n",
       "      <td>...</td>\n",
       "      <td>...</td>\n",
       "      <td>...</td>\n",
       "      <td>...</td>\n",
       "      <td>...</td>\n",
       "      <td>...</td>\n",
       "    </tr>\n",
       "    <tr>\n",
       "      <th>239</th>\n",
       "      <td>29.03</td>\n",
       "      <td>5.92</td>\n",
       "      <td>Male</td>\n",
       "      <td>No</td>\n",
       "      <td>Sat</td>\n",
       "      <td>Dinner</td>\n",
       "      <td>3</td>\n",
       "    </tr>\n",
       "    <tr>\n",
       "      <th>240</th>\n",
       "      <td>27.18</td>\n",
       "      <td>2.00</td>\n",
       "      <td>Female</td>\n",
       "      <td>Yes</td>\n",
       "      <td>Sat</td>\n",
       "      <td>Dinner</td>\n",
       "      <td>2</td>\n",
       "    </tr>\n",
       "    <tr>\n",
       "      <th>241</th>\n",
       "      <td>22.67</td>\n",
       "      <td>2.00</td>\n",
       "      <td>Male</td>\n",
       "      <td>Yes</td>\n",
       "      <td>Sat</td>\n",
       "      <td>Dinner</td>\n",
       "      <td>2</td>\n",
       "    </tr>\n",
       "    <tr>\n",
       "      <th>242</th>\n",
       "      <td>17.82</td>\n",
       "      <td>1.75</td>\n",
       "      <td>Male</td>\n",
       "      <td>No</td>\n",
       "      <td>Sat</td>\n",
       "      <td>Dinner</td>\n",
       "      <td>2</td>\n",
       "    </tr>\n",
       "    <tr>\n",
       "      <th>243</th>\n",
       "      <td>18.78</td>\n",
       "      <td>3.00</td>\n",
       "      <td>Female</td>\n",
       "      <td>No</td>\n",
       "      <td>Thur</td>\n",
       "      <td>Dinner</td>\n",
       "      <td>2</td>\n",
       "    </tr>\n",
       "  </tbody>\n",
       "</table>\n",
       "<p>244 rows × 7 columns</p>\n",
       "</div>"
      ],
      "text/plain": [
       "     total_bill   tip     sex smoker   day    time  size\n",
       "0         16.99  1.01  Female     No   Sun  Dinner     2\n",
       "1         10.34  1.66    Male     No   Sun  Dinner     3\n",
       "2         21.01  3.50    Male     No   Sun  Dinner     3\n",
       "3         23.68  3.31    Male     No   Sun  Dinner     2\n",
       "4         24.59  3.61  Female     No   Sun  Dinner     4\n",
       "..          ...   ...     ...    ...   ...     ...   ...\n",
       "239       29.03  5.92    Male     No   Sat  Dinner     3\n",
       "240       27.18  2.00  Female    Yes   Sat  Dinner     2\n",
       "241       22.67  2.00    Male    Yes   Sat  Dinner     2\n",
       "242       17.82  1.75    Male     No   Sat  Dinner     2\n",
       "243       18.78  3.00  Female     No  Thur  Dinner     2\n",
       "\n",
       "[244 rows x 7 columns]"
      ]
     },
     "execution_count": 14,
     "metadata": {},
     "output_type": "execute_result"
    }
   ],
   "source": [
    "tips = sns.load_dataset(\"tips\")\n",
    "tips"
   ]
  },
  {
   "cell_type": "code",
   "execution_count": 16,
   "metadata": {},
   "outputs": [
    {
     "data": {
      "text/plain": [
       "No     54\n",
       "Yes    33\n",
       "Name: smoker, dtype: int64"
      ]
     },
     "execution_count": 16,
     "metadata": {},
     "output_type": "execute_result"
    }
   ],
   "source": [
    "tips[tips['sex'] == 'Female'].smoker.value_counts()"
   ]
  },
  {
   "cell_type": "code",
   "execution_count": 17,
   "metadata": {},
   "outputs": [
    {
     "data": {
      "text/plain": [
       "0.015709055116923068"
      ]
     },
     "execution_count": 17,
     "metadata": {},
     "output_type": "execute_result"
    }
   ],
   "source": [
    "sp.stats.binom_test(54,54+33, alternative='greater')"
   ]
  },
  {
   "cell_type": "code",
   "execution_count": 19,
   "metadata": {},
   "outputs": [
    {
     "data": {
      "text/plain": [
       "No     29\n",
       "Yes    23\n",
       "Name: smoker, dtype: int64"
      ]
     },
     "execution_count": 19,
     "metadata": {},
     "output_type": "execute_result"
    }
   ],
   "source": [
    "tips[(tips['sex'] == 'Female')&(tips['time'] == 'Dinner')].smoker.value_counts()"
   ]
  }
 ],
 "metadata": {
  "kernelspec": {
   "display_name": "Python 3",
   "language": "python",
   "name": "python3"
  },
  "language_info": {
   "codemirror_mode": {
    "name": "ipython",
    "version": 3
   },
   "file_extension": ".py",
   "mimetype": "text/x-python",
   "name": "python",
   "nbconvert_exporter": "python",
   "pygments_lexer": "ipython3",
   "version": "3.7.6"
  }
 },
 "nbformat": 4,
 "nbformat_minor": 4
}
