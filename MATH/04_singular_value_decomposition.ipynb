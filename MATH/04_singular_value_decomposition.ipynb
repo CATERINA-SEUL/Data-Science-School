{
  "nbformat": 4,
  "nbformat_minor": 0,
  "metadata": {
    "kernelspec": {
      "display_name": "Python 3",
      "language": "python",
      "name": "python3"
    },
    "language_info": {
      "codemirror_mode": {
        "name": "ipython",
        "version": 3
      },
      "file_extension": ".py",
      "mimetype": "text/x-python",
      "name": "python",
      "nbconvert_exporter": "python",
      "pygments_lexer": "ipython3",
      "version": "3.7.3"
    },
    "colab": {
      "name": "04_singular value decomposition.ipynb",
      "provenance": []
    }
  },
  "cells": [
    {
      "cell_type": "markdown",
      "metadata": {
        "id": "HOtxmevmzwOh",
        "colab_type": "text"
      },
      "source": [
        "### 특잇값 분해"
      ]
    },
    {
      "cell_type": "code",
      "metadata": {
        "id": "0eF7mUIZzwOh",
        "colab_type": "code",
        "colab": {}
      },
      "source": [
        "from numpy.linalg import svd"
      ],
      "execution_count": 0,
      "outputs": []
    },
    {
      "cell_type": "code",
      "metadata": {
        "id": "F9PzpwXzzwOj",
        "colab_type": "code",
        "colab": {}
      },
      "source": [
        "A = np.array([[3,-1],[1,3],[1,1]])\n",
        "U, S, VT = svd(A)"
      ],
      "execution_count": 0,
      "outputs": []
    },
    {
      "cell_type": "code",
      "metadata": {
        "id": "4vm-PdtczwOm",
        "colab_type": "code",
        "outputId": "d9bbd11b-6192-499e-ffa0-78d962b63a86",
        "colab": {}
      },
      "source": [
        "U"
      ],
      "execution_count": 0,
      "outputs": [
        {
          "output_type": "execute_result",
          "data": {
            "text/plain": [
              "array([[-4.08248290e-01,  8.94427191e-01, -1.82574186e-01],\n",
              "       [-8.16496581e-01, -4.47213595e-01, -3.65148372e-01],\n",
              "       [-4.08248290e-01, -1.94289029e-16,  9.12870929e-01]])"
            ]
          },
          "metadata": {
            "tags": []
          },
          "execution_count": 5
        }
      ]
    },
    {
      "cell_type": "code",
      "metadata": {
        "id": "71QZ-prWzwOo",
        "colab_type": "code",
        "outputId": "a653aa8c-d1c7-4603-ec71-b059896bcafa",
        "colab": {}
      },
      "source": [
        "S"
      ],
      "execution_count": 0,
      "outputs": [
        {
          "output_type": "execute_result",
          "data": {
            "text/plain": [
              "array([3.46410162, 3.16227766])"
            ]
          },
          "metadata": {
            "tags": []
          },
          "execution_count": 6
        }
      ]
    },
    {
      "cell_type": "code",
      "metadata": {
        "id": "cI2j_y6VzwOq",
        "colab_type": "code",
        "outputId": "1dc71a60-31fc-4373-8bfa-07a6d5a5a28a",
        "colab": {}
      },
      "source": [
        "VT"
      ],
      "execution_count": 0,
      "outputs": [
        {
          "output_type": "execute_result",
          "data": {
            "text/plain": [
              "array([[-0.70710678, -0.70710678],\n",
              "       [ 0.70710678, -0.70710678]])"
            ]
          },
          "metadata": {
            "tags": []
          },
          "execution_count": 7
        }
      ]
    },
    {
      "cell_type": "code",
      "metadata": {
        "id": "Q7gsGTirzwOs",
        "colab_type": "code",
        "outputId": "cd846546-6475-4289-93f2-ab9b8e630005",
        "colab": {}
      },
      "source": [
        "# 다이어분할을 지정하는 1 == 대각화를 실행할 때 한 칸 올려서 실행해라.\n",
        "\n",
        "np.diag(S,1)[:,1:]"
      ],
      "execution_count": 0,
      "outputs": [
        {
          "output_type": "execute_result",
          "data": {
            "text/plain": [
              "array([[3.46410162, 0.        ],\n",
              "       [0.        , 3.16227766],\n",
              "       [0.        , 0.        ]])"
            ]
          },
          "metadata": {
            "tags": []
          },
          "execution_count": 35
        }
      ]
    },
    {
      "cell_type": "code",
      "metadata": {
        "id": "BDt-btZ7zwOu",
        "colab_type": "code",
        "outputId": "8c57f197-553b-41db-a9f2-91e10723de9a",
        "colab": {}
      },
      "source": [
        "U @ np.diag(S,1)[:,1:] @ VT"
      ],
      "execution_count": 0,
      "outputs": [
        {
          "output_type": "execute_result",
          "data": {
            "text/plain": [
              "array([[ 3., -1.],\n",
              "       [ 1.,  3.],\n",
              "       [ 1.,  1.]])"
            ]
          },
          "metadata": {
            "tags": []
          },
          "execution_count": 9
        }
      ]
    },
    {
      "cell_type": "code",
      "metadata": {
        "id": "ZlAlLnP7zwOx",
        "colab_type": "code",
        "colab": {}
      },
      "source": [
        "U2, S2, VT2 = svd(A, full_matrices=False)"
      ],
      "execution_count": 0,
      "outputs": []
    },
    {
      "cell_type": "code",
      "metadata": {
        "id": "gwLyTdkEzwOz",
        "colab_type": "code",
        "outputId": "f0024820-cf2a-4e6c-c022-c95d1e2fc68a",
        "colab": {}
      },
      "source": [
        "U2"
      ],
      "execution_count": 0,
      "outputs": [
        {
          "output_type": "execute_result",
          "data": {
            "text/plain": [
              "array([[-4.08248290e-01,  8.94427191e-01],\n",
              "       [-8.16496581e-01, -4.47213595e-01],\n",
              "       [-4.08248290e-01, -1.94289029e-16]])"
            ]
          },
          "metadata": {
            "tags": []
          },
          "execution_count": 11
        }
      ]
    },
    {
      "cell_type": "code",
      "metadata": {
        "id": "i59OTNakzwO1",
        "colab_type": "code",
        "outputId": "f54fe989-76d4-465a-c396-f3be0eca9e1e",
        "colab": {}
      },
      "source": [
        "S2"
      ],
      "execution_count": 0,
      "outputs": [
        {
          "output_type": "execute_result",
          "data": {
            "text/plain": [
              "array([3.46410162, 3.16227766])"
            ]
          },
          "metadata": {
            "tags": []
          },
          "execution_count": 12
        }
      ]
    },
    {
      "cell_type": "code",
      "metadata": {
        "id": "LL_D2L6SzwO4",
        "colab_type": "code",
        "outputId": "2de00e16-6742-4e7c-c020-f87de442f010",
        "colab": {}
      },
      "source": [
        "VT2"
      ],
      "execution_count": 0,
      "outputs": [
        {
          "output_type": "execute_result",
          "data": {
            "text/plain": [
              "array([[-0.70710678, -0.70710678],\n",
              "       [ 0.70710678, -0.70710678]])"
            ]
          },
          "metadata": {
            "tags": []
          },
          "execution_count": 13
        }
      ]
    },
    {
      "cell_type": "code",
      "metadata": {
        "id": "Ibn7ID42zwO6",
        "colab_type": "code",
        "outputId": "9cd0d972-c1f5-4f98-caa5-ea0791390c5b",
        "colab": {}
      },
      "source": [
        "U2 @ np.diag(S2) @ VT2"
      ],
      "execution_count": 0,
      "outputs": [
        {
          "output_type": "execute_result",
          "data": {
            "text/plain": [
              "array([[ 3., -1.],\n",
              "       [ 1.,  3.],\n",
              "       [ 1.,  1.]])"
            ]
          },
          "metadata": {
            "tags": []
          },
          "execution_count": 14
        }
      ]
    },
    {
      "cell_type": "code",
      "metadata": {
        "id": "WT3x9JUpzwO9",
        "colab_type": "code",
        "colab": {}
      },
      "source": [
        "B = np.array([[3,2,2],[2,3,-2]])\n",
        "C = np.array([[2,4],[1,3],[0,0],[0,0]])"
      ],
      "execution_count": 0,
      "outputs": []
    },
    {
      "cell_type": "code",
      "metadata": {
        "id": "_zDPLQpqzwO_",
        "colab_type": "code",
        "colab": {}
      },
      "source": [
        "U3, S3, VT3 = svd(B)\n",
        "U4, S4, VT4 = svd(B, full_matrices=False)"
      ],
      "execution_count": 0,
      "outputs": []
    },
    {
      "cell_type": "code",
      "metadata": {
        "id": "Vagyg22DzwPB",
        "colab_type": "code",
        "outputId": "8b043d30-994e-4658-f3fb-b3cfd990e2a5",
        "colab": {}
      },
      "source": [
        "U3"
      ],
      "execution_count": 0,
      "outputs": [
        {
          "output_type": "execute_result",
          "data": {
            "text/plain": [
              "array([[-0.70710678, -0.70710678],\n",
              "       [-0.70710678,  0.70710678]])"
            ]
          },
          "metadata": {
            "tags": []
          },
          "execution_count": 17
        }
      ]
    },
    {
      "cell_type": "code",
      "metadata": {
        "id": "HegQVtOOzwPD",
        "colab_type": "code",
        "outputId": "bc07b566-df72-4778-c7dc-d3e87b385c80",
        "colab": {}
      },
      "source": [
        "U4"
      ],
      "execution_count": 0,
      "outputs": [
        {
          "output_type": "execute_result",
          "data": {
            "text/plain": [
              "array([[-0.70710678, -0.70710678],\n",
              "       [-0.70710678,  0.70710678]])"
            ]
          },
          "metadata": {
            "tags": []
          },
          "execution_count": 18
        }
      ]
    },
    {
      "cell_type": "code",
      "metadata": {
        "id": "sYlSSapUzwPG",
        "colab_type": "code",
        "outputId": "b42e8146-441a-40ff-a72b-b0cfa61dcb77",
        "colab": {}
      },
      "source": [
        "np.diag(S3,-1)[1:,:]"
      ],
      "execution_count": 0,
      "outputs": [
        {
          "output_type": "execute_result",
          "data": {
            "text/plain": [
              "array([[5., 0., 0.],\n",
              "       [0., 3., 0.]])"
            ]
          },
          "metadata": {
            "tags": []
          },
          "execution_count": 19
        }
      ]
    },
    {
      "cell_type": "code",
      "metadata": {
        "id": "crtainenzwPI",
        "colab_type": "code",
        "outputId": "780232a4-e7d6-4f8d-8167-5c3a4eeebb38",
        "colab": {}
      },
      "source": [
        "S4"
      ],
      "execution_count": 0,
      "outputs": [
        {
          "output_type": "execute_result",
          "data": {
            "text/plain": [
              "array([5., 3.])"
            ]
          },
          "metadata": {
            "tags": []
          },
          "execution_count": 20
        }
      ]
    },
    {
      "cell_type": "code",
      "metadata": {
        "id": "ta56c_oLzwPK",
        "colab_type": "code",
        "outputId": "f94be3fa-5263-4b16-c3b8-f2f91e328b8f",
        "colab": {}
      },
      "source": [
        "VT3"
      ],
      "execution_count": 0,
      "outputs": [
        {
          "output_type": "execute_result",
          "data": {
            "text/plain": [
              "array([[-7.07106781e-01, -7.07106781e-01, -5.55111512e-17],\n",
              "       [-2.35702260e-01,  2.35702260e-01, -9.42809042e-01],\n",
              "       [-6.66666667e-01,  6.66666667e-01,  3.33333333e-01]])"
            ]
          },
          "metadata": {
            "tags": []
          },
          "execution_count": 21
        }
      ]
    },
    {
      "cell_type": "code",
      "metadata": {
        "id": "pPhS8w8IzwPM",
        "colab_type": "code",
        "outputId": "d251b48f-9431-408c-f71c-140a295723ba",
        "colab": {}
      },
      "source": [
        "VT4"
      ],
      "execution_count": 0,
      "outputs": [
        {
          "output_type": "execute_result",
          "data": {
            "text/plain": [
              "array([[-7.07106781e-01, -7.07106781e-01, -5.55111512e-17],\n",
              "       [-2.35702260e-01,  2.35702260e-01, -9.42809042e-01]])"
            ]
          },
          "metadata": {
            "tags": []
          },
          "execution_count": 22
        }
      ]
    },
    {
      "cell_type": "code",
      "metadata": {
        "id": "D1Iya-mszwPN",
        "colab_type": "code",
        "outputId": "210dd48e-ff60-4d4a-b193-3bc0a562c1cc",
        "colab": {}
      },
      "source": [
        "np.diag(S3)"
      ],
      "execution_count": 0,
      "outputs": [
        {
          "output_type": "execute_result",
          "data": {
            "text/plain": [
              "array([[5., 0.],\n",
              "       [0., 3.]])"
            ]
          },
          "metadata": {
            "tags": []
          },
          "execution_count": 23
        }
      ]
    },
    {
      "cell_type": "code",
      "metadata": {
        "id": "XoyaRf9_zwPR",
        "colab_type": "code",
        "outputId": "8c0ee089-3909-470c-c57d-20323a40db81",
        "colab": {}
      },
      "source": [
        "U3 @ np.diag(S3,-1)[1:,:] @ VT3"
      ],
      "execution_count": 0,
      "outputs": [
        {
          "output_type": "execute_result",
          "data": {
            "text/plain": [
              "array([[ 3.,  2.,  2.],\n",
              "       [ 2.,  3., -2.]])"
            ]
          },
          "metadata": {
            "tags": []
          },
          "execution_count": 24
        }
      ]
    },
    {
      "cell_type": "code",
      "metadata": {
        "id": "_eVxPX7_zwPU",
        "colab_type": "code",
        "outputId": "28c4560b-4824-472f-99ed-80961219d455",
        "colab": {}
      },
      "source": [
        "U4 @ np.diag(S4) @ VT4"
      ],
      "execution_count": 0,
      "outputs": [
        {
          "output_type": "execute_result",
          "data": {
            "text/plain": [
              "array([[ 3.,  2.,  2.],\n",
              "       [ 2.,  3., -2.]])"
            ]
          },
          "metadata": {
            "tags": []
          },
          "execution_count": 25
        }
      ]
    },
    {
      "cell_type": "code",
      "metadata": {
        "id": "chM_Mmz9zwPX",
        "colab_type": "code",
        "colab": {}
      },
      "source": [
        "U5, S5, VT5 = svd(C)\n",
        "U6, S6, VT6 = svd(C, full_matrices=False)"
      ],
      "execution_count": 0,
      "outputs": []
    },
    {
      "cell_type": "code",
      "metadata": {
        "id": "krw0BJnnzwPb",
        "colab_type": "code",
        "outputId": "4b49da9c-f77f-43f4-b52c-7ca7616bb2dd",
        "colab": {}
      },
      "source": [
        "print(U5)\n",
        "print(np.diag(S5,2)[:,2:])\n",
        "print(VT5)\n",
        "print(U5 @ np.diag(S5,2)[:,2:]@VT5)"
      ],
      "execution_count": 0,
      "outputs": [
        {
          "output_type": "stream",
          "text": [
            "[[-0.81741556 -0.57604844  0.          0.        ]\n",
            " [-0.57604844  0.81741556  0.          0.        ]\n",
            " [ 0.          0.          1.          0.        ]\n",
            " [ 0.          0.          0.          1.        ]]\n",
            "[[5.4649857  0.        ]\n",
            " [0.         0.36596619]\n",
            " [0.         0.        ]\n",
            " [0.         0.        ]]\n",
            "[[-0.40455358 -0.9145143 ]\n",
            " [-0.9145143   0.40455358]]\n",
            "[[2. 4.]\n",
            " [1. 3.]\n",
            " [0. 0.]\n",
            " [0. 0.]]\n"
          ],
          "name": "stdout"
        }
      ]
    },
    {
      "cell_type": "code",
      "metadata": {
        "id": "PcmZwvCmzwPe",
        "colab_type": "code",
        "outputId": "32323271-98be-4083-80d7-473bb10d8c8e",
        "colab": {}
      },
      "source": [
        "print(U6)\n",
        "print(np.diag(S6))\n",
        "print(VT6)\n",
        "print(U6 @ np.diag(S6) @ VT6)"
      ],
      "execution_count": 0,
      "outputs": [
        {
          "output_type": "stream",
          "text": [
            "[[-0.81741556 -0.57604844]\n",
            " [-0.57604844  0.81741556]\n",
            " [ 0.          0.        ]\n",
            " [ 0.          0.        ]]\n",
            "[[5.4649857  0.        ]\n",
            " [0.         0.36596619]]\n",
            "[[-0.40455358 -0.9145143 ]\n",
            " [-0.9145143   0.40455358]]\n",
            "[[2. 4.]\n",
            " [1. 3.]\n",
            " [0. 0.]\n",
            " [0. 0.]]\n"
          ],
          "name": "stdout"
        }
      ]
    },
    {
      "cell_type": "code",
      "metadata": {
        "id": "urckprP5zwPg",
        "colab_type": "code",
        "colab": {}
      },
      "source": [
        ""
      ],
      "execution_count": 0,
      "outputs": []
    }
  ]
}