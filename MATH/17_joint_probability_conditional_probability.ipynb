{
 "cells": [
  {
   "cell_type": "markdown",
   "metadata": {},
   "source": [
    "### 콜모고로프의 공리\n",
    "\n",
    " 1) 모든 사건에 대해 확률은 실수이고 0 또는 양수이다.\n",
    " \n",
    "  - $P(A) \\geq 0$\n",
    "  \n",
    "  \n",
    " 2) 표본공간(전체집합) 이라는 사건(부분집합)에대 대한 확률은 1이다.\n",
    " \n",
    "  - $P(\\Omega) = 1$\n",
    "  \n",
    "  \n",
    " 3) 공통원소가 없는 두 사건의 합집합의 확률은 사건별 확률의 합이다\n",
    " \n",
    "  - $A\\cap B = \\emptyset \\rightarrow P(A\\cup B) = P(A) + P(B)$\n",
    "  \n",
    "  \n",
    "  \n",
    "-----\n",
    "\n",
    "### 확률 성질 요약\n",
    "\n",
    " 1) 공집합의 확률\n",
    " \n",
    "  - $P(0) = \\emptyset$\n",
    "  \n",
    "  \n",
    " 2) 여집합의 확률\n",
    " \n",
    " - $P(A\\complement) = 1-P(A)$\n",
    " \n",
    " \n",
    " 3) 포함 배제의 원리\n",
    " \n",
    " - $P(A\\cup B) = P(A) + P(B) - P(A\\cap B) $\n",
    " \n",
    " \n",
    " 4) 전체확률의 법칙\n",
    " \n",
    " - $P(A) = \\sum_i(A,C_i)$\n",
    " \n",
    " \n",
    "----\n",
    "\n",
    "### 확률 분포\n",
    "\n",
    " - 표본의 개수가 유한한 경우 : 단순사건에 대한 정보만 전달하면 됨 \n",
    " \n",
    "     - 확률질량함수 : $P({a})$\n",
    "     \n",
    " - 표본의 개수가 무한한 경우 \n",
    " \n",
    "     - 구간 : 표본공간이 실수의 집합이면 사건은 시작점과 끝점이라는 두 숫자로 표현\n",
    "     \n",
    "         $A = {a < x \\leq b}$\n",
    "     \n",
    "     1) 누적분포함수 (cdf == $F(x)$)\n",
    "     \n",
    "         - $F(b) = F(a) + P(a,b)$\n",
    "      $\\rightarrow P(a,b) = F(b) - F(a)$ \n",
    "      \n",
    "     2) 확률밀도함수 (pdf) : $F(x)$ 를 미분하여, 도함수를 구해서 기울기 출력\n",
    "     \n",
    "         - $p(x) = \\frac{dF(x)}{dx}$\n",
    "         \n",
    "           - 누적분포함수와 확률밀도함수의 관계 $\\rightarrow$ 적분\n",
    "               - $F(x) = \\int^x_{-\\infty}p(u)du$\n",
    "           \n",
    "   ###### 확률 밀도 함수의 특징 \n",
    "         \n",
    "  1) 누적분포함수의 기울기가 음수가 될 수 없기 때문에 확률밀도함수는 0보다 크거나 같다.\n",
    "        \n",
    "      - $p(x) \\geq 0$\n",
    "      \n",
    "  2) $-\\infty$부터 $\\infty$까지 적분하면 표본공간$(-\\infty , \\infty)$의 확률이 되므로 값은 1이다.\n",
    "    \n",
    "      - $\\int^\\infty_{-\\infty} p(u)du = 1$\n",
    "      \n",
    "----"
   ]
  },
  {
   "cell_type": "markdown",
   "metadata": {},
   "source": [
    "### 결합확률과 조건부 확률\n",
    "\n",
    " - 결합확률 (joint probability)\n",
    " \n",
    "     - $P(A\\cap B) or P(A,B)$\n",
    " \n",
    " \n",
    " - 주변확률 (marginal probability)\n",
    " \n",
    "     - $P(A) , P(B)$\n",
    " \n",
    " \n",
    " - 조건부 확률 (100% 참) \n",
    " \n",
    "     - $P(A|B) = new P(A) if P(B) = 1$\n",
    "     \n",
    "     $ = \\frac{P(A,B)}{P(B)} = \\frac{P(Anew)}{P(\\Omega new)}$\n",
    "     \n",
    "     \n",
    " - 독립 (independent)\n",
    "     - 사건A와 사건B의 결합확률의 값이 $P(A,B) = P(A)P(B)$ 관계가 성립하면서 두 사건 $A$와 $B$는 서로 독립이라고 정의한다.\n",
    "     \n",
    "      - $P(A) = P(A|B)$\n",
    "      \n",
    "----\n",
    "\n",
    "#### 원인과 결과, 근거와 추론, 가정과 조건부 결론\n",
    "\n",
    " - 조건부확률 $P(A|B)$에서 사건 (주장/명제) B, A \n",
    " \n",
    "     1) 가정과 그 가정에 따른 조건부 결론\n",
    "     2) 원인과 결과\n",
    "     3) 근거와 추론\n",
    "     \n",
    "    $\\rightarrow P(A,B) = P(A|B)P(B)$ \n",
    "    \n",
    "   : A,B가 모두 발생할 확률은 B라는 사건이 발생할 확률과 그 사건이 발생한 경우 다시 A가 발생할 경우의 곱\n",
    "   \n",
    "   \n",
    "---\n",
    "\n",
    "#### 사슬법칙\n",
    "\n",
    " - $P(X_1,...,X_N) = P(X_1)\\prod^N_{i=2}P(N_i|X_1,...,X_{i-1})$\n",
    " \n",
    "----\n",
    "#### 확률변수 (random variable)\n",
    "\n",
    " - 확률적인 숫자를 출력하는 변수 ex) 랜덤박스"
   ]
  },
  {
   "cell_type": "markdown",
   "metadata": {},
   "source": [
    "----\n",
    "#### JointProbabilityDistribution(variables, cardinality, values)\n",
    "\n",
    " - variables : 확률변수의 이름, 문자열의리스트, 정의하려는 확률변수가 하나인 경우에도 리스트로 넣어야 한다.\n",
    " \n",
    " - cardinality : 각 확률변수의 표본 혹은 배타적 사건의 수의 리스트\n",
    " - values : 확률 변수의 모든 표본(조합)에 대한 (결합) 확률값의 리스트\n",
    " "
   ]
  },
  {
   "cell_type": "code",
   "execution_count": 8,
   "metadata": {},
   "outputs": [],
   "source": [
    "from pgmpy.factors.discrete import JointProbabilityDistribution as JPD"
   ]
  },
  {
   "cell_type": "code",
   "execution_count": 23,
   "metadata": {},
   "outputs": [
    {
     "name": "stdout",
     "output_type": "stream",
     "text": [
      "+------+--------+\n",
      "| X    |   P(X) |\n",
      "+======+========+\n",
      "| X(0) | 0.6000 |\n",
      "+------+--------+\n",
      "| X(1) | 0.4000 |\n",
      "+------+--------+\n"
     ]
    }
   ],
   "source": [
    "px = JPD(['X'], [2], np.array([12, 8]) / 20)\n",
    "print(px)"
   ]
  },
  {
   "cell_type": "code",
   "execution_count": 24,
   "metadata": {},
   "outputs": [
    {
     "name": "stdout",
     "output_type": "stream",
     "text": [
      "+------+--------+\n",
      "| Y    |   P(Y) |\n",
      "+======+========+\n",
      "| Y(0) | 0.5000 |\n",
      "+------+--------+\n",
      "| Y(1) | 0.5000 |\n",
      "+------+--------+\n"
     ]
    }
   ],
   "source": [
    "py = JPD(['Y'], [2], np.array([10, 10])/20)\n",
    "print(py)"
   ]
  },
  {
   "cell_type": "code",
   "execution_count": 25,
   "metadata": {},
   "outputs": [
    {
     "name": "stdout",
     "output_type": "stream",
     "text": [
      "+------+------+----------+\n",
      "| X    | Y    |   P(X,Y) |\n",
      "+======+======+==========+\n",
      "| X(0) | Y(0) |   0.1500 |\n",
      "+------+------+----------+\n",
      "| X(0) | Y(1) |   0.4500 |\n",
      "+------+------+----------+\n",
      "| X(1) | Y(0) |   0.3500 |\n",
      "+------+------+----------+\n",
      "| X(1) | Y(1) |   0.0500 |\n",
      "+------+------+----------+\n"
     ]
    }
   ],
   "source": [
    "pxy = JPD(['X', 'Y'], [2, 2], np.array([3, 9, 7, 1])/20)\n",
    "print(pxy)"
   ]
  },
  {
   "cell_type": "code",
   "execution_count": 26,
   "metadata": {},
   "outputs": [
    {
     "name": "stdout",
     "output_type": "stream",
     "text": [
      "+------+------+----------+\n",
      "| X    | Y    |   P(X,Y) |\n",
      "+======+======+==========+\n",
      "| X(0) | Y(0) |   0.3000 |\n",
      "+------+------+----------+\n",
      "| X(0) | Y(1) |   0.3000 |\n",
      "+------+------+----------+\n",
      "| X(1) | Y(0) |   0.2000 |\n",
      "+------+------+----------+\n",
      "| X(1) | Y(1) |   0.2000 |\n",
      "+------+------+----------+\n"
     ]
    }
   ],
   "source": [
    "pxy2 = JPD(['X', 'Y'], [2, 2], np.array([6, 6, 4, 4, ])/20)\n",
    "print(pxy2)"
   ]
  },
  {
   "cell_type": "markdown",
   "metadata": {},
   "source": [
    "----\n",
    "#### marginal_distribution() \n",
    "\n",
    " - 인수로 받은 확률변수에 대한 주변확률분포를 구함\n",
    " - $X$의 주변확률을 구해라\n",
    " \n",
    "----\n",
    "\n",
    " - 결합확률로 부터 주변확률 $P(A),P(A^\\complement)$ 를 계산"
   ]
  },
  {
   "cell_type": "code",
   "execution_count": 22,
   "metadata": {},
   "outputs": [
    {
     "name": "stdout",
     "output_type": "stream",
     "text": [
      "+------+--------+\n",
      "| X    |   P(X) |\n",
      "+======+========+\n",
      "| X(0) | 0.6000 |\n",
      "+------+--------+\n",
      "| X(1) | 0.4000 |\n",
      "+------+--------+\n"
     ]
    }
   ],
   "source": [
    "pmx = pxy.marginal_distribution(['X'], inplace=False)\n",
    "print(pmx)"
   ]
  },
  {
   "cell_type": "markdown",
   "metadata": {},
   "source": [
    "#### marginalize()\n",
    "\n",
    " - 인수로 받은 확률변수를 주변화(marginalize)하여 나머지 확률 변수에 대한 주변확률분포를 구한다.\n",
    " \n",
    " - $X$를 구하기 위해서 $Y$를 없애라! (== 배타적인 사건으로 써라)\n",
    "----\n",
    "\n",
    " - 결합확률로부터 $P(A) , P(A^\\complement)$ 를 계산"
   ]
  },
  {
   "cell_type": "code",
   "execution_count": 19,
   "metadata": {},
   "outputs": [
    {
     "name": "stdout",
     "output_type": "stream",
     "text": [
      "+------+--------+\n",
      "| X    |   P(X) |\n",
      "+======+========+\n",
      "| X(0) | 0.6000 |\n",
      "+------+--------+\n",
      "| X(1) | 0.4000 |\n",
      "+------+--------+\n"
     ]
    }
   ],
   "source": [
    "pmx = pxy.marginalize(['Y'], inplace=False)\n",
    "print(pmx)"
   ]
  },
  {
   "cell_type": "markdown",
   "metadata": {},
   "source": [
    "- 결합확률로부터 $P(B),P(B^\\complement)$를 계산"
   ]
  },
  {
   "cell_type": "code",
   "execution_count": 28,
   "metadata": {},
   "outputs": [
    {
     "name": "stdout",
     "output_type": "stream",
     "text": [
      "+------+--------+\n",
      "| Y    |   P(Y) |\n",
      "+======+========+\n",
      "| Y(0) | 0.5000 |\n",
      "+------+--------+\n",
      "| Y(1) | 0.5000 |\n",
      "+------+--------+\n"
     ]
    }
   ],
   "source": [
    "py = pxy.marginal_distribution(['Y'], inplace=False)\n",
    "print(pmy)"
   ]
  },
  {
   "cell_type": "code",
   "execution_count": 30,
   "metadata": {},
   "outputs": [
    {
     "name": "stdout",
     "output_type": "stream",
     "text": [
      "+------+--------+\n",
      "| Y    |   P(Y) |\n",
      "+======+========+\n",
      "| Y(0) | 0.5000 |\n",
      "+------+--------+\n",
      "| Y(1) | 0.5000 |\n",
      "+------+--------+\n"
     ]
    }
   ],
   "source": [
    "py = pxy.marginalize(['X'], inplace=False)\n",
    "print(py)"
   ]
  },
  {
   "cell_type": "markdown",
   "metadata": {},
   "source": [
    "#### conditional_distribution()\n",
    "\n",
    " - 어떤 확률변수가 어떤 사건이 되는 조건에 대해 조건부확률값을 계산\n",
    " \n",
    "---\n",
    "\n",
    " - 결합확률로부터 조건부확률 $P(B|A),P(B^\\complement|A)$ 를 계산"
   ]
  },
  {
   "cell_type": "code",
   "execution_count": 32,
   "metadata": {},
   "outputs": [
    {
     "name": "stdout",
     "output_type": "stream",
     "text": [
      "+------+--------+\n",
      "| Y    |   P(Y) |\n",
      "+======+========+\n",
      "| Y(0) | 0.2500 |\n",
      "+------+--------+\n",
      "| Y(1) | 0.7500 |\n",
      "+------+--------+\n"
     ]
    }
   ],
   "source": [
    "py_on_x0 = pxy.conditional_distribution([('X', 0)], inplace=False)\n",
    "print(py_on_x0)"
   ]
  },
  {
   "cell_type": "markdown",
   "metadata": {},
   "source": [
    " - 결합확률로부터 조건부확률 $P(B|A^\\complement),P(B^\\complement|A^\\complement)$ 를 계산"
   ]
  },
  {
   "cell_type": "code",
   "execution_count": 33,
   "metadata": {},
   "outputs": [
    {
     "name": "stdout",
     "output_type": "stream",
     "text": [
      "+------+--------+\n",
      "| Y    |   P(Y) |\n",
      "+======+========+\n",
      "| Y(0) | 0.8750 |\n",
      "+------+--------+\n",
      "| Y(1) | 0.1250 |\n",
      "+------+--------+\n"
     ]
    }
   ],
   "source": [
    "py_on_x1 = pxy.conditional_distribution([('X', 1)], inplace=False)\n",
    "print(py_on_x1)"
   ]
  },
  {
   "cell_type": "markdown",
   "metadata": {},
   "source": [
    " - 결합확률로부터 조건부확률 $P(A|B),P(A^\\complement|B)$ 를 계산"
   ]
  },
  {
   "cell_type": "code",
   "execution_count": 34,
   "metadata": {},
   "outputs": [
    {
     "name": "stdout",
     "output_type": "stream",
     "text": [
      "+------+--------+\n",
      "| X    |   P(X) |\n",
      "+======+========+\n",
      "| X(0) | 0.3000 |\n",
      "+------+--------+\n",
      "| X(1) | 0.7000 |\n",
      "+------+--------+\n"
     ]
    }
   ],
   "source": [
    "px_on_y0 = pxy.conditional_distribution([('Y', 0)], inplace=False)\n",
    "print(px_on_y0)"
   ]
  },
  {
   "cell_type": "code",
   "execution_count": 35,
   "metadata": {},
   "outputs": [
    {
     "name": "stdout",
     "output_type": "stream",
     "text": [
      "+------+--------+\n",
      "| X    |   P(X) |\n",
      "+======+========+\n",
      "| X(0) | 0.9000 |\n",
      "+------+--------+\n",
      "| X(1) | 0.1000 |\n",
      "+------+--------+\n"
     ]
    }
   ],
   "source": [
    "px_on_y1 = pxy.conditional_distribution([('Y', 1)], inplace=False)\n",
    "print(px_on_y1)"
   ]
  },
  {
   "cell_type": "markdown",
   "metadata": {},
   "source": [
    "#### check_independence()\n",
    "\n",
    " - 두 확률변수 간의 독립 확인 가능.\n",
    " \n",
    "  * 독립 : $P(A,B) = P(A)P(B)$\n",
    "     - 독립인 경우에는 결합확률을 다 구할 필요가 없다 ."
   ]
  },
  {
   "cell_type": "code",
   "execution_count": 36,
   "metadata": {},
   "outputs": [
    {
     "data": {
      "text/plain": [
       "False"
      ]
     },
     "execution_count": 36,
     "metadata": {},
     "output_type": "execute_result"
    }
   ],
   "source": [
    "pxy.check_independence(['X'], ['Y'])"
   ]
  },
  {
   "cell_type": "markdown",
   "metadata": {},
   "source": [
    " - JointProbabilityDistribution 객체끼리 곱하면 두 분포가 독립이라는 가정하에 결합확률을 구함"
   ]
  },
  {
   "cell_type": "code",
   "execution_count": 38,
   "metadata": {},
   "outputs": [
    {
     "name": "stdout",
     "output_type": "stream",
     "text": [
      "+------+------+----------+\n",
      "| X    | Y    |   P(X,Y) |\n",
      "+======+======+==========+\n",
      "| X(0) | Y(0) |   0.3000 |\n",
      "+------+------+----------+\n",
      "| X(0) | Y(1) |   0.3000 |\n",
      "+------+------+----------+\n",
      "| X(1) | Y(0) |   0.2000 |\n",
      "+------+------+----------+\n",
      "| X(1) | Y(1) |   0.2000 |\n",
      "+------+------+----------+\n",
      "+------+------+----------+\n",
      "| X    | Y    |   P(X,Y) |\n",
      "+======+======+==========+\n",
      "| X(0) | Y(0) |   0.1500 |\n",
      "+------+------+----------+\n",
      "| X(0) | Y(1) |   0.4500 |\n",
      "+------+------+----------+\n",
      "| X(1) | Y(0) |   0.3500 |\n",
      "+------+------+----------+\n",
      "| X(1) | Y(1) |   0.0500 |\n",
      "+------+------+----------+\n"
     ]
    }
   ],
   "source": [
    "# 독립이 아님\n",
    "\n",
    "print(px*py)\n",
    "print(pxy)"
   ]
  },
  {
   "cell_type": "code",
   "execution_count": 39,
   "metadata": {},
   "outputs": [
    {
     "data": {
      "text/plain": [
       "True"
      ]
     },
     "execution_count": 39,
     "metadata": {},
     "output_type": "execute_result"
    }
   ],
   "source": [
    "pxy2.check_independence(['X'], ['Y'])"
   ]
  }
 ],
 "metadata": {
  "kernelspec": {
   "display_name": "Python 3",
   "language": "python",
   "name": "python3"
  },
  "language_info": {
   "codemirror_mode": {
    "name": "ipython",
    "version": 3
   },
   "file_extension": ".py",
   "mimetype": "text/x-python",
   "name": "python",
   "nbconvert_exporter": "python",
   "pygments_lexer": "ipython3",
   "version": "3.7.3"
  }
 },
 "nbformat": 4,
 "nbformat_minor": 4
}
