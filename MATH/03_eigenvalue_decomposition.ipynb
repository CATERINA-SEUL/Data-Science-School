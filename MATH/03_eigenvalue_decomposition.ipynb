{
  "nbformat": 4,
  "nbformat_minor": 0,
  "metadata": {
    "kernelspec": {
      "display_name": "Python 3",
      "language": "python",
      "name": "python3"
    },
    "language_info": {
      "codemirror_mode": {
        "name": "ipython",
        "version": 3
      },
      "file_extension": ".py",
      "mimetype": "text/x-python",
      "name": "python",
      "nbconvert_exporter": "python",
      "pygments_lexer": "ipython3",
      "version": "3.7.3"
    },
    "colab": {
      "name": "03_eigenvalue decomposition.ipynb",
      "provenance": []
    }
  },
  "cells": [
    {
      "cell_type": "markdown",
      "metadata": {
        "id": "3Y4xYgaizwNv",
        "colab_type": "text"
      },
      "source": [
        "### 고윳값 분해"
      ]
    },
    {
      "cell_type": "code",
      "metadata": {
        "id": "UvMja8vbzwNx",
        "colab_type": "code",
        "colab": {}
      },
      "source": [
        "# 연습문제 3.3.1"
      ],
      "execution_count": 0,
      "outputs": []
    },
    {
      "cell_type": "code",
      "metadata": {
        "id": "ZkF7j_1kzwN1",
        "colab_type": "code",
        "colab": {},
        "outputId": "d6968e87-4d06-4182-9154-bad5151bc2cf"
      },
      "source": [
        "B = np.array([[2,3],[2,1]])\n",
        "\n",
        "lambda1 = 4\n",
        "# v1 = np.array([3/np.sqrt(13), 2/np.sqrt(13)])\n",
        "v1 = np.array([[3],[2]])\n",
        "\n",
        "lambda2 = -1\n",
        "v2 = np.array([-1/np.sqrt(2), 1/np.sqrt(2)])\n",
        "# v2 = np.array([[-1],[1]])\n",
        "\n",
        "# print(B @ v1, \"\\n\", lambda1 * v1)\n",
        "print(np.array_equal(B@v1, lambda1*v1))\n",
        "print(np.array_equal(B@v2, lambda2*v2))"
      ],
      "execution_count": 0,
      "outputs": [
        {
          "output_type": "stream",
          "text": [
            "True\n",
            "True\n"
          ],
          "name": "stdout"
        }
      ]
    },
    {
      "cell_type": "markdown",
      "metadata": {
        "id": "A9oHXMFdzwN5",
        "colab_type": "text"
      },
      "source": [
        "### Numpy를 사용한 고유분해"
      ]
    },
    {
      "cell_type": "code",
      "metadata": {
        "id": "uGTKRsoEzwN5",
        "colab_type": "code",
        "colab": {},
        "outputId": "e56d851e-407b-4504-e549-755452309d9d"
      },
      "source": [
        "# eig()\n",
        "\n",
        "A = np.array([[1,-2],[2,-3]])\n",
        "w1, v1 = np.linalg.eig(A)\n",
        "print(w1,\"\\n\", v1)"
      ],
      "execution_count": 0,
      "outputs": [
        {
          "output_type": "stream",
          "text": [
            "[-0.99999998 -1.00000002] \n",
            " [[0.70710678 0.70710678]\n",
            " [0.70710678 0.70710678]]\n"
          ],
          "name": "stdout"
        }
      ]
    },
    {
      "cell_type": "code",
      "metadata": {
        "id": "_nT5uBeVzwN8",
        "colab_type": "code",
        "colab": {},
        "outputId": "a90ffa27-3968-4ccc-faef-fb0b48c9f1a8"
      },
      "source": [
        "B = np.array([[2,3],[2,1]])\n",
        "w2, v2 = np.linalg.eig(B)\n",
        "print(w2, \"\\n\", v2)"
      ],
      "execution_count": 0,
      "outputs": [
        {
          "output_type": "stream",
          "text": [
            "[ 4. -1.] \n",
            " [[ 0.83205029 -0.70710678]\n",
            " [ 0.5547002   0.70710678]]\n"
          ],
          "name": "stdout"
        }
      ]
    },
    {
      "cell_type": "code",
      "metadata": {
        "id": "rrjnSlJLzwN_",
        "colab_type": "code",
        "colab": {},
        "outputId": "c9eb2714-e4dc-4f5c-dbd4-2b0bf28bdf66"
      },
      "source": [
        "C = np.array([[0,-1],[1,0]])\n",
        "w3, v3 = np.linalg.eig(C)\n",
        "print(w3, \"\\n\" ,v3) #복소수 계산"
      ],
      "execution_count": 0,
      "outputs": [
        {
          "output_type": "stream",
          "text": [
            "[0.+1.j 0.-1.j] \n",
            " [[0.70710678+0.j         0.70710678-0.j        ]\n",
            " [0.        -0.70710678j 0.        +0.70710678j]]\n"
          ],
          "name": "stdout"
        }
      ]
    },
    {
      "cell_type": "code",
      "metadata": {
        "id": "RQTUrdi5zwOC",
        "colab_type": "code",
        "colab": {},
        "outputId": "a8b9e6c7-c8f9-408c-e63b-872e5080d730"
      },
      "source": [
        "D = np.array([[2,1],[1,2]])\n",
        "w4, v4 = np.linalg.eig(D)\n",
        "print(w4,\"\\n\",v4)"
      ],
      "execution_count": 0,
      "outputs": [
        {
          "output_type": "stream",
          "text": [
            "[3. 1.] \n",
            " [[ 0.70710678 -0.70710678]\n",
            " [ 0.70710678  0.70710678]]\n"
          ],
          "name": "stdout"
        }
      ]
    },
    {
      "cell_type": "code",
      "metadata": {
        "id": "gY5ODBKszwOF",
        "colab_type": "code",
        "colab": {},
        "outputId": "b47454cd-3920-46a3-84ee-1b59892ab7ab"
      },
      "source": [
        "E = np.array([[2,3],[2,1]])\n",
        "w5, v5 = np.linalg.eig(E)\n",
        "print(w5,\"\\n\",v5)"
      ],
      "execution_count": 0,
      "outputs": [
        {
          "output_type": "stream",
          "text": [
            "[ 4. -1.] \n",
            " [[ 0.83205029 -0.70710678]\n",
            " [ 0.5547002   0.70710678]]\n"
          ],
          "name": "stdout"
        }
      ]
    },
    {
      "cell_type": "code",
      "metadata": {
        "id": "HZu9UK6dzwOH",
        "colab_type": "code",
        "colab": {},
        "outputId": "b69efc3f-805c-4b2f-d63d-0d1977c1ab54"
      },
      "source": [
        "F = np.array([[1,1],[0,1]])\n",
        "w6, v6 = np.linalg.eig(F)\n",
        "print(w6,\"\\n\",v6)"
      ],
      "execution_count": 0,
      "outputs": [
        {
          "output_type": "stream",
          "text": [
            "[1. 1.] \n",
            " [[ 1.00000000e+00 -1.00000000e+00]\n",
            " [ 0.00000000e+00  2.22044605e-16]]\n"
          ],
          "name": "stdout"
        }
      ]
    },
    {
      "cell_type": "markdown",
      "metadata": {
        "id": "242vrc6YzwOK",
        "colab_type": "text"
      },
      "source": [
        "### 대각화"
      ]
    },
    {
      "cell_type": "code",
      "metadata": {
        "id": "kCQoUsJizwOL",
        "colab_type": "code",
        "colab": {},
        "outputId": "428391eb-1a17-441b-c53b-f253ae29723a"
      },
      "source": [
        "v2"
      ],
      "execution_count": 0,
      "outputs": [
        {
          "output_type": "execute_result",
          "data": {
            "text/plain": [
              "array([[ 0.83205029, -0.70710678],\n",
              "       [ 0.5547002 ,  0.70710678]])"
            ]
          },
          "metadata": {
            "tags": []
          },
          "execution_count": 88
        }
      ]
    },
    {
      "cell_type": "code",
      "metadata": {
        "id": "hwiXMx9PzwON",
        "colab_type": "code",
        "colab": {},
        "outputId": "e09b225a-8f40-4a64-9d05-b4c70842be99"
      },
      "source": [
        "v2_inv = np.linalg.inv(v2)\n",
        "v2_inv"
      ],
      "execution_count": 0,
      "outputs": [
        {
          "output_type": "execute_result",
          "data": {
            "text/plain": [
              "array([[ 0.72111026,  0.72111026],\n",
              "       [-0.56568542,  0.84852814]])"
            ]
          },
          "metadata": {
            "tags": []
          },
          "execution_count": 89
        }
      ]
    },
    {
      "cell_type": "code",
      "metadata": {
        "id": "hvLhFQbnzwOP",
        "colab_type": "code",
        "colab": {},
        "outputId": "2edd5c35-1a3c-4d41-c3b8-b8949d81b473"
      },
      "source": [
        "v2 @ np.diag(w2) @ v2_inv"
      ],
      "execution_count": 0,
      "outputs": [
        {
          "output_type": "execute_result",
          "data": {
            "text/plain": [
              "array([[2., 3.],\n",
              "       [2., 1.]])"
            ]
          },
          "metadata": {
            "tags": []
          },
          "execution_count": 90
        }
      ]
    },
    {
      "cell_type": "code",
      "metadata": {
        "id": "tDaAzTjVzwOS",
        "colab_type": "code",
        "colab": {},
        "outputId": "ab7dcd48-87f0-4a7e-fb28-1ccad3bd77b9"
      },
      "source": [
        "ww,VV = np.linalg.eig(np.array([[2,3],[2,1]]))\n",
        "VV_inv = np.linalg.inv(VV)\n",
        "VV_inv"
      ],
      "execution_count": 0,
      "outputs": [
        {
          "output_type": "execute_result",
          "data": {
            "text/plain": [
              "array([[ 0.72111026,  0.72111026],\n",
              "       [-0.56568542,  0.84852814]])"
            ]
          },
          "metadata": {
            "tags": []
          },
          "execution_count": 105
        }
      ]
    },
    {
      "cell_type": "code",
      "metadata": {
        "id": "ZiusaNn4zwOU",
        "colab_type": "code",
        "colab": {},
        "outputId": "df9f7f1a-3677-4f3c-e27f-fe47d6c86731"
      },
      "source": [
        "vv @ np.diag(ww) @ vv_inv"
      ],
      "execution_count": 0,
      "outputs": [
        {
          "output_type": "execute_result",
          "data": {
            "text/plain": [
              "array([[2., 3.],\n",
              "       [2., 1.]])"
            ]
          },
          "metadata": {
            "tags": []
          },
          "execution_count": 94
        }
      ]
    },
    {
      "cell_type": "code",
      "metadata": {
        "id": "uFZQpugJzwOW",
        "colab_type": "code",
        "colab": {},
        "outputId": "efbf1b53-d7eb-4bca-97f3-0570b8049f8d"
      },
      "source": [
        "bb, vv2 = np.linalg.eig(np.array([[1,1],[0,1]]))\n",
        "print(vv2)"
      ],
      "execution_count": 0,
      "outputs": [
        {
          "output_type": "stream",
          "text": [
            "[[ 1.00000000e+00 -1.00000000e+00]\n",
            " [ 0.00000000e+00  2.22044605e-16]]\n"
          ],
          "name": "stdout"
        }
      ]
    },
    {
      "cell_type": "code",
      "metadata": {
        "id": "vQepiMgXzwOY",
        "colab_type": "code",
        "colab": {},
        "outputId": "d50d0832-5813-4931-ee0b-a256c4ba8c93"
      },
      "source": [
        "vv2_inv = np.linalg.inv(vv2)\n",
        "vv2_inv"
      ],
      "execution_count": 0,
      "outputs": [
        {
          "output_type": "execute_result",
          "data": {
            "text/plain": [
              "array([[1.00000000e+00, 4.50359963e+15],\n",
              "       [0.00000000e+00, 4.50359963e+15]])"
            ]
          },
          "metadata": {
            "tags": []
          },
          "execution_count": 96
        }
      ]
    },
    {
      "cell_type": "code",
      "metadata": {
        "id": "dOgvWrrQzwOb",
        "colab_type": "code",
        "colab": {},
        "outputId": "52a4adf8-6c37-4127-ade4-38951cd35696"
      },
      "source": [
        "vv2 @ np.diag(bb) @ vv2_inv"
      ],
      "execution_count": 0,
      "outputs": [
        {
          "output_type": "execute_result",
          "data": {
            "text/plain": [
              "array([[1., 0.],\n",
              "       [0., 1.]])"
            ]
          },
          "metadata": {
            "tags": []
          },
          "execution_count": 97
        }
      ]
    },
    {
      "cell_type": "code",
      "metadata": {
        "id": "oSw8OkoczwOd",
        "colab_type": "code",
        "colab": {},
        "outputId": "1f416cd9-c71f-4d3a-bd1c-37cbd0ad5afc"
      },
      "source": [
        "print(np.linalg.matrix_rank(vv2))"
      ],
      "execution_count": 0,
      "outputs": [
        {
          "output_type": "stream",
          "text": [
            "1\n"
          ],
          "name": "stdout"
        }
      ]
    },
    {
      "cell_type": "code",
      "metadata": {
        "id": "DtzW46PwzwOf",
        "colab_type": "code",
        "colab": {},
        "outputId": "043cca42-1718-4986-801f-ab4ad4cbbdac"
      },
      "source": [
        "W, S = np.linalg.eig(np.array([[2,5],[3,4]]))\n",
        "print(S)\n",
        "S_inv = np.linalg.inv(S)\n",
        "print(S_inv)\n",
        "print(np.diag(W))\n",
        "print(S @ np.diag(W) @ S_inv)\n",
        "print(np.linalg.matrix_rank(S))"
      ],
      "execution_count": 0,
      "outputs": [
        {
          "output_type": "stream",
          "text": [
            "[[-0.85749293 -0.70710678]\n",
            " [ 0.51449576 -0.70710678]]\n",
            "[[-0.72886899  0.72886899]\n",
            " [-0.53033009 -0.88388348]]\n",
            "[[-1.  0.]\n",
            " [ 0.  7.]]\n",
            "[[2. 5.]\n",
            " [3. 4.]]\n",
            "2\n"
          ],
          "name": "stdout"
        }
      ]
    }
  ]
}