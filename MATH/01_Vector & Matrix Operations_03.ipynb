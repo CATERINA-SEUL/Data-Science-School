{
  "nbformat": 4,
  "nbformat_minor": 0,
  "metadata": {
    "colab": {
      "name": "01_벡터와 행렬의 연산 03.ipynb",
      "provenance": [],
      "authorship_tag": "ABX9TyPdUH44iN9ZH9zXJPDS1Oed"
    },
    "kernelspec": {
      "name": "python3",
      "display_name": "Python 3"
    }
  },
  "cells": [
    {
      "cell_type": "markdown",
      "metadata": {
        "id": "uTLWrhABjtql",
        "colab_type": "text"
      },
      "source": [
        "### 선형회귀 모형\n",
        "\n",
        " - 독립변수 $x$에서 종속변수 $y$를 예측\n",
        " \n",
        "     $\\hat{y}$ = $w_1$$x_1$ + $\\cdots$ + $w_N$$x_N$\n",
        "     \n",
        "     $\\hat{y}$ = $w^T$$x$"
      ]
    },
    {
      "cell_type": "markdown",
      "metadata": {
        "id": "IU_JndqPjtql",
        "colab_type": "text"
      },
      "source": [
        "### 인공신경망(artificial neural network)\n",
        "\n",
        " - 선형회귀 모형의 단점 : 현실데이터를 잘 예측하지 못할 수 있지만, 많이 쓰이고 있음\n",
        " - 행렬과 벡터의 곱으로 나타낼 수 있다.\n",
        " \n",
        "     $\\hat{y}$ = $Wx$\n",
        "    "
      ]
    },
    {
      "cell_type": "markdown",
      "metadata": {
        "id": "ELJJjhzdjtqm",
        "colab_type": "text"
      },
      "source": [
        "### 제곱합(sum of squares)\n",
        "\n",
        " - 벡터의 모든 값을 더한 후에 제곱\n",
        " - 벡터의 내적을 사용하여 $x^T$$x$ 로 쓸 수 있다."
      ]
    },
    {
      "cell_type": "markdown",
      "metadata": {
        "id": "mc7wa0BJjtqm",
        "colab_type": "text"
      },
      "source": [
        "### 행렬과 행렬의 곱셈\n",
        "\n",
        " -  $C = AB$ $c_i$$_j$ = $a_i^T$$b_j$\n",
        " \n",
        " \n",
        " $A$$\\in$ $R^N$$^\\times$$^L$ , $B\\in$$R^L$$^\\times$$^M$ $\\rightarrow$ $AB\\in$$R^N$$^\\times$$^M$\n",
        " \n",
        " "
      ]
    },
    {
      "cell_type": "code",
      "metadata": {
        "id": "WLkBP0fcjtqn",
        "colab_type": "code",
        "outputId": "6c17a0a2-9d68-48e5-c3c6-d4bdf9191742",
        "colab": {}
      },
      "source": [
        "A = np.arange(1,7).reshape(2, 3)\n",
        "A"
      ],
      "execution_count": 0,
      "outputs": [
        {
          "output_type": "execute_result",
          "data": {
            "text/plain": [
              "array([[1, 2, 3],\n",
              "       [4, 5, 6]])"
            ]
          },
          "metadata": {
            "tags": []
          },
          "execution_count": 161
        }
      ]
    },
    {
      "cell_type": "code",
      "metadata": {
        "id": "Mm8SY_hqjtqp",
        "colab_type": "code",
        "outputId": "149bfb00-7b15-4d9d-e1b7-f9f46b8e1729",
        "colab": {}
      },
      "source": [
        "B = np.arange(1, 7).reshape(3, 2)\n",
        "B"
      ],
      "execution_count": 0,
      "outputs": [
        {
          "output_type": "execute_result",
          "data": {
            "text/plain": [
              "array([[1, 2],\n",
              "       [3, 4],\n",
              "       [5, 6]])"
            ]
          },
          "metadata": {
            "tags": []
          },
          "execution_count": 162
        }
      ]
    },
    {
      "cell_type": "code",
      "metadata": {
        "id": "zNjiT6T5jtqq",
        "colab_type": "code",
        "outputId": "a7d8d6d1-6119-4992-9235-81410b436b74",
        "colab": {}
      },
      "source": [
        "C = A@B\n",
        "C"
      ],
      "execution_count": 0,
      "outputs": [
        {
          "output_type": "execute_result",
          "data": {
            "text/plain": [
              "array([[22, 28],\n",
              "       [49, 64]])"
            ]
          },
          "metadata": {
            "tags": []
          },
          "execution_count": 163
        }
      ]
    },
    {
      "cell_type": "code",
      "metadata": {
        "id": "fGgIvQXjjtqs",
        "colab_type": "code",
        "outputId": "1d1629a4-1523-4fdc-c70a-6ce4ffb94fcb",
        "colab": {}
      },
      "source": [
        "np.dot(A,B) "
      ],
      "execution_count": 0,
      "outputs": [
        {
          "output_type": "execute_result",
          "data": {
            "text/plain": [
              "array([[22, 28],\n",
              "       [49, 64]])"
            ]
          },
          "metadata": {
            "tags": []
          },
          "execution_count": 164
        }
      ]
    },
    {
      "cell_type": "code",
      "metadata": {
        "id": "tuNxip6xjtqt",
        "colab_type": "code",
        "outputId": "55c9780d-a561-4707-f55f-a8c9d4400a67",
        "colab": {}
      },
      "source": [
        "D = B @ A\n",
        "D"
      ],
      "execution_count": 0,
      "outputs": [
        {
          "output_type": "execute_result",
          "data": {
            "text/plain": [
              "array([[ 9, 12, 15],\n",
              "       [19, 26, 33],\n",
              "       [29, 40, 51]])"
            ]
          },
          "metadata": {
            "tags": []
          },
          "execution_count": 168
        }
      ]
    },
    {
      "cell_type": "code",
      "metadata": {
        "id": "nwzxxwu4jtqx",
        "colab_type": "code",
        "outputId": "af3bcf6d-d5a4-4bde-a680-6f702bfa96a6",
        "colab": {
          "base_uri": "https://localhost:8080/",
          "height": 164
        }
      },
      "source": [
        "A@B != B@A"
      ],
      "execution_count": 1,
      "outputs": [
        {
          "output_type": "error",
          "ename": "NameError",
          "evalue": "ignored",
          "traceback": [
            "\u001b[0;31m---------------------------------------------------------------------------\u001b[0m",
            "\u001b[0;31mNameError\u001b[0m                                 Traceback (most recent call last)",
            "\u001b[0;32m<ipython-input-1-c021702b6bdb>\u001b[0m in \u001b[0;36m<module>\u001b[0;34m()\u001b[0m\n\u001b[0;32m----> 1\u001b[0;31m \u001b[0mA\u001b[0m\u001b[0;34m@\u001b[0m\u001b[0mB\u001b[0m \u001b[0;34m!=\u001b[0m \u001b[0mB\u001b[0m\u001b[0;34m@\u001b[0m\u001b[0mA\u001b[0m\u001b[0;34m\u001b[0m\u001b[0;34m\u001b[0m\u001b[0m\n\u001b[0m",
            "\u001b[0;31mNameError\u001b[0m: name 'A' is not defined"
          ]
        }
      ]
    },
    {
      "cell_type": "code",
      "metadata": {
        "id": "04Xhql7gjtq0",
        "colab_type": "code",
        "outputId": "60037374-1a48-4a34-832b-c270f3b606b3",
        "colab": {}
      },
      "source": [
        "A = np.arange(1,4)\n",
        "B = np.array([[4,7],[5,8],[6,9]])\n",
        "A @ B"
      ],
      "execution_count": 0,
      "outputs": [
        {
          "output_type": "execute_result",
          "data": {
            "text/plain": [
              "array([32, 50])"
            ]
          },
          "metadata": {
            "tags": []
          },
          "execution_count": 183
        }
      ]
    },
    {
      "cell_type": "code",
      "metadata": {
        "id": "YfwpeZzpjtq1",
        "colab_type": "code",
        "outputId": "642f9937-4142-4127-f8ed-34ac4fed3c52",
        "colab": {}
      },
      "source": [
        "a = np.arange(1,5).reshape(2,2)\n",
        "b = np.arange(5,9).reshape(2,2)"
      ],
      "execution_count": 0,
      "outputs": [
        {
          "output_type": "execute_result",
          "data": {
            "text/plain": [
              "(array([[1, 2],\n",
              "        [3, 4]]), array([[5, 6],\n",
              "        [7, 8]]))"
            ]
          },
          "metadata": {
            "tags": []
          },
          "execution_count": 188
        }
      ]
    },
    {
      "cell_type": "code",
      "metadata": {
        "id": "SUUgltiWjtq3",
        "colab_type": "code",
        "outputId": "b14e41b4-de04-457e-c6c5-969d8d3592e6",
        "colab": {}
      },
      "source": [
        "a@b"
      ],
      "execution_count": 0,
      "outputs": [
        {
          "output_type": "execute_result",
          "data": {
            "text/plain": [
              "array([[19, 22],\n",
              "       [43, 50]])"
            ]
          },
          "metadata": {
            "tags": []
          },
          "execution_count": 189
        }
      ]
    },
    {
      "cell_type": "code",
      "metadata": {
        "id": "pmNVxWjnjtq5",
        "colab_type": "code",
        "outputId": "b4ffa1b1-38e2-438a-8d61-3d6b6fa276d0",
        "colab": {}
      },
      "source": [
        "b@a"
      ],
      "execution_count": 0,
      "outputs": [
        {
          "output_type": "execute_result",
          "data": {
            "text/plain": [
              "array([[23, 34],\n",
              "       [31, 46]])"
            ]
          },
          "metadata": {
            "tags": []
          },
          "execution_count": 190
        }
      ]
    },
    {
      "cell_type": "code",
      "metadata": {
        "id": "Efw9woqFjtq6",
        "colab_type": "code",
        "outputId": "9963fa8b-2090-4671-b1b0-c2a894497680",
        "colab": {}
      },
      "source": [
        "A = np.arange(1,7).reshape(3,2)\n",
        "A"
      ],
      "execution_count": 0,
      "outputs": [
        {
          "output_type": "execute_result",
          "data": {
            "text/plain": [
              "array([[1, 2],\n",
              "       [3, 4],\n",
              "       [5, 6]])"
            ]
          },
          "metadata": {
            "tags": []
          },
          "execution_count": 192
        }
      ]
    },
    {
      "cell_type": "code",
      "metadata": {
        "id": "9V9A8ElNjtq9",
        "colab_type": "code",
        "outputId": "1e44723c-5e75-4f32-cedc-06f77d2ef8e7",
        "colab": {}
      },
      "source": [
        "A.T@A"
      ],
      "execution_count": 0,
      "outputs": [
        {
          "output_type": "execute_result",
          "data": {
            "text/plain": [
              "array([[35, 44],\n",
              "       [44, 56]])"
            ]
          },
          "metadata": {
            "tags": []
          },
          "execution_count": 193
        }
      ]
    },
    {
      "cell_type": "code",
      "metadata": {
        "id": "VVZv9xmHjtq-",
        "colab_type": "code",
        "outputId": "1e4e3390-efad-4b05-b363-0f323f94af3e",
        "colab": {}
      },
      "source": [
        "A@A.T"
      ],
      "execution_count": 0,
      "outputs": [
        {
          "output_type": "execute_result",
          "data": {
            "text/plain": [
              "array([[ 5, 11, 17],\n",
              "       [11, 25, 39],\n",
              "       [17, 39, 61]])"
            ]
          },
          "metadata": {
            "tags": []
          },
          "execution_count": 201
        }
      ]
    },
    {
      "cell_type": "code",
      "metadata": {
        "id": "AgVyel0HjtrB",
        "colab_type": "code",
        "outputId": "1506c543-a93f-41c5-a756-1057a23d30ef",
        "colab": {}
      },
      "source": [
        "x = np.array([[1],[2],[3]])\n",
        "x"
      ],
      "execution_count": 0,
      "outputs": [
        {
          "output_type": "execute_result",
          "data": {
            "text/plain": [
              "array([[1],\n",
              "       [2],\n",
              "       [3]])"
            ]
          },
          "metadata": {
            "tags": []
          },
          "execution_count": 205
        }
      ]
    },
    {
      "cell_type": "code",
      "metadata": {
        "id": "p_aHxDbIjtrC",
        "colab_type": "code",
        "outputId": "aa497cdc-c5d1-4d54-cd63-992a58182758",
        "colab": {}
      },
      "source": [
        "x.T@x #스칼라"
      ],
      "execution_count": 0,
      "outputs": [
        {
          "output_type": "execute_result",
          "data": {
            "text/plain": [
              "array([[14]])"
            ]
          },
          "metadata": {
            "tags": []
          },
          "execution_count": 208
        }
      ]
    },
    {
      "cell_type": "code",
      "metadata": {
        "id": "3cdmT-3zjtrD",
        "colab_type": "code",
        "outputId": "e3aafc26-c7d1-42a2-e8d4-125c13d48450",
        "colab": {}
      },
      "source": [
        "x@x.T #정방행렬"
      ],
      "execution_count": 0,
      "outputs": [
        {
          "output_type": "execute_result",
          "data": {
            "text/plain": [
              "array([[1, 2, 3],\n",
              "       [2, 4, 6],\n",
              "       [3, 6, 9]])"
            ]
          },
          "metadata": {
            "tags": []
          },
          "execution_count": 210
        }
      ]
    },
    {
      "cell_type": "markdown",
      "metadata": {
        "id": "-toSGuUfjtrF",
        "colab_type": "text"
      },
      "source": [
        "### 교환법칙과 분배법칙\n",
        "\n",
        " - $AB$ $\\neq$ $BA$ \n",
        " - $A(B+C) = AB+AC$\n",
        " - $(A+B)C = AC+BC$"
      ]
    },
    {
      "cell_type": "code",
      "metadata": {
        "id": "o6fr6sZOjtrG",
        "colab_type": "code",
        "colab": {}
      },
      "source": [
        "A = np.arange(1,5).reshape(2,2)\n",
        "B = np.arange(5,9).reshape(2,2)\n",
        "C = np.arange(9,5,-1).reshape(2,2)"
      ],
      "execution_count": 0,
      "outputs": []
    },
    {
      "cell_type": "code",
      "metadata": {
        "id": "FAbU3KmIjtrH",
        "colab_type": "code",
        "outputId": "15fde769-6339-4d9b-a23c-080f7c783c4f",
        "colab": {}
      },
      "source": [
        "A@B"
      ],
      "execution_count": 0,
      "outputs": [
        {
          "output_type": "execute_result",
          "data": {
            "text/plain": [
              "array([[19, 22],\n",
              "       [43, 50]])"
            ]
          },
          "metadata": {
            "tags": []
          },
          "execution_count": 220
        }
      ]
    },
    {
      "cell_type": "code",
      "metadata": {
        "id": "m7p0DSH7jtrJ",
        "colab_type": "code",
        "outputId": "6487107e-4a29-48ab-e449-7e8df2c615da",
        "colab": {}
      },
      "source": [
        "B@A"
      ],
      "execution_count": 0,
      "outputs": [
        {
          "output_type": "execute_result",
          "data": {
            "text/plain": [
              "array([[23, 34],\n",
              "       [31, 46]])"
            ]
          },
          "metadata": {
            "tags": []
          },
          "execution_count": 221
        }
      ]
    },
    {
      "cell_type": "code",
      "metadata": {
        "id": "ZxgBDT3pjtrK",
        "colab_type": "code",
        "outputId": "a2da6d96-f1a6-48fd-e63d-18253cf59d8c",
        "colab": {}
      },
      "source": [
        "A@(B+C)"
      ],
      "execution_count": 0,
      "outputs": [
        {
          "output_type": "execute_result",
          "data": {
            "text/plain": [
              "array([[42, 42],\n",
              "       [98, 98]])"
            ]
          },
          "metadata": {
            "tags": []
          },
          "execution_count": 222
        }
      ]
    },
    {
      "cell_type": "code",
      "metadata": {
        "id": "g0rxWFu1jtrM",
        "colab_type": "code",
        "outputId": "453f4bae-9fd1-4968-d78c-9ceba5019aa3",
        "colab": {}
      },
      "source": [
        "(A+B)@C"
      ],
      "execution_count": 0,
      "outputs": [
        {
          "output_type": "execute_result",
          "data": {
            "text/plain": [
              "array([[110,  96],\n",
              "       [174, 152]])"
            ]
          },
          "metadata": {
            "tags": []
          },
          "execution_count": 225
        }
      ]
    },
    {
      "cell_type": "code",
      "metadata": {
        "id": "F5L3qrS0jtrN",
        "colab_type": "code",
        "outputId": "d0b904e0-d143-48ac-b6ee-d08180da4dd9",
        "colab": {}
      },
      "source": [
        "A@C+B@C"
      ],
      "execution_count": 0,
      "outputs": [
        {
          "output_type": "execute_result",
          "data": {
            "text/plain": [
              "array([[110,  96],\n",
              "       [174, 152]])"
            ]
          },
          "metadata": {
            "tags": []
          },
          "execution_count": 226
        }
      ]
    },
    {
      "cell_type": "code",
      "metadata": {
        "id": "11AYW2lvjtrO",
        "colab_type": "code",
        "outputId": "084b6120-d41e-454e-c1e8-2e5ad9baa8cd",
        "colab": {}
      },
      "source": [
        "A@B+A@C"
      ],
      "execution_count": 0,
      "outputs": [
        {
          "output_type": "execute_result",
          "data": {
            "text/plain": [
              "array([[42, 42],\n",
              "       [98, 98]])"
            ]
          },
          "metadata": {
            "tags": []
          },
          "execution_count": 227
        }
      ]
    },
    {
      "cell_type": "markdown",
      "metadata": {
        "id": "S34D8PdljtrR",
        "colab_type": "text"
      },
      "source": [
        "#### 전치연산도 분배가 성립하지만 곱셈의 경우 위치가 바뀐다."
      ]
    },
    {
      "cell_type": "code",
      "metadata": {
        "id": "Kk40bfTajtrS",
        "colab_type": "code",
        "outputId": "3c45b02e-d857-44a5-8b54-1c4984d48962",
        "colab": {}
      },
      "source": [
        "(A+B).T"
      ],
      "execution_count": 0,
      "outputs": [
        {
          "output_type": "execute_result",
          "data": {
            "text/plain": [
              "array([[ 6, 10],\n",
              "       [ 8, 12]])"
            ]
          },
          "metadata": {
            "tags": []
          },
          "execution_count": 228
        }
      ]
    },
    {
      "cell_type": "code",
      "metadata": {
        "id": "KErkpLa9jtrT",
        "colab_type": "code",
        "outputId": "b9a12c18-ee43-4ca5-f05a-5be1b324b4c1",
        "colab": {}
      },
      "source": [
        "A.T+B.T"
      ],
      "execution_count": 0,
      "outputs": [
        {
          "output_type": "execute_result",
          "data": {
            "text/plain": [
              "array([[ 6, 10],\n",
              "       [ 8, 12]])"
            ]
          },
          "metadata": {
            "tags": []
          },
          "execution_count": 229
        }
      ]
    },
    {
      "cell_type": "code",
      "metadata": {
        "id": "C67jx3p7jtrU",
        "colab_type": "code",
        "outputId": "ffffaf72-cae5-47d3-bc7f-79180a121242",
        "colab": {}
      },
      "source": [
        "(A@B).T"
      ],
      "execution_count": 0,
      "outputs": [
        {
          "output_type": "execute_result",
          "data": {
            "text/plain": [
              "array([[19, 43],\n",
              "       [22, 50]])"
            ]
          },
          "metadata": {
            "tags": []
          },
          "execution_count": 230
        }
      ]
    },
    {
      "cell_type": "code",
      "metadata": {
        "id": "JQQfoxNmjtrY",
        "colab_type": "code",
        "outputId": "a5496b2f-5b33-4376-9179-6de617667fec",
        "colab": {}
      },
      "source": [
        "A.T@B.T"
      ],
      "execution_count": 0,
      "outputs": [
        {
          "output_type": "execute_result",
          "data": {
            "text/plain": [
              "array([[23, 31],\n",
              "       [34, 46]])"
            ]
          },
          "metadata": {
            "tags": []
          },
          "execution_count": 231
        }
      ]
    },
    {
      "cell_type": "code",
      "metadata": {
        "id": "w-v-GpGGjtrZ",
        "colab_type": "code",
        "outputId": "f5e3e654-04f5-417a-f77b-4bd3a38212be",
        "colab": {}
      },
      "source": [
        "B.T@A.T"
      ],
      "execution_count": 0,
      "outputs": [
        {
          "output_type": "execute_result",
          "data": {
            "text/plain": [
              "array([[19, 43],\n",
              "       [22, 50]])"
            ]
          },
          "metadata": {
            "tags": []
          },
          "execution_count": 232
        }
      ]
    },
    {
      "cell_type": "markdown",
      "metadata": {
        "id": "t3kPR6FVjtrb",
        "colab_type": "text"
      },
      "source": [
        "1) 길이가 같은 열벡터 $1_N\\in$$R^N$ 와 행벡터 $x\\in$$R^N$의 곱은 행벡터 $x$를 반복하여 가지는 행렬과 같은지 보자"
      ]
    },
    {
      "cell_type": "code",
      "metadata": {
        "id": "aaJSRJxZjtrb",
        "colab_type": "code",
        "outputId": "fafa3d69-b981-4f23-805c-444a0d5962b3",
        "colab": {}
      },
      "source": [
        "x = np.arange(1,4).reshape(3,1)\n",
        "x"
      ],
      "execution_count": 0,
      "outputs": [
        {
          "output_type": "execute_result",
          "data": {
            "text/plain": [
              "array([[1],\n",
              "       [2],\n",
              "       [3]])"
            ]
          },
          "metadata": {
            "tags": []
          },
          "execution_count": 271
        }
      ]
    },
    {
      "cell_type": "code",
      "metadata": {
        "id": "UitR4tvmjtrd",
        "colab_type": "code",
        "outputId": "074d9092-88f5-4082-c9fd-bfccd71a0657",
        "colab": {}
      },
      "source": [
        "y = np.arange(1,4).reshape(1,3)\n",
        "y"
      ],
      "execution_count": 0,
      "outputs": [
        {
          "output_type": "execute_result",
          "data": {
            "text/plain": [
              "array([[1, 2, 3]])"
            ]
          },
          "metadata": {
            "tags": []
          },
          "execution_count": 272
        }
      ]
    },
    {
      "cell_type": "code",
      "metadata": {
        "id": "Xlruk5G6jtre",
        "colab_type": "code",
        "outputId": "4b64c6b4-a657-4020-ea8b-32e31b4fd967",
        "colab": {}
      },
      "source": [
        "X = x@y\n",
        "X"
      ],
      "execution_count": 0,
      "outputs": [
        {
          "output_type": "execute_result",
          "data": {
            "text/plain": [
              "array([[1, 2, 3],\n",
              "       [2, 4, 6],\n",
              "       [3, 6, 9]])"
            ]
          },
          "metadata": {
            "tags": []
          },
          "execution_count": 273
        }
      ]
    },
    {
      "cell_type": "markdown",
      "metadata": {
        "id": "9bjvO7t1jtrf",
        "colab_type": "text"
      },
      "source": [
        "2) 행렬 $X(X\\in$$R^N$$^\\times$$^M)$가 있을 때, 이 행렬의 각 열의 평균으로 이루어진 벡터 $\\overline{x}(\\overline{x}$$\\in$$R^M)$가 다음과 같음을 보자"
      ]
    },
    {
      "cell_type": "code",
      "metadata": {
        "id": "OhBKe7PXjtrg",
        "colab_type": "code",
        "colab": {}
      },
      "source": [
        ""
      ],
      "execution_count": 0,
      "outputs": []
    },
    {
      "cell_type": "markdown",
      "metadata": {
        "id": "UkqQp2qGjtrh",
        "colab_type": "text"
      },
      "source": [
        "3) 행렬 $X(X\\in$$R^N$$^\\times$$^M)$은 동일한 벡터 $\\overline{x}$$^T$를 $N$개 누적하여 만든 행렬이다 즉, 각 열의 모든 값이 그 열의 평균으로 이루어진 행렬이다. 이때 $\\overline{X}$가 다음과 같음을 보자"
      ]
    },
    {
      "cell_type": "code",
      "metadata": {
        "id": "nX2u1N8Ojtrh",
        "colab_type": "code",
        "colab": {}
      },
      "source": [
        ""
      ],
      "execution_count": 0,
      "outputs": []
    },
    {
      "cell_type": "markdown",
      "metadata": {
        "id": "PrcvC2RHjtri",
        "colab_type": "text"
      },
      "source": [
        "4) 다음 코드를 실행하면 붓꽃 전체 데이터를 모두 벡터로 반환하여 하나의 Numpy 행렬 X를 만든다. \n",
        "\n",
        "    from sklearn.datasets import load_iris\n",
        "    X = load_iris().data\n",
        "    \n",
        "   이 데이터로 행렬 $\\overline{X}$의 값을 계산하라. 이 행렬은 첫번째 열의 값이 모두 같은 값으로 붓꽃의 꽃받침의 길이(sepal length)의 평균이고, 두 번째 열의 값이 모두 같은 값으로 붓꽃의 꽃받침의 폭(sepal width)의 평균, 이런 식으로 계산된 행렬이다. "
      ]
    },
    {
      "cell_type": "code",
      "metadata": {
        "id": "0M7aqBL0jtrj",
        "colab_type": "code",
        "outputId": "6c20d10f-afda-4335-cce7-0382d10f5181",
        "colab": {}
      },
      "source": [
        "from sklearn.datasets import load_iris\n",
        "X = load_iris().data\n",
        "N = X.shape[0]\n",
        "ones = np.ones(N).reshape(-1,1)\n",
        "\n",
        "X_bar = ((ones@ones.T)@X)/N\n",
        "X_bar[:5]"
      ],
      "execution_count": 0,
      "outputs": [
        {
          "output_type": "execute_result",
          "data": {
            "text/plain": [
              "array([[5.84333333, 3.05733333, 3.758     , 1.19933333],\n",
              "       [5.84333333, 3.05733333, 3.758     , 1.19933333],\n",
              "       [5.84333333, 3.05733333, 3.758     , 1.19933333],\n",
              "       [5.84333333, 3.05733333, 3.758     , 1.19933333],\n",
              "       [5.84333333, 3.05733333, 3.758     , 1.19933333]])"
            ]
          },
          "metadata": {
            "tags": []
          },
          "execution_count": 282
        }
      ]
    },
    {
      "cell_type": "markdown",
      "metadata": {
        "id": "W6IwgTqXjtrl",
        "colab_type": "text"
      },
      "source": [
        "### 곱셈의 연결\n",
        "\n",
        " - 연속된 행렬의 곱셈은 계산순서를 임의로 해도 상관없다. \n",
        " \n",
        " $ABC = (AB)C = A(BC)$\n",
        " \n",
        " $ABCD = ((AB)C)D = (AB)(CD) = A(BCD) = A(BC)D$"
      ]
    },
    {
      "cell_type": "markdown",
      "metadata": {
        "id": "kpPsrtUMjtrl",
        "colab_type": "text"
      },
      "source": [
        " - 다음 행렬의 곱셈을 순서를 바꾸어 두 가지 방법으로 해본다. "
      ]
    },
    {
      "cell_type": "code",
      "metadata": {
        "id": "2GkK0CMbjtrm",
        "colab_type": "code",
        "colab": {}
      },
      "source": [
        "a = np.array([1,2])\n",
        "b = np.arange(1,5).reshape(2,2)\n",
        "c = np.arange(5,7).reshape(2,1)"
      ],
      "execution_count": 0,
      "outputs": []
    },
    {
      "cell_type": "code",
      "metadata": {
        "id": "E63pK6IZjtrn",
        "colab_type": "code",
        "outputId": "f31e8b99-3f81-4b4f-be9c-0c7d9469c3c7",
        "colab": {}
      },
      "source": [
        "a@b@c == (a@b)@c , (a@b)@c == a@(b@c)\n"
      ],
      "execution_count": 0,
      "outputs": [
        {
          "output_type": "execute_result",
          "data": {
            "text/plain": [
              "(array([ True]), array([ True]))"
            ]
          },
          "metadata": {
            "tags": []
          },
          "execution_count": 295
        }
      ]
    },
    {
      "cell_type": "markdown",
      "metadata": {
        "id": "Jukyzy4ujtrq",
        "colab_type": "text"
      },
      "source": [
        "### 항등행렬의 곱셈\n",
        "\n",
        " - $AI = IA = A$"
      ]
    },
    {
      "cell_type": "code",
      "metadata": {
        "id": "CIdZnMyqjtrq",
        "colab_type": "code",
        "colab": {}
      },
      "source": [
        "A = np.arange(1,5).reshape(2,2)\n",
        "I = np.eye(2)"
      ],
      "execution_count": 0,
      "outputs": []
    },
    {
      "cell_type": "code",
      "metadata": {
        "id": "HMmQ9z8Ejtrr",
        "colab_type": "code",
        "outputId": "38827a14-9b8b-4053-d8d7-2a582589265f",
        "colab": {}
      },
      "source": [
        "A@I"
      ],
      "execution_count": 0,
      "outputs": [
        {
          "output_type": "execute_result",
          "data": {
            "text/plain": [
              "array([[1., 2.],\n",
              "       [3., 4.]])"
            ]
          },
          "metadata": {
            "tags": []
          },
          "execution_count": 297
        }
      ]
    },
    {
      "cell_type": "code",
      "metadata": {
        "id": "xMz_cC1Ijtrs",
        "colab_type": "code",
        "outputId": "33ea6a00-b572-46f0-8c39-0bc8135ef91a",
        "colab": {}
      },
      "source": [
        "I@A"
      ],
      "execution_count": 0,
      "outputs": [
        {
          "output_type": "execute_result",
          "data": {
            "text/plain": [
              "array([[1., 2.],\n",
              "       [3., 4.]])"
            ]
          },
          "metadata": {
            "tags": []
          },
          "execution_count": 298
        }
      ]
    },
    {
      "cell_type": "code",
      "metadata": {
        "id": "cQZvWIEPjtrt",
        "colab_type": "code",
        "outputId": "cd461697-1649-4b08-8559-0d52b9ad17c5",
        "colab": {}
      },
      "source": [
        "A"
      ],
      "execution_count": 0,
      "outputs": [
        {
          "output_type": "execute_result",
          "data": {
            "text/plain": [
              "array([[1, 2],\n",
              "       [3, 4]])"
            ]
          },
          "metadata": {
            "tags": []
          },
          "execution_count": 299
        }
      ]
    },
    {
      "cell_type": "code",
      "metadata": {
        "id": "5VpOPmlwjtru",
        "colab_type": "code",
        "outputId": "e06c3753-936f-433f-879c-514872deb256",
        "colab": {}
      },
      "source": [
        "s = np.array([[2,-1,0],[-1,2,-1],[0,-1,2]])\n",
        "np.linalg.det(s)"
      ],
      "execution_count": 0,
      "outputs": [
        {
          "output_type": "execute_result",
          "data": {
            "text/plain": [
              "4.0"
            ]
          },
          "metadata": {
            "tags": []
          },
          "execution_count": 3
        }
      ]
    },
    {
      "cell_type": "code",
      "metadata": {
        "id": "RiIEfC7wjtrv",
        "colab_type": "code",
        "colab": {}
      },
      "source": [
        ""
      ],
      "execution_count": 0,
      "outputs": []
    }
  ]
}
