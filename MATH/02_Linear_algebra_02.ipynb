{
  "nbformat": 4,
  "nbformat_minor": 0,
  "metadata": {
    "kernelspec": {
      "display_name": "Python 3",
      "language": "python",
      "name": "python3"
    },
    "language_info": {
      "codemirror_mode": {
        "name": "ipython",
        "version": 3
      },
      "file_extension": ".py",
      "mimetype": "text/x-python",
      "name": "python",
      "nbconvert_exporter": "python",
      "pygments_lexer": "ipython3",
      "version": "3.7.3"
    },
    "colab": {
      "name": "02_Linear algebra_02.ipynb",
      "provenance": []
    }
  },
  "cells": [
    {
      "cell_type": "markdown",
      "metadata": {
        "id": "0QtVU4or3N3s",
        "colab_type": "text"
      },
      "source": [
        "### 행렬식(determinant)\n",
        "\n",
        " - det(A) or $|A|$ 라는 기호로 표기한다.\n",
        " - 재귀적인 형태의 정의!\n",
        " \n",
        "     $det(|a|) = a$\n",
        "     \n",
        "     $det(A) = \\sum^N_{i=1}$ $\\{(-1)^{i+j_0}M_{ij_0}\\}a_{ij_0}$"
      ]
    },
    {
      "cell_type": "code",
      "metadata": {
        "id": "dZAL92ny3N3t",
        "colab_type": "code",
        "colab": {}
      },
      "source": [
        "A = np.array([[1, 2, 3], [4, 5, 6], [7, 8, 9]])\n",
        "np.linalg.det(A)"
      ],
      "execution_count": 0,
      "outputs": []
    },
    {
      "cell_type": "markdown",
      "metadata": {
        "id": "8H3muDxY3N3w",
        "colab_type": "text"
      },
      "source": [
        "- 2x2 행렬의 행렬식\n",
        "\n",
        "    $(ad-bc)$\n",
        "    \n",
        "- 3x3 행렬의 행렬식\n",
        "\n",
        "    $(aei + bfg + cdh - ceg - bdi - afh)$"
      ]
    },
    {
      "cell_type": "markdown",
      "metadata": {
        "id": "Bb-9XdMA3N3w",
        "colab_type": "text"
      },
      "source": [
        "### 행렬식의 성실\n",
        "\n",
        "- 전치 행렬의 행렬식은 원레의 행렬의 행렬식과 같다.\n",
        "\n",
        "    $det(A^T) = det(A)$\n",
        "\n",
        "- 항등 행렬의 행렬식은 1이다.\n",
        "\n",
        "    $det(I) = I$\n",
        "\n",
        "- 두 행렬의 곱의 행렬식은 각 행렬의 행렬식의 곱과 같다.\n",
        "\n",
        "    $det(AB) = det(A)det(B)$\n",
        "    \n",
        "- 역행렬 $A_-1$ 은 원래의 행렬 $A$ 와 다음 관계를 만족하는 정방행렬을 말한다. $I$는 항등행렬이다.\n",
        "\n",
        "    $A^{-1}A =AA^{-1} = I$\n",
        "    \n",
        "- 역행렬의 행렬식은 원래의 행렬의 행렬식의 역수와 같다.\n",
        "\n",
        "    $det(A^{-1}) =\\frac{1}{det(A)}$\n",
        "    \n",
        "- 위의 식은 역행렬의 여인수 전개식을 사용하여 증명할 수 있다. \n",
        "\n",
        "    $det(A)det(A^{-1}) = det(I) = I$"
      ]
    },
    {
      "cell_type": "code",
      "metadata": {
        "id": "kAEb57Eg3N3x",
        "colab_type": "code",
        "colab": {}
      },
      "source": [
        "N = np.array([[2, -1, 0], [-1, 2, -1], [0, -1, 2]])\n",
        "N"
      ],
      "execution_count": 0,
      "outputs": []
    },
    {
      "cell_type": "code",
      "metadata": {
        "id": "WNCWpikn3N3z",
        "colab_type": "code",
        "colab": {}
      },
      "source": [
        "np.trace(N)"
      ],
      "execution_count": 0,
      "outputs": []
    },
    {
      "cell_type": "code",
      "metadata": {
        "id": "rYHz0ne03N32",
        "colab_type": "code",
        "colab": {}
      },
      "source": [
        "M = np.arange(1, 5).reshape(2, 2)\n",
        "M"
      ],
      "execution_count": 0,
      "outputs": []
    },
    {
      "cell_type": "code",
      "metadata": {
        "id": "LB8cyW_j3N35",
        "colab_type": "code",
        "colab": {}
      },
      "source": [
        "np.linalg.det(M)"
      ],
      "execution_count": 0,
      "outputs": []
    },
    {
      "cell_type": "markdown",
      "metadata": {
        "id": "dteaLz7n3N36",
        "colab_type": "text"
      },
      "source": [
        "### 선형 연립방정식과 역행렬\n",
        " \n",
        "   - $\\rightarrow$ 연립일차방정식\n",
        "   \n",
        "   $A_X = b$\n",
        "   \n",
        "   - $A$ : 계수행렬(conefficient matrix)\n",
        "   - $x$ : 미지수벡터(unknown vector)\n",
        "   - $b$ : 상수벡터(constant vector)\n",
        "   \n",
        "   \n",
        "   - $A,x,b$가 스칼라 실수일 때, \n",
        "       $x = \\frac{b}{A}$ 이지만, 벡터는 나눗셈이 없으므로 비슷한 구조인 '역행렬'함수 이용"
      ]
    },
    {
      "cell_type": "markdown",
      "metadata": {
        "id": "plB35sx33N37",
        "colab_type": "text"
      },
      "source": [
        "### 역행렬\n",
        "\n",
        " - $A^{-1}A = AA^{-1} = I$\n",
        " - 가역행렬 / 비가역행렬(singluar mextrix)"
      ]
    },
    {
      "cell_type": "markdown",
      "metadata": {
        "id": "Ha7OUzxb3N38",
        "colab_type": "text"
      },
      "source": [
        "#### 대각행렬의 역행렬\n",
        "\n",
        "### 역행렬의 성질\n",
        "\n",
        " - 전치행렬의 역행렬은 역행렬의 전치행렬과 같다. 따라서 대칭 행렬의 역행렬도 대칭행렬이다. \n",
        " \n",
        "     $(A^T)^{-1} = (A^{-1})^T$\n",
        "     \n",
        " - 두개 이상의 정방행렬의 곱은 같은 크기의 정방행렬이 되는데 이러한 행렬의 곱의 역행렬은 다음 성질이 성립한다.\n",
        " \n",
        "     $(AB)^{-1} = B^{-1}A^{-1}$\n",
        "     \n",
        "     $(ABC)^{-1} = C^{-1}B^{-1}A^{-1}$"
      ]
    },
    {
      "cell_type": "markdown",
      "metadata": {
        "id": "_wwrjtgF3N39",
        "colab_type": "text"
      },
      "source": [
        "### 역행렬의 계산\n",
        "- $A^{-1} = \\frac{1}{det(A)}C^T$"
      ]
    },
    {
      "cell_type": "code",
      "metadata": {
        "id": "797mOO-F3N39",
        "colab_type": "code",
        "colab": {}
      },
      "source": [
        "d = np.array([[1, 1, 0], [0, 1, 1], [1, 1, 1]])\n",
        "\n",
        "np.linalg.inv(d)"
      ],
      "execution_count": 0,
      "outputs": []
    },
    {
      "cell_type": "code",
      "metadata": {
        "id": "creu9gd23N4A",
        "colab_type": "code",
        "colab": {}
      },
      "source": [
        "d = np.array([[0, 1], [2, 3]])\n",
        "d_inv = np.linalg.inv(d)\n",
        "d_inv"
      ],
      "execution_count": 0,
      "outputs": []
    },
    {
      "cell_type": "code",
      "metadata": {
        "id": "LIl4fpL33N4C",
        "colab_type": "code",
        "colab": {}
      },
      "source": [
        "d.dot(d_inv)"
      ],
      "execution_count": 0,
      "outputs": []
    },
    {
      "cell_type": "markdown",
      "metadata": {
        "id": "zufyPd_c3N4E",
        "colab_type": "text"
      },
      "source": [
        "### 역행렬에 대한 정리\n",
        "\n",
        " 1. 셔먼-모리슨 공식\n",
        " \n",
        "     $(A+uv^T)^{-1} = A^{-1}-$$\\frac{A^{-1}uv^TA^{-1}}{1+v^TA{-1}u}$\n",
        " \n",
        " 2. 우드베리 공식\n",
        " \n",
        "     $(A+UCV)^{-1} = A^{-1}-A^{-1}(C^{-1}+VA^{-1}U)^{-1}VA^{-1}$\n",
        " \n",
        " 3. 분할행렬의 역행렬\n",
        " "
      ]
    },
    {
      "cell_type": "code",
      "metadata": {
        "id": "ugodPecw3N4F",
        "colab_type": "code",
        "colab": {}
      },
      "source": [
        "A = np.arange(1, 5).reshape(2, 2)\n",
        "Ainv = np.linalg.inv(A)\n",
        "Ainv"
      ],
      "execution_count": 0,
      "outputs": []
    },
    {
      "cell_type": "markdown",
      "metadata": {
        "id": "1zWdq6lJ3N4H",
        "colab_type": "text"
      },
      "source": [
        "### 역행렬과 선형 연립방정식의 해\n",
        "\n",
        "$Ax = b$\n",
        "\n",
        "$A^{-1}Ax = A^{-1}b$\n",
        "\n",
        "$Ix = A^{-1}b$\n",
        "\n",
        "$x = A^{-1}b$\n"
      ]
    },
    {
      "cell_type": "code",
      "metadata": {
        "id": "1HueN5To3N4H",
        "colab_type": "code",
        "colab": {}
      },
      "source": [
        "A = np.array([[1, 1, 0], [0, 1, 1], [1, 1, 1]])\n",
        "A"
      ],
      "execution_count": 0,
      "outputs": []
    },
    {
      "cell_type": "code",
      "metadata": {
        "id": "bjLW4L6o3N4J",
        "colab_type": "code",
        "colab": {}
      },
      "source": [
        "Ainv = np.linalg.inv(A)\n",
        "Ainv"
      ],
      "execution_count": 0,
      "outputs": []
    },
    {
      "cell_type": "code",
      "metadata": {
        "id": "HH8SizpT3N4L",
        "colab_type": "code",
        "colab": {}
      },
      "source": [
        "b = np.array([[2], [2], [3]])\n",
        "b"
      ],
      "execution_count": 0,
      "outputs": []
    },
    {
      "cell_type": "code",
      "metadata": {
        "id": "0t_KuWrv3N4N",
        "colab_type": "code",
        "colab": {}
      },
      "source": [
        "x = Ainv @ b\n",
        "x"
      ],
      "execution_count": 0,
      "outputs": []
    },
    {
      "cell_type": "code",
      "metadata": {
        "id": "VzpbN4rj3N4T",
        "colab_type": "code",
        "colab": {}
      },
      "source": [
        "A @ x - b"
      ],
      "execution_count": 0,
      "outputs": []
    },
    {
      "cell_type": "code",
      "metadata": {
        "id": "gO-BdxpD3N4W",
        "colab_type": "code",
        "colab": {}
      },
      "source": [
        "x, resid, rank, s = np.linalg.lstsq(A, b)\n",
        "x"
      ],
      "execution_count": 0,
      "outputs": []
    },
    {
      "cell_type": "markdown",
      "metadata": {
        "id": "XGJTegd_3N4Z",
        "colab_type": "text"
      },
      "source": [
        "### 선형 연립방정식과 선형 예측모형\n",
        "\n",
        "- 데이터가 미지수의 갯수만큼 필요함 \n",
        "\n",
        " $Xw = y$\n",
        " \n",
        " $w = X^{-1}y$\n",
        " \n",
        "  - X의 역행렬이 존재해야 풀 수 있다."
      ]
    },
    {
      "cell_type": "code",
      "metadata": {
        "id": "WoPpfh0B3N4a",
        "colab_type": "code",
        "colab": {}
      },
      "source": [
        "from sklearn.datasets import load_boston\n",
        "boston = load_boston()\n",
        "X = boston.data\n",
        "y = boston.target\n",
        "A = X[:4, [0, 4, 5, 6]]  # 'CRIM','NOX','RM','AGE'\n",
        "b = y[:4]"
      ],
      "execution_count": 0,
      "outputs": []
    },
    {
      "cell_type": "code",
      "metadata": {
        "id": "bXlPnZJK3N4c",
        "colab_type": "code",
        "colab": {}
      },
      "source": [
        "A"
      ],
      "execution_count": 0,
      "outputs": []
    },
    {
      "cell_type": "code",
      "metadata": {
        "id": "EC1VqVRd3N4f",
        "colab_type": "code",
        "colab": {}
      },
      "source": [
        "b"
      ],
      "execution_count": 0,
      "outputs": []
    },
    {
      "cell_type": "code",
      "metadata": {
        "id": "ep0Ql0Ba3N4h",
        "colab_type": "code",
        "colab": {}
      },
      "source": [
        "Ainv = np.linalg.inv(A)\n",
        "x = np.dot(Ainv, b)\n",
        "x"
      ],
      "execution_count": 0,
      "outputs": []
    },
    {
      "cell_type": "code",
      "metadata": {
        "id": "PjaurxWn3N4j",
        "colab_type": "code",
        "colab": {}
      },
      "source": [
        "x, resid, rank, s = np.linalg.lstsq(X, y)\n",
        "x"
      ],
      "execution_count": 0,
      "outputs": []
    },
    {
      "cell_type": "markdown",
      "metadata": {
        "id": "ONyCCapg3N4l",
        "colab_type": "text"
      },
      "source": [
        "### 미지수와 방정식의 수\n",
        "\n",
        "1. 방정식의 수가 미지수의 수와 같다. $(N = M)$\n",
        "2. 방정식의 수가 미지수의 수보다 적다. $(N < M)$\n",
        "\n",
        " - 정보 / 힌트가 곧 방정식의 갯수\n",
        " - 문제를 풀 수가 없다.\n",
        " \n",
        "3. 방정식의 수가 미지수의 수보다 많다. $(N > M)$\n",
        "\n",
        " - $x_1 +x_2+2x_3 = 4$\n",
        " - 답이 존재하지 않는 경우가 일반적인 경우\n",
        " - 그럼... 일반적으로 다 데이터를 못 푸는 건가??? \n",
        "  $\\rightarrow$ 최소자승문제로 문제를 바꿈!!! "
      ]
    },
    {
      "cell_type": "markdown",
      "metadata": {
        "id": "_zuSWS1e3N4m",
        "colab_type": "text"
      },
      "source": [
        "### 최소자승문제\n",
        "\n",
        " - $e = Ax -b$\n",
        "  : 똑같지는 않아도 최소한 비슷한 답을 찾을 수는 있지 않을까?\n",
        " "
      ]
    },
    {
      "cell_type": "markdown",
      "metadata": {
        "id": "FqUh_rWk3N4m",
        "colab_type": "text"
      },
      "source": [
        "### 벡터의 놈(norm)을 최소화! \n",
        "\n",
        " $e^Te = \\|e\\|^2 = (Ax-b)^T(Ax-b)$\n",
        " \n",
        " $x =arg min_x e^Te = arg min_x (Ax-b)^T(Ax-b)$ "
      ]
    },
    {
      "cell_type": "markdown",
      "metadata": {
        "id": "ZdpLnROF3N4n",
        "colab_type": "text"
      },
      "source": [
        "### 최적화...  -> 벡터와 행렬의 미분!\n",
        "\n",
        "$x = ((A^TA)^{-1}A^T)b$"
      ]
    },
    {
      "cell_type": "markdown",
      "metadata": {
        "id": "Thcy7uXz3N4n",
        "colab_type": "text"
      },
      "source": [
        "### 의사 역행렬(pseudo inverse)\n",
        "\n",
        " $A^+ = (A^TA)^{-1}A^T$\n",
        " \n",
        " $x = A^+b$"
      ]
    },
    {
      "cell_type": "code",
      "metadata": {
        "id": "Z9ctK11T3N4o",
        "colab_type": "code",
        "colab": {}
      },
      "source": [
        "A = np.array([[1, 1, 0], [0, 1, 1], [1, 1, 1], [1, 1, 2]])\n",
        "A"
      ],
      "execution_count": 0,
      "outputs": []
    },
    {
      "cell_type": "code",
      "metadata": {
        "id": "ZWqoy3ii3N4q",
        "colab_type": "code",
        "colab": {}
      },
      "source": [
        "b = np.array([[2], [2], [3], [4.1]])\n",
        "b"
      ],
      "execution_count": 0,
      "outputs": []
    },
    {
      "cell_type": "code",
      "metadata": {
        "id": "wA9YmBWF3N4s",
        "colab_type": "code",
        "colab": {}
      },
      "source": [
        "Apinv = np.linalg.inv(A.T@A)@A.T\n",
        "Apinv"
      ],
      "execution_count": 0,
      "outputs": []
    },
    {
      "cell_type": "code",
      "metadata": {
        "id": "1DaaG8FH3N4t",
        "colab_type": "code",
        "colab": {}
      },
      "source": [
        "x = Apinv @ b\n",
        "x"
      ],
      "execution_count": 0,
      "outputs": []
    },
    {
      "cell_type": "code",
      "metadata": {
        "id": "rgVgexxj3N4v",
        "colab_type": "code",
        "colab": {}
      },
      "source": [
        "A@x"
      ],
      "execution_count": 0,
      "outputs": []
    },
    {
      "cell_type": "code",
      "metadata": {
        "id": "Tpp6zRCt3N4y",
        "colab_type": "code",
        "colab": {}
      },
      "source": [
        "x, resid, rank, s = np.linalg.lstsq(A, b)\n",
        "x"
      ],
      "execution_count": 0,
      "outputs": []
    },
    {
      "cell_type": "code",
      "metadata": {
        "id": "gmsH7bOx3N42",
        "colab_type": "code",
        "colab": {}
      },
      "source": [
        "# e = Ax-b 의 제곱합, 놈의 제곱값\n",
        "resid, np.linalg.norm(A@x-b)**2"
      ],
      "execution_count": 0,
      "outputs": []
    },
    {
      "cell_type": "markdown",
      "metadata": {
        "id": "FQuAm8lU3N43",
        "colab_type": "text"
      },
      "source": [
        "#### 선형 예측모형 $Xw = \\hat{y}$ 로 풀었을 때의 가중치벡터 $w$를 최소자승 방법으로 구하라"
      ]
    },
    {
      "cell_type": "code",
      "metadata": {
        "id": "Z9sOKJPC3N44",
        "colab_type": "code",
        "colab": {}
      },
      "source": [
        "from sklearn.datasets import load_boston\n",
        "boston = load_boston()\n",
        "\n",
        "X = boston.data\n",
        "y = boston.target"
      ],
      "execution_count": 0,
      "outputs": []
    },
    {
      "cell_type": "code",
      "metadata": {
        "id": "2FXPUmwo3N47",
        "colab_type": "code",
        "outputId": "2646ca86-b14f-4a2f-f427-8adf20d3bf9b",
        "colab": {}
      },
      "source": [
        "x, resid, rank, s = np.linalg.lstsq(X, y)\n",
        "x"
      ],
      "execution_count": 0,
      "outputs": [
        {
          "output_type": "stream",
          "text": [
            "/anaconda3/lib/python3.7/site-packages/ipykernel_launcher.py:1: FutureWarning: `rcond` parameter will change to the default of machine precision times ``max(M, N)`` where M and N are the input matrix dimensions.\n",
            "To use the future default and silence this warning we advise to pass `rcond=None`, to keep using the old, explicitly pass `rcond=-1`.\n",
            "  \"\"\"Entry point for launching an IPython kernel.\n"
          ],
          "name": "stderr"
        },
        {
          "output_type": "execute_result",
          "data": {
            "text/plain": [
              "array([-9.28965170e-02,  4.87149552e-02, -4.05997958e-03,  2.85399882e+00,\n",
              "       -2.86843637e+00,  5.92814778e+00, -7.26933458e-03, -9.68514157e-01,\n",
              "        1.71151128e-01, -9.39621540e-03, -3.92190926e-01,  1.49056102e-02,\n",
              "       -4.16304471e-01])"
            ]
          },
          "metadata": {
            "tags": []
          },
          "execution_count": 3
        }
      ]
    },
    {
      "cell_type": "code",
      "metadata": {
        "id": "Cgq1MUyj3N4-",
        "colab_type": "code",
        "outputId": "4dc8a039-737a-4df1-f02d-d06c17ca5f8c",
        "colab": {}
      },
      "source": [
        "A = np.array([[1, 1, 0], [0, 1, 1], [1, 1, 1], [1, 1, 2]])\n",
        "A"
      ],
      "execution_count": 0,
      "outputs": [
        {
          "output_type": "execute_result",
          "data": {
            "text/plain": [
              "array([[1, 1, 0],\n",
              "       [0, 1, 1],\n",
              "       [1, 1, 1],\n",
              "       [1, 1, 2]])"
            ]
          },
          "metadata": {
            "tags": []
          },
          "execution_count": 5
        }
      ]
    },
    {
      "cell_type": "code",
      "metadata": {
        "id": "lzYMtyfc3N5A",
        "colab_type": "code",
        "outputId": "f9ee9a12-3ef0-408d-c630-c7ac08c6c3df",
        "colab": {}
      },
      "source": [
        "b = np.array([[2], [2], [3], [4.1]])\n",
        "b"
      ],
      "execution_count": 0,
      "outputs": [
        {
          "output_type": "execute_result",
          "data": {
            "text/plain": [
              "array([[2. ],\n",
              "       [2. ],\n",
              "       [3. ],\n",
              "       [4.1]])"
            ]
          },
          "metadata": {
            "tags": []
          },
          "execution_count": 6
        }
      ]
    },
    {
      "cell_type": "code",
      "metadata": {
        "id": "eQsLUC1Y3N5C",
        "colab_type": "code",
        "outputId": "9af3dcda-fe6b-401a-bbcd-20c6bfe6d098",
        "colab": {}
      },
      "source": [
        "Apinv = np.linalg.inv(A.T @ A)@ A.T\n",
        "Apinv"
      ],
      "execution_count": 0,
      "outputs": [
        {
          "output_type": "execute_result",
          "data": {
            "text/plain": [
              "array([[ 0.33333333, -1.        ,  0.33333333,  0.33333333],\n",
              "       [ 0.5       ,  1.        ,  0.        , -0.5       ],\n",
              "       [-0.5       ,  0.        ,  0.        ,  0.5       ]])"
            ]
          },
          "metadata": {
            "tags": []
          },
          "execution_count": 10
        }
      ]
    },
    {
      "cell_type": "code",
      "metadata": {
        "id": "qs861rpQ3N5G",
        "colab_type": "code",
        "outputId": "bf45fdda-cb18-4760-fc43-5ba5f39f8607",
        "colab": {}
      },
      "source": [
        "x = Apinv @ b\n",
        "x"
      ],
      "execution_count": 0,
      "outputs": [
        {
          "output_type": "execute_result",
          "data": {
            "text/plain": [
              "array([[1.03333333],\n",
              "       [0.95      ],\n",
              "       [1.05      ]])"
            ]
          },
          "metadata": {
            "tags": []
          },
          "execution_count": 12
        }
      ]
    },
    {
      "cell_type": "code",
      "metadata": {
        "id": "pJ5Pknjz3N5I",
        "colab_type": "code",
        "outputId": "8139daf0-19e0-482e-e7b6-627ba376ef74",
        "colab": {}
      },
      "source": [
        "A@x"
      ],
      "execution_count": 0,
      "outputs": [
        {
          "output_type": "execute_result",
          "data": {
            "text/plain": [
              "array([[1.98333333],\n",
              "       [2.        ],\n",
              "       [3.03333333],\n",
              "       [4.08333333]])"
            ]
          },
          "metadata": {
            "tags": []
          },
          "execution_count": 13
        }
      ]
    },
    {
      "cell_type": "code",
      "metadata": {
        "id": "F_WX1T463N5J",
        "colab_type": "code",
        "outputId": "1eedcd4e-09a8-48cf-e18c-9e7e466a6a01",
        "colab": {}
      },
      "source": [
        "x, resid, rank, s = np.linalg.lstsq(A, b)\n",
        "x"
      ],
      "execution_count": 0,
      "outputs": [
        {
          "output_type": "stream",
          "text": [
            "/anaconda3/lib/python3.7/site-packages/ipykernel_launcher.py:1: FutureWarning: `rcond` parameter will change to the default of machine precision times ``max(M, N)`` where M and N are the input matrix dimensions.\n",
            "To use the future default and silence this warning we advise to pass `rcond=None`, to keep using the old, explicitly pass `rcond=-1`.\n",
            "  \"\"\"Entry point for launching an IPython kernel.\n"
          ],
          "name": "stderr"
        },
        {
          "output_type": "execute_result",
          "data": {
            "text/plain": [
              "array([[1.03333333],\n",
              "       [0.95      ],\n",
              "       [1.05      ]])"
            ]
          },
          "metadata": {
            "tags": []
          },
          "execution_count": 15
        }
      ]
    },
    {
      "cell_type": "code",
      "metadata": {
        "id": "n6ukzjFH3N5L",
        "colab_type": "code",
        "outputId": "85aa626e-60d6-49d9-9044-e23c3e7cca96",
        "colab": {}
      },
      "source": [
        "resid, np.linalg.norm(A@x - b)**2"
      ],
      "execution_count": 0,
      "outputs": [
        {
          "output_type": "execute_result",
          "data": {
            "text/plain": [
              "(array([0.00166667]), 0.0016666666666666698)"
            ]
          },
          "metadata": {
            "tags": []
          },
          "execution_count": 16
        }
      ]
    }
  ]
}