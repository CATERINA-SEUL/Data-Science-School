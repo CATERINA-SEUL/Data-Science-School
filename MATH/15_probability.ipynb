{
 "cells": [
  {
   "cell_type": "markdown",
   "metadata": {},
   "source": [
    "### 확률\n",
    "\n",
    " - 확률표본\n",
    " - 표본공간\n",
    " - 사건\n",
    " \n",
    "----\n",
    "\n",
    "#### 표본공간과 확률표본\n",
    " \n",
    "  - 확률표본 : sample\n",
    "      - 확률적 문제에서 선택할 수 있는 한가지 경우, 물건 등을 이야기한다. \n",
    "  - 표본공간 : 오메가 ($\\Omega$)\n",
    "      - 모든 표본이 들어간 집합\n",
    "      \n",
    "    ex) 동전을 두번 던졌을 때 나올 수 있는 경우의 수\n",
    "       $\\Omega$ = {HH,HT,TH,TT}   \n",
    "       \n",
    "  - 확률적 문제라는 것이 존재해야 확률을 정의할 수 있다. \n",
    "  - 확률적인 문제를 따질 때는 지식이 있어야 한다.\n",
    "\n",
    "----\n",
    "#### 사건\n",
    " \n",
    " \n",
    "  - 사건 : event\n",
    "      - 표본공간 $\\Omega$의 부분집합\n",
    "      \n",
    "  ##### 사건 == event == 부분집합\n",
    "  \n",
    "  ex) A = frozenset([])\n",
    "      B = frozenset([])\n",
    "      c = frozenset([])\n",
    "      set([A,B,C)\n",
    "      \n",
    "---- \n",
    "#### 확률 ($P$)\n",
    "\n",
    " - 사건을 입력하면 숫자가 출력되는 함수\n",
    "     * 정의역 : 표본공간에 있는 모든 부분집합 \n",
    "     \n",
    " - 확률 $P$는 함수, $P(A)$는 $A$라는 부분집합에 대해서 할당된 숫자(확률값)\n",
    " \n",
    " ---\n",
    "##### 콜모고로프의 공리 (3가지 규칙)\n",
    " \n",
    "  1) 확률은 실수, 0 또는 양수 \n",
    "   - $P(A) \\geq 0$\n",
    " \n",
    "  2) 표본공간이라는 사건에 대한 확률은 1\n",
    "   - $P(\\Omega) = 1$\n",
    "     \n",
    "  3) 교집합이 없는 두 사건의 합집합의 확률은 사건별 확률의 합\n",
    "   - $A\\cap B = \\emptyset \\rightarrow P(A\\cup B) = P(A) + P(B)$\n",
    "   \n",
    "--- \n",
    "#### python을 이용한 확률 구현\n",
    "\n",
    " - 정의역이 유한한 경우 딕셔너리를 사용하여 확률함수를 구현"
   ]
  },
  {
   "cell_type": "code",
   "execution_count": 4,
   "metadata": {},
   "outputs": [
    {
     "data": {
      "text/plain": [
       "{frozenset(): 0,\n",
       " frozenset({'H'}): 0.4,\n",
       " frozenset({'T'}): 0.6,\n",
       " frozenset({'H', 'T'}): 1}"
      ]
     },
     "execution_count": 4,
     "metadata": {},
     "output_type": "execute_result"
    }
   ],
   "source": [
    "A = frozenset([])\n",
    "B = frozenset(['H'])\n",
    "C = frozenset(['T'])\n",
    "D = frozenset(['H', 'T'])\n",
    "set([A, B, C, D])\n",
    "\n",
    "P = {A: 0, B: 0.4, C: 0.6, D: 1}\n",
    "P"
   ]
  },
  {
   "cell_type": "code",
   "execution_count": 7,
   "metadata": {},
   "outputs": [],
   "source": [
    "from itertools import chain, combinations\n",
    "omega = {\"HH\", \"HT\", \"TH\", \"TT\"}\n",
    "\n",
    "\n",
    "def get_set_of_subsets(omega):\n",
    "    return set([frozenset(s)\n",
    "                for s in chain.from_iterable(combinations(omega, r)\n",
    "                                             for r in range(len(omega)+1))])"
   ]
  },
  {
   "cell_type": "code",
   "execution_count": 9,
   "metadata": {},
   "outputs": [
    {
     "data": {
      "text/plain": [
       "{frozenset(),\n",
       " frozenset({'TH'}),\n",
       " frozenset({'TT'}),\n",
       " frozenset({'HT'}),\n",
       " frozenset({'HH'}),\n",
       " frozenset({'HH', 'HT'}),\n",
       " frozenset({'HH', 'TT'}),\n",
       " frozenset({'HH', 'HT', 'TT'}),\n",
       " frozenset({'HH', 'TH', 'TT'}),\n",
       " frozenset({'HH', 'HT', 'TH'}),\n",
       " frozenset({'TH', 'TT'}),\n",
       " frozenset({'HT', 'TT'}),\n",
       " frozenset({'HT', 'TH', 'TT'}),\n",
       " frozenset({'HH', 'TH'}),\n",
       " frozenset({'HT', 'TH'}),\n",
       " frozenset({'HH', 'HT', 'TH', 'TT'})}"
      ]
     },
     "execution_count": 9,
     "metadata": {},
     "output_type": "execute_result"
    }
   ],
   "source": [
    "SS1 = get_set_of_subsets(omega)\n",
    "SS1"
   ]
  },
  {
   "cell_type": "code",
   "execution_count": 11,
   "metadata": {},
   "outputs": [
    {
     "data": {
      "text/plain": [
       "{frozenset(),\n",
       " frozenset({'♣', '♥'}),\n",
       " frozenset({'♠', '♣'}),\n",
       " frozenset({'♥'}),\n",
       " frozenset({'♠'}),\n",
       " frozenset({'♠', '♣', '♥'}),\n",
       " frozenset({'♦'}),\n",
       " frozenset({'♠', '♥'}),\n",
       " frozenset({'♠', '♦'}),\n",
       " frozenset({'♥', '♦'}),\n",
       " frozenset({'♣'}),\n",
       " frozenset({'♣', '♦'}),\n",
       " frozenset({'♠', '♣', '♦'}),\n",
       " frozenset({'♣', '♥', '♦'}),\n",
       " frozenset({'♠', '♥', '♦'}),\n",
       " frozenset({'♠', '♣', '♥', '♦'})}"
      ]
     },
     "execution_count": 11,
     "metadata": {},
     "output_type": "execute_result"
    }
   ],
   "source": [
    "omega1 = {\"♦\", \"♥\", \"♠\", \"♣\"}\n",
    "SS2 = get_set_of_subsets(omega1)\n",
    "SS2"
   ]
  },
  {
   "cell_type": "markdown",
   "metadata": {},
   "source": [
    "----\n",
    "#### 확률의 의미\n",
    "\n",
    " 1) 빈도주의적 관점\n",
    " \n",
    "  - 반복적으로 선택된 표본이 사건의 원소가 되는 경향\n",
    " \n",
    "2) 베이지안 관점\n",
    "  \n",
    "  - 선택된 표본이 특정한 사건에 속한다는 가설, 명제, 주장의 신뢰도\n",
    "  \n",
    "---\n",
    "#### 확률의 성질\n",
    "\n",
    "1) 공집합의 확률은 0이다 \n",
    " \n",
    "  - $P(\\emptyset) = 0$\n",
    "  \n",
    "2) 어떤 사건의 여집합인 사건의 확률은 (1-원래사건의 확률)과 같다. \n",
    " \n",
    "  - $P(A^\\complement) = 1-P(A)$\n",
    "\n",
    "3) 두 사건의 합집합의 확률은 각 사건의 확률의 합에서 두 사건의 교집합의 확률을 뺀 것과 같다.\n",
    "\n",
    "  - $P(A\\cup B) = P(A) + P(B) - P(A\\cap B)$\n",
    "\n",
    "4) 사건 $A$의 확률은 사건 $C_i$가 동시에 발생할 사건들의 확률의 합과 같다.\n",
    "\n",
    "  - $P(A) = \\sum_i P(A\\cap C_i) = \\sum_i P(A,C_i)$\n",
    "  - 교집합 기호 : $P(A\\cap B) = P(A,B)$\n",
    "  \n",
    "---\n"
   ]
  }
 ],
 "metadata": {
  "kernelspec": {
   "display_name": "Python 3",
   "language": "python",
   "name": "python3"
  },
  "language_info": {
   "codemirror_mode": {
    "name": "ipython",
    "version": 3
   },
   "file_extension": ".py",
   "mimetype": "text/x-python",
   "name": "python",
   "nbconvert_exporter": "python",
   "pygments_lexer": "ipython3",
   "version": "3.7.3"
  }
 },
 "nbformat": 4,
 "nbformat_minor": 4
}
