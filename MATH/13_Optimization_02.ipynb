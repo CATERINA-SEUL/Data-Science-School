{
 "cells": [
  {
   "cell_type": "markdown",
   "metadata": {},
   "source": [
    "### 전역 최적화 문제\n",
    "\n",
    " - 컨벡스 문제 (딥러닝을 제외한 머신러닝에서 활용)\n",
    "  : 2차 도함수가 양수\n",
    " \n",
    "     $\\frac{\\partial^2f}{\\partial x^2} \\geq 0$\n",
    "     \n",
    "      - 전역 최저점이 항상 존재한다. "
   ]
  },
  {
   "cell_type": "markdown",
   "metadata": {},
   "source": [
    "---\n",
    "### 제한 조건이 있는 최적화 문제 \n",
    "\n",
    " 1) 등식 제한 조건\n",
    " \n",
    "  - $x* = arg min_x f(x)$\n",
    "  - $x \\in R^N$\n",
    "  - $g_j(x) = 0 (j = 1, ... , M)$\n",
    "  \n",
    "  \n",
    "  * 목적함수 \n",
    "  \n",
    "   $f(x) + \\Sigma^M_{j=1}\\lambda_j g_j (x)$\n",
    " \n",
    "   $f(x) + \\lambda g(x)$\n",
    "   \n",
    "   $\\rightarrow$ fmin_slsqp()\n",
    "\n",
    "\n",
    " 2) 부등식 제한 조건\n",
    " \n",
    "  - $x* = arg min_x f(x)$\n",
    "  - $x \\in R^N$\n",
    "  - $g_j(x) \\leq 0 (j = 1, ... , M)$\n",
    "  \n",
    "  * 목적함수\n",
    "  \n",
    "   $f(x) + \\Sigma^M_{j=1}\\lambda_j g_j (x)$\n",
    "   \n",
    "#### KKT (Karuch-Kuhn-Tucker) 조건\n",
    "   \n",
    "1) 모든 독립변수 $x_1,x_2,x_3,...,X_N$에 대한 미분값이 0이다\n",
    "    \n",
    "$\\frac{\\partial h(x,\\lambda)}{\\partial x_1} = 0$\n",
    "    \n",
    "2) 모든 라그랑주 승수 $\\lambda_1, ... , \\lambda_M$과 제한 조건 부등식 ($\\lambda$에 대한 미분값)의 곱이 0이다. \n",
    "    \n",
    "$\\lambda_j \\cdot \\frac{\\partial h(x,\\lambda)}{\\partial \\lambda_j} = \\lambda_j \\cdot g_j = 0$\n",
    "    \n",
    "3) 라그랑주 승수는 음수가 아니어야 한다. \n",
    "       \n",
    "$\\lambda_j \\geq 0$"
   ]
  },
  {
   "cell_type": "code",
   "execution_count": 69,
   "metadata": {},
   "outputs": [
    {
     "name": "stdout",
     "output_type": "stream",
     "text": [
      "Optimization terminated successfully.    (Exit mode 0)\n",
      "            Current function value: 0.5000000000000002\n",
      "            Iterations: 2\n",
      "            Function evaluations: 8\n",
      "            Gradient evaluations: 2\n"
     ]
    },
    {
     "data": {
      "text/plain": [
       "array([0.5, 0.5])"
      ]
     },
     "execution_count": 69,
     "metadata": {},
     "output_type": "execute_result"
    }
   ],
   "source": [
    "def f1array(x):\n",
    "    return x[0]**2 + x[1] ** 2\n",
    "\n",
    "\n",
    "def eq_constraint(x):\n",
    "    return x[0]+x[1]-1\n",
    "\n",
    "\n",
    "sp.optimize.fmin_slsqp(f1array, np.array([1, 1]), eqcons=[eq_constraint])"
   ]
  },
  {
   "cell_type": "markdown",
   "metadata": {},
   "source": [
    "#### 라그랑주 승수의 의미\n",
    "\n",
    " - $\\lambda_i \\neq 0$\n",
    " \n",
    " ex) \n",
    " \n",
    "  $f = x_1^2 + x_2^2$\n",
    "  \n",
    "  $x* = (0,0)$\n",
    "  \n",
    "  $g = x_1 + x_2 - 1 = 0$ \n",
    "  \n",
    "      *제한조건 $h = x_1^2 + x_2^2 + \\lambda(x_1+x_2-1)$\n",
    "  \n",
    "  $x* = (\\frac{1}{2},\\frac{1}{2})$\n",
    "      \n",
    "      * 최적화하려는 목적함수가 다르기 때문에 답이 다를 수 밖에 없음 !\n",
    "      * $\\lambda$가 0이면 등식제한조건이 무용지물. \n"
   ]
  },
  {
   "cell_type": "code",
   "execution_count": 70,
   "metadata": {},
   "outputs": [
    {
     "name": "stdout",
     "output_type": "stream",
     "text": [
      "Optimization terminated successfully.    (Exit mode 0)\n",
      "            Current function value: 3.6055512804550336\n",
      "            Iterations: 11\n",
      "            Function evaluations: 77\n",
      "            Gradient evaluations: 11\n"
     ]
    },
    {
     "data": {
      "text/plain": [
       "array([9.99999982e-01, 1.79954011e-08])"
      ]
     },
     "execution_count": 70,
     "metadata": {},
     "output_type": "execute_result"
    }
   ],
   "source": [
    "def f2(x):\n",
    "    return np.sqrt((x[0] - 4)**2 + (x[1]-2)**2)\n",
    "\n",
    "k = 1\n",
    "def ieq_constraint(x):\n",
    "    return np.atleast_1d(k-np.sum(np.abs(x)))\n",
    "\n",
    "sp.optimize.fmin_slsqp(f2, np.array([0,0]), ieqcons=[ieq_constraint])"
   ]
  },
  {
   "cell_type": "code",
   "execution_count": 73,
   "metadata": {},
   "outputs": [
    {
     "name": "stdout",
     "output_type": "stream",
     "text": [
      "Optimization terminated successfully.    (Exit mode 0)\n",
      "            Current function value: 2.8284287493322235\n",
      "            Iterations: 8\n",
      "            Function evaluations: 38\n",
      "            Gradient evaluations: 8\n"
     ]
    },
    {
     "data": {
      "text/plain": [
       "array([1.9978564, 0.0021436])"
      ]
     },
     "execution_count": 73,
     "metadata": {},
     "output_type": "execute_result"
    }
   ],
   "source": [
    "def f2(x):\n",
    "    return np.sqrt((x[0] - 4)**2 + (x[1]-2)**2)\n",
    "\n",
    "k = 2\n",
    "def ieq_constraint(x):\n",
    "    return np.atleast_1d(k-np.sum(np.abs(x)))\n",
    "\n",
    "sp.optimize.fmin_slsqp(f2, np.array([0,0]), ieqcons=[ieq_constraint])"
   ]
  },
  {
   "cell_type": "code",
   "execution_count": 75,
   "metadata": {},
   "outputs": [
    {
     "name": "stdout",
     "output_type": "stream",
     "text": [
      "Optimization terminated successfully.    (Exit mode 0)\n",
      "            Current function value: 4.031128897766439\n",
      "            Iterations: 12\n",
      "            Function evaluations: 78\n",
      "            Gradient evaluations: 12\n"
     ]
    },
    {
     "data": {
      "text/plain": [
       "array([4.99999937e-01, 6.34692395e-08])"
      ]
     },
     "execution_count": 75,
     "metadata": {},
     "output_type": "execute_result"
    }
   ],
   "source": [
    "def f2(x):\n",
    "    return np.sqrt((x[0] - 4)**2 + (x[1]-2)**2)\n",
    "\n",
    "k = 0.5\n",
    "def ieq_constraint(x):\n",
    "    return np.atleast_1d(k-np.sum(np.abs(x)))\n",
    "\n",
    "sp.optimize.fmin_slsqp(f2, np.array([0,0]), ieqcons=[ieq_constraint])"
   ]
  }
 ],
 "metadata": {
  "kernelspec": {
   "display_name": "Python 3",
   "language": "python",
   "name": "python3"
  },
  "language_info": {
   "codemirror_mode": {
    "name": "ipython",
    "version": 3
   },
   "file_extension": ".py",
   "mimetype": "text/x-python",
   "name": "python",
   "nbconvert_exporter": "python",
   "pygments_lexer": "ipython3",
   "version": "3.7.3"
  }
 },
 "nbformat": 4,
 "nbformat_minor": 4
}
