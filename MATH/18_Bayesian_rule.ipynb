{
 "cells": [
  {
   "cell_type": "markdown",
   "metadata": {},
   "source": [
    "----\n",
    "### 베이즈 정리\n",
    "\n",
    " - 데이터라는 조건이 주어졌을 때 조건부 확률을 구하는 공식\n",
    " \n",
    "  - $P(A|B) = \\frac{P(B|A)P(A)}{P(B)}$\n",
    "  \n",
    "  \n",
    "  ----\n",
    "  - $P(A|B)$ : 사후확률(posterior). 사건 B가 발생한 후 갱신된 사건 A의 확률\n",
    "  - $P(A)$ : 사전확률 (prior). 사건 B가 발생하기 전에 가지고 있던 사건 A의 확률\n",
    "  - $P(B|A)$ : 가능도(likelihood). 사건 A가 발생한 경우 사건 B의 확률\n",
    "  - $P(B)$ : 정규화상수(normalizing constant) 또는 증거(evidence). 확률의 크기 조정\n",
    "  \n",
    "  \n",
    "--- \n",
    "#### 베이즈 정리 확장1\n",
    "\n",
    " - $P(A_1|B)$ \n",
    " \n",
    " $= \\frac{P(B|A)P(A)}{P(B)}$\n",
    " \n",
    " $= \\frac{P(B|A_1)P(A_1)}{\\sum_iP(A_i,B)}$\n",
    " \n",
    " $= \\frac{P(B|A_1)P(A_1)}{\\sum_iP(B|A_I)P(A_i)}$\n",
    " \n",
    " \n",
    " \n",
    " - $P(A_i|B)$ 에서 $i$의 값이 바뀌어도 분자의 값만 비교하면 됨\n",
    " \n",
    " ---\n",
    " \n",
    " #### Classification 의 장점과 단점\n",
    "     \n",
    "   - 장점 : 첫번째 답이 아닐 때 2,3을 구할 수 있음. \n",
    "   - 단점 : Class4개를 풀기 위해서 4개를 구해야함.... \n",
    "   \n",
    " ---\n",
    " \n",
    " #### $A_1 = A , A_2 = A^\\complement$ 인 경우\n",
    " \n",
    " \n",
    "  - $P(A|B)$\n",
    "  \n",
    "  $ = \\frac{P(B|A)P(A)}{P(B)}$\n",
    "  \n",
    "    $ = \\frac{P(B|A)P(A)}{P(B,A)+P(B,A^\\complement}$\n",
    "  \n",
    "  $ = \\frac{p(B|A)P(A)}{P(B|A)P(A) + P(B|A^\\complement)P(A^\\complement)}$\n",
    "  \n",
    "  $ = \\frac{P(B|A)P(A)}{P(B|A)P(A)+P(B|A^\\complement)(1-P(A)}$\n",
    "  \n",
    "\n",
    " - 2진 분류 문제 \n",
    "---\n",
    "\n",
    "### 검사 시약 문제\n",
    "\n",
    " 1) 사건\n",
    " \n",
    "  - 병에 걸리는 경우 : D\n",
    "  - 양성반응을 보이는 경우 : S\n",
    "  - 병에 걸린 사람이 양성 반응을 보이는 경우 : S|D\n",
    "  - 양성 반응을 보이는 사람이 병에 걸려있을 경우 : D|S\n",
    "  \n",
    " 2) 문제\n",
    " \n",
    "  - $P(S|D) = 0.99$가 주어졌을 때, P(D|S)를 구하라.\n",
    "  \n",
    "---- \n",
    "\n",
    " #### 베이즈 정리에 의해서 \n",
    " \n",
    "   - $P(D|S) = \\frac{P(S|D)P(D)}{P(S)}$\n",
    "   \n",
    "  -- 현재 $P(S), P(D)$ 를 모르기 때문에 구할 수가 없다. \n",
    "\n",
    "---- \n",
    "\n",
    " 3) 추가 조사 정보\n",
    " \n",
    "  - 이 병은 전체 인구 중에서 걸린 사람이 0.2%인 희귀병이다. \n",
    "  \n",
    "      : $P(D) = 0.002$\n",
    "      \n",
    "  \n",
    "  - 이 병에 걸리지 않은 사람에게 시약검사를 했을 때, 양성반응이 나타날 확률은 5%이다. \n",
    "  \n",
    "      : $P(S|D^\\complement) = 0.05$\n",
    "      \n",
    "      \n",
    "---\n",
    "#### 베이즈 정리의 확장에 의해서 \n",
    "\n",
    " - $P(D|S)$\n",
    " \n",
    "  $= \\frac{P(S|D)P(D)}{P(S)}$\n",
    "  \n",
    "  $ = \\frac{P(S|D)P(D)}{P(S,D)+P(S,D^\\complement)} $\n",
    "  \n",
    "  $ = \\frac{P(S|D)P(D)}{P(S|D)P(D)+P(S|D^\\complement)P(D^\\complement)}$\n",
    "  \n",
    "  $ = \\frac{P(S|D)P(D)}{P(S|D)P(D)+P(S|D^\\complement)(1-P(D))}$\n",
    "  \n",
    "  $ = \\frac{0.99\\cdot 0.002}{0.99\\cdot 0.002+0.05\\cdot (1-0.002)}$\n",
    "  \n",
    "  $ = 0.038$"
   ]
  },
  {
   "cell_type": "code",
   "execution_count": 56,
   "metadata": {},
   "outputs": [
    {
     "data": {
      "text/plain": [
       "0.038"
      ]
     },
     "execution_count": 56,
     "metadata": {},
     "output_type": "execute_result"
    }
   ],
   "source": [
    "round((0.99*0.002) / (0.99*0.002+0.05)*(1-0.002), 3)"
   ]
  },
  {
   "cell_type": "markdown",
   "metadata": {},
   "source": [
    "----\n",
    "#### TabularCPD(variable, variable_card, value, evidence=None, evidence_card=None)\n",
    "\n",
    " - BayesianModel : 베이즈정리에 적용\n",
    " - TabularCPD : 조건부확률을 구현\n",
    " \n",
    "---- \n",
    "\n",
    " - variable : 확률 변수의 이름 문자열\n",
    " - variable_card : 확률변수가 가질 수 있는 경우의 수\n",
    " - value : 조건부확률 배열. 하나의 열(column)이 동일 조건을 뜻하므로, 하나의 열의 확률 합은 1이어야 한다.\n",
    " - evidence : 조건이 되는 확률변수의 이름 문자열 리스트\n",
    " - evidence_card : 조건이 되는 확률변수가 가질 수 있는 경우의 수 리스트\n",
    " \n",
    " 일반적인 확률을 구현할 때 : evidence = None , evidence_card = None"
   ]
  },
  {
   "cell_type": "markdown",
   "metadata": {},
   "source": [
    "#### 병에 걸렸을 사전확률 $P(D) = P(X=1)$, 병에 걸리지 않았을 사전확률 $P(D^\\complement) = P(X = 0)$"
   ]
  },
  {
   "cell_type": "code",
   "execution_count": 90,
   "metadata": {},
   "outputs": [],
   "source": [
    "from pgmpy.factors.discrete import TabularCPD"
   ]
  },
  {
   "cell_type": "code",
   "execution_count": 91,
   "metadata": {},
   "outputs": [
    {
     "name": "stdout",
     "output_type": "stream",
     "text": [
      "+------+-------+\n",
      "| X(0) | 0.998 |\n",
      "+------+-------+\n",
      "| X(1) | 0.002 |\n",
      "+------+-------+\n"
     ]
    }
   ],
   "source": [
    "cpd_X = TabularCPD('X', 2, [[1-0.002, 0.002]])\n",
    "print(cpd_X)"
   ]
  },
  {
   "cell_type": "markdown",
   "metadata": {},
   "source": [
    "#### 양성반응이 나올 확률 $P(S) = P(Y = 1)$, 음성 반응이 나올 확률 $P(S^\\complement) = P(Y=0)$\n",
    "\n",
    " - 확률 변수 $Y$ 에 확률을 베이즈 모형에 넣을 때는 $P(Y|X)$의 형태로 넣어야한다.\n",
    " \n",
    " - evidence : 조건이 되는 확률변수가 누구냐 ! \n",
    " - evidence_card : 몇가지 조건이 존재하는가 ! "
   ]
  },
  {
   "cell_type": "code",
   "execution_count": 92,
   "metadata": {},
   "outputs": [
    {
     "name": "stdout",
     "output_type": "stream",
     "text": [
      "+------+------+------+\n",
      "| X    | X(0) | X(1) |\n",
      "+------+------+------+\n",
      "| Y(0) | 0.95 | 0.01 |\n",
      "+------+------+------+\n",
      "| Y(1) | 0.05 | 0.99 |\n",
      "+------+------+------+\n"
     ]
    }
   ],
   "source": [
    "cpd_Y_on_X = TabularCPD('Y', 2, np.array(\n",
    "    [[0.95, 0.01], [0.05, 0.99]]), evidence=['X'], evidence_card=[2])\n",
    "\n",
    "print(cpd_Y_on_X)"
   ]
  },
  {
   "cell_type": "code",
   "execution_count": 93,
   "metadata": {},
   "outputs": [],
   "source": [
    "from pgmpy.models import BayesianModel"
   ]
  },
  {
   "cell_type": "markdown",
   "metadata": {},
   "source": [
    "#### BayesianModel(variables)\n",
    "\n",
    " - variables : 확률모형이 포함하는 확률변수 이름 문자열 리스트\n",
    " - add_cpds() : 조건부확률 추가\n",
    " - check_model() : 모형이 정상적인지 확인. True이면 정상모델"
   ]
  },
  {
   "cell_type": "code",
   "execution_count": 94,
   "metadata": {},
   "outputs": [
    {
     "data": {
      "text/plain": [
       "True"
      ]
     },
     "execution_count": 94,
     "metadata": {},
     "output_type": "execute_result"
    }
   ],
   "source": [
    "model = BayesianModel([('X','Y')])\n",
    "model.add_cpds(cpd_X,cpd_Y_on_X)\n",
    "model.check_model()"
   ]
  },
  {
   "cell_type": "code",
   "execution_count": 98,
   "metadata": {},
   "outputs": [],
   "source": [
    "from pgmpy.inference import VariableElimination"
   ]
  },
  {
   "cell_type": "markdown",
   "metadata": {},
   "source": [
    "#### VariableElimination (변수제거법) 을 사용한 추정을 제공\n",
    " \n",
    "#### query(variables, evidences)\n",
    "\n",
    " - query() 를 통해 사후확률 계산\n",
    "\n",
    "----\n",
    "\n",
    " - variables : 사후 확률을 계산할 확률변수의 이름 리스트\n",
    " - evidences : 조건이 되는 확률변수의 값을 나타내는 딕셔너리\n"
   ]
  },
  {
   "cell_type": "code",
   "execution_count": 101,
   "metadata": {},
   "outputs": [
    {
     "name": "stderr",
     "output_type": "stream",
     "text": [
      "Finding Elimination Order: : : 0it [00:00, ?it/s]\n",
      "0it [00:00, ?it/s]\n"
     ]
    }
   ],
   "source": [
    "inference = VariableElimination(model)\n",
    "\n",
    "posterior = inference.query(['X'], evidence={'Y':1})"
   ]
  },
  {
   "cell_type": "code",
   "execution_count": 102,
   "metadata": {},
   "outputs": [
    {
     "name": "stdout",
     "output_type": "stream",
     "text": [
      "+------+----------+\n",
      "| X    |   phi(X) |\n",
      "+======+==========+\n",
      "| X(0) |   0.9618 |\n",
      "+------+----------+\n",
      "| X(1) |   0.0382 |\n",
      "+------+----------+\n"
     ]
    }
   ],
   "source": [
    "print(posterior)"
   ]
  },
  {
   "cell_type": "markdown",
   "metadata": {},
   "source": [
    "----\n",
    "#### 베이즈 정리 확장 2\n",
    "\n",
    " - 베이즈 정리는 사건 A의 확률이 사건 B에 의해 갱신된 확률을 계산하는 것. \n",
    " - 베이즈 정리 확장2에서는 이 상태에서 추가적으로 사건 C가 발생!\n",
    " \n",
    "  - $P(A|B,C) = \\frac{P(C|A,B)P(A|B)}{P(C|B)}$\n",
    "  \n",
    "----\n",
    "### 몬티 홀 문제\n",
    "\n",
    " - 확률변수 (random box) 정의\n",
    " \n",
    "  1) 자동차가 있는 문을 나타내는 확률변수 C : 0,1,2\n",
    "  \n",
    "  2) 참가자가 선택한 문을 나타내는 확률변수 X : 0,1,2\n",
    "  \n",
    "  3) 진행자가 열어준 문을 나타내는 확률변수 H : 0,1,2\n",
    "  \n",
    "  ---\n",
    "  \n",
    " ##### 참가자와 진행자의 행위를 조건으로 자동차의 위치를 결과로 하는 조건부 확률을 푸는 문제\n",
    " \n",
    "  FACT\n",
    "  \n",
    "  1) 자동차를 놓는 진행자는 참가자의 선택을 예측할 수 없고, 참가자는 자동차를 볼 수 없으므로 자동차의 위치와 참가자의 선택은 서로 독립적\n",
    "  \n",
    "   - $P(C,X) = P(C)P(X)$\n",
    "  \n",
    "  2) 진행자가 어떤 문을 여는가가 자동차의 위치 및 참가자의 선택에 좌우됨.\n",
    "  \n",
    "   - $P(H_0|C_0,X_1) = 0$\n",
    "   - $P(H_1|C_0,X_1) = 0$\n",
    "   - $P(H_2|C_0,X_1) = 1$   \n",
    "   \n",
    "   \n",
    "---- \n",
    "\n",
    "- 참가자가 1번 문을 선택하고, 진행자가 2번 문을 열어서 자동차가 없다는 것을 보인 경우, 0번 문 뒤에 차가 있을 확률\n",
    "\n",
    "  $P(C_0|X_1,H_2) = \\frac{2}{3}$\n",
    "  \n",
    "  $ = \\frac{P(C_0,X_1,H_2)}{P(X_1,H_2)}$\n",
    "  \n",
    "  $ = \\frac{P(H_2|C_0,X_1)P(C_0,X_1)}{P(X_1,H_2)}$\n",
    "   \n",
    "  $ = \\frac{P(C_0)P(X_1)}{P(H_2|X_1)P(X)}$\n",
    "  \n",
    "  $ = \\frac{P(C_0)}{P(H_2|X_1)}$\n",
    "  \n",
    "  $ = \\frac{P(C_0)}{P(H_2,C_0|X_1)+P(H_2,C_1|X_1)+P(H_2,C_2|X_1)}$\n",
    "  \n",
    "  $ = \\frac{P(C_0)}{P(H_2|X_1,C_0)P(C_0)+P(H_2|X_1,C_1)P(C_1)+P(H_2|X_1,C_2)P(C_2)}$\n",
    "  \n",
    "  $ = \\frac{\\frac{1}{3}}{1\\cdot \\frac{1}{3} + \\frac{1}{2}\\cdot \\frac{1}{3}+0\\cdot \\frac{1}{3}}$\n",
    "  \n",
    "  $ = \\frac{2}{3}$"
   ]
  }
 ],
 "metadata": {
  "kernelspec": {
   "display_name": "Python 3",
   "language": "python",
   "name": "python3"
  },
  "language_info": {
   "codemirror_mode": {
    "name": "ipython",
    "version": 3
   },
   "file_extension": ".py",
   "mimetype": "text/x-python",
   "name": "python",
   "nbconvert_exporter": "python",
   "pygments_lexer": "ipython3",
   "version": "3.7.3"
  }
 },
 "nbformat": 4,
 "nbformat_minor": 4
}
