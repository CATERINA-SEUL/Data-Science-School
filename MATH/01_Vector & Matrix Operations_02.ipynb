{
  "nbformat": 4,
  "nbformat_minor": 0,
  "metadata": {
    "kernelspec": {
      "display_name": "Python 3",
      "language": "python",
      "name": "python3"
    },
    "language_info": {
      "codemirror_mode": {
        "name": "ipython",
        "version": 3
      },
      "file_extension": ".py",
      "mimetype": "text/x-python",
      "name": "python",
      "nbconvert_exporter": "python",
      "pygments_lexer": "ipython3",
      "version": "3.7.3"
    },
    "colab": {
      "name": "01_벡터와 행렬의 연산_02.ipynb",
      "provenance": [],
      "collapsed_sections": [
        "yjdJBWZEjtpB",
        "TPxUB5sQjtpC",
        "sVDFpOcPjtpL",
        "fJkN3rpcjtpU",
        "k73n4DYwjtpU",
        "vJzxX2ZmjtpY",
        "1EJGWlWRjtp5",
        "gVFUhq6Kjtp5",
        "amlwqelwjtp6",
        "kJCfMIYxjtp7",
        "fjRfuRHfjtqG",
        "okvRNx1UjtqL",
        "MdcDgONojtqR",
        "HlF2Q2OajtqS",
        "A44COGPBjtqX",
        "uTLWrhABjtql",
        "IU_JndqPjtql",
        "ELJJjhzdjtqm",
        "mc7wa0BJjtqm",
        "-toSGuUfjtrF",
        "S34D8PdljtrR",
        "W6IwgTqXjtrl",
        "Jukyzy4ujtrq"
      ]
    }
  },
  "cells": [
    {
      "cell_type": "markdown",
      "metadata": {
        "id": "sVDFpOcPjtpL",
        "colab_type": "text"
      },
      "source": [
        "### 특수한 벡터와 행렬\n",
        "\n",
        " - 모든 원소가 0인 N차원 벡터는 영벡터(zeros-vertor)라고 한다.\n",
        " \n",
        "     $0$ $\\in$ $R$ $^N$$^\\times$$^1$"
      ]
    },
    {
      "cell_type": "markdown",
      "metadata": {
        "id": "-2iUO3smjtpM",
        "colab_type": "text"
      },
      "source": [
        " - 모든 원소가 1인 N차원 벡터는 일벡터(ones-vector)라고 한다.\n",
        "    \n",
        "    $1$ $\\in$ $R$ $^N$$^\\times$$^1$"
      ]
    },
    {
      "cell_type": "code",
      "metadata": {
        "id": "qBQf9QXljtpM",
        "colab_type": "code",
        "outputId": "852a6031-d59e-4cc4-baef-4a94f63e834f",
        "colab": {}
      },
      "source": [
        "np.zeros((3, 1))"
      ],
      "execution_count": 0,
      "outputs": [
        {
          "output_type": "execute_result",
          "data": {
            "text/plain": [
              "array([[0.],\n",
              "       [0.],\n",
              "       [0.]])"
            ]
          },
          "metadata": {
            "tags": []
          },
          "execution_count": 54
        }
      ]
    },
    {
      "cell_type": "code",
      "metadata": {
        "id": "9OockC45jtpR",
        "colab_type": "code",
        "outputId": "92f1f418-cf0d-4f41-81c0-c83d771cfdca",
        "colab": {}
      },
      "source": [
        "np.ones((3, 1))"
      ],
      "execution_count": 0,
      "outputs": [
        {
          "output_type": "execute_result",
          "data": {
            "text/plain": [
              "array([[1.],\n",
              "       [1.],\n",
              "       [1.]])"
            ]
          },
          "metadata": {
            "tags": []
          },
          "execution_count": 55
        }
      ]
    },
    {
      "cell_type": "markdown",
      "metadata": {
        "id": "fJkN3rpcjtpU",
        "colab_type": "text"
      },
      "source": [
        "### 정방행렬(square matrix)\n",
        "\n",
        " - 행의 개수와 일의 개수가 같은 행렬"
      ]
    },
    {
      "cell_type": "markdown",
      "metadata": {
        "id": "k73n4DYwjtpU",
        "colab_type": "text"
      },
      "source": [
        "### 대각행렬(diagonal matrix)\n",
        "\n",
        " - 행과 열의 위치가 같은 주 대각, 같은 위치에 있는 않은 비대각으로 이루어진 행렬\n",
        " \n",
        "     $D$ $\\in$ $R$$^N$$^\\times$$^N$\n",
        "     \n",
        " - 비대각성분이 0 이면 대각행렬이라고 함. \n",
        " \n",
        "     $D$ $\\in$ $R$$^N$$^\\times$$^M$"
      ]
    },
    {
      "cell_type": "code",
      "metadata": {
        "id": "lc1yPyl6jtpW",
        "colab_type": "code",
        "outputId": "b829a42e-6077-4a1a-e275-ce1783837553",
        "colab": {}
      },
      "source": [
        "# Numpy로 정방행렬을 생성하려면 diag() 명령을 사용\n",
        "\n",
        "np.diag([1, 2, 3])"
      ],
      "execution_count": 0,
      "outputs": [
        {
          "output_type": "execute_result",
          "data": {
            "text/plain": [
              "array([[1, 0, 0],\n",
              "       [0, 2, 0],\n",
              "       [0, 0, 3]])"
            ]
          },
          "metadata": {
            "tags": []
          },
          "execution_count": 58
        }
      ]
    },
    {
      "cell_type": "markdown",
      "metadata": {
        "id": "vJzxX2ZmjtpY",
        "colab_type": "text"
      },
      "source": [
        "### 항등행렬(identity matrix)\n",
        "\n",
        " - 모든 대각 성분의 값이 1인 대각행렬\n",
        " - $I\\in{R}^{N\\times{N}}$"
      ]
    },
    {
      "cell_type": "code",
      "metadata": {
        "id": "sZ3OuJRrjtpZ",
        "colab_type": "code",
        "outputId": "7a1a0760-ca6e-4577-cd63-5b65142a60e7",
        "colab": {}
      },
      "source": [
        "# Numpy로 항등행렬을 생성하려면 identity() or eye() 명령을 사용\n",
        "\n",
        "np.identity(3)"
      ],
      "execution_count": 0,
      "outputs": [
        {
          "output_type": "execute_result",
          "data": {
            "text/plain": [
              "array([[1., 0., 0.],\n",
              "       [0., 1., 0.],\n",
              "       [0., 0., 1.]])"
            ]
          },
          "metadata": {
            "tags": []
          },
          "execution_count": 66
        }
      ]
    },
    {
      "cell_type": "code",
      "metadata": {
        "id": "TCNmlfimjtpc",
        "colab_type": "code",
        "outputId": "7198c9dc-73a5-4ea8-adcf-86cc7e42c4eb",
        "colab": {}
      },
      "source": [
        "np.eye(4)"
      ],
      "execution_count": 0,
      "outputs": [
        {
          "output_type": "execute_result",
          "data": {
            "text/plain": [
              "array([[1., 0., 0., 0.],\n",
              "       [0., 1., 0., 0.],\n",
              "       [0., 0., 1., 0.],\n",
              "       [0., 0., 0., 1.]])"
            ]
          },
          "metadata": {
            "tags": []
          },
          "execution_count": 67
        }
      ]
    },
    {
      "cell_type": "markdown",
      "metadata": {
        "id": "Na6u8Q9Bjtpg",
        "colab_type": "text"
      },
      "source": [
        "### 대칭행렬(symmetric matrix)\n",
        "\n",
        " - 전치연산을 통해서 얻은 행렬과 원래 행렬이 같은 행렬\n",
        " \n",
        "     $S$$^T$ $=$ $S$\n",
        "     \n",
        "     $S$ $\\in$ $R$$^N$$^\\times$$^N$"
      ]
    },
    {
      "cell_type": "markdown",
      "metadata": {
        "id": "a5x7SDVejtph",
        "colab_type": "text"
      },
      "source": [
        "- 영벡터, 일벡터, 정방행렬, 대각행렬, 항등행렬, 대칭행렬의 예를 하나씩 만들어본다.\n",
        "- 위의 벡터와 행렬을 Numpy로 나타내본다"
      ]
    },
    {
      "cell_type": "code",
      "metadata": {
        "id": "PsiL_2Fwjtph",
        "colab_type": "code",
        "outputId": "a70525da-0787-4e00-d6a4-3400a3e0e4ea",
        "colab": {}
      },
      "source": [
        "# 영벡터\n",
        "\n",
        "np.zeros([3, 3])"
      ],
      "execution_count": 0,
      "outputs": [
        {
          "output_type": "execute_result",
          "data": {
            "text/plain": [
              "array([[0., 0., 0.],\n",
              "       [0., 0., 0.],\n",
              "       [0., 0., 0.]])"
            ]
          },
          "metadata": {
            "tags": []
          },
          "execution_count": 70
        }
      ]
    },
    {
      "cell_type": "code",
      "metadata": {
        "id": "1_ZIuARKjtpk",
        "colab_type": "code",
        "outputId": "a2c55f19-8536-4e14-edfb-3c2949797d50",
        "colab": {}
      },
      "source": [
        "# 일벡터\n",
        "\n",
        "np.ones([3, 3])"
      ],
      "execution_count": 0,
      "outputs": [
        {
          "output_type": "execute_result",
          "data": {
            "text/plain": [
              "array([[1., 1., 1.],\n",
              "       [1., 1., 1.],\n",
              "       [1., 1., 1.]])"
            ]
          },
          "metadata": {
            "tags": []
          },
          "execution_count": 71
        }
      ]
    },
    {
      "cell_type": "code",
      "metadata": {
        "id": "jp4CeYZnjtpm",
        "colab_type": "code",
        "outputId": "c761613c-ab1c-47d8-a556-08891eb08ef8",
        "colab": {}
      },
      "source": [
        "# 정방행렬\n",
        "\n",
        "np.arange(9).reshape(3, 3)"
      ],
      "execution_count": 0,
      "outputs": [
        {
          "output_type": "execute_result",
          "data": {
            "text/plain": [
              "array([[0, 1, 2],\n",
              "       [3, 4, 5],\n",
              "       [6, 7, 8]])"
            ]
          },
          "metadata": {
            "tags": []
          },
          "execution_count": 79
        }
      ]
    },
    {
      "cell_type": "code",
      "metadata": {
        "id": "G7UkoDyijtpp",
        "colab_type": "code",
        "outputId": "fd2df552-a950-4415-d6c7-0f17657155e9",
        "colab": {}
      },
      "source": [
        "# 대각행렬\n",
        "\n",
        "np.diag([1, 2, 3])"
      ],
      "execution_count": 0,
      "outputs": [
        {
          "output_type": "execute_result",
          "data": {
            "text/plain": [
              "array([[1, 0, 0],\n",
              "       [0, 2, 0],\n",
              "       [0, 0, 3]])"
            ]
          },
          "metadata": {
            "tags": []
          },
          "execution_count": 90
        }
      ]
    },
    {
      "cell_type": "code",
      "metadata": {
        "id": "Wb4WyIetjtpr",
        "colab_type": "code",
        "outputId": "54682aae-8704-4653-cc02-c5bb199729bd",
        "colab": {}
      },
      "source": [
        "# 항등행렬\n",
        "\n",
        "np.identity(3)\n",
        "np.eye(3)"
      ],
      "execution_count": 0,
      "outputs": [
        {
          "output_type": "execute_result",
          "data": {
            "text/plain": [
              "array([[1., 0., 0.],\n",
              "       [0., 1., 0.],\n",
              "       [0., 0., 1.]])"
            ]
          },
          "metadata": {
            "tags": []
          },
          "execution_count": 301
        }
      ]
    },
    {
      "cell_type": "code",
      "metadata": {
        "id": "IxLRrX8Mjtpt",
        "colab_type": "code",
        "outputId": "9b1f8c04-32c9-4033-f93e-c9c82ce4813c",
        "colab": {}
      },
      "source": [
        "# 대칭행렬\n",
        "\n",
        "X = np.arange(9).reshape(3, 3)\n",
        "X"
      ],
      "execution_count": 0,
      "outputs": [
        {
          "output_type": "execute_result",
          "data": {
            "text/plain": [
              "array([[0, 1, 2],\n",
              "       [3, 4, 5],\n",
              "       [6, 7, 8]])"
            ]
          },
          "metadata": {
            "tags": []
          },
          "execution_count": 304
        }
      ]
    },
    {
      "cell_type": "code",
      "metadata": {
        "id": "bSHrc0fwjtpw",
        "colab_type": "code",
        "outputId": "8e14f2c3-c645-463c-a66e-632c02cd8718",
        "colab": {}
      },
      "source": [
        "X+X.T"
      ],
      "execution_count": 0,
      "outputs": [
        {
          "output_type": "execute_result",
          "data": {
            "text/plain": [
              "array([[ 0,  4,  8],\n",
              "       [ 4,  8, 12],\n",
              "       [ 8, 12, 16]])"
            ]
          },
          "metadata": {
            "tags": []
          },
          "execution_count": 309
        }
      ]
    },
    {
      "cell_type": "markdown",
      "metadata": {
        "id": "yLOFZ5yLjtpy",
        "colab_type": "text"
      },
      "source": [
        "### 벡터의 행렬과 연산"
      ]
    },
    {
      "cell_type": "code",
      "metadata": {
        "id": "vyCmNTyejtpy",
        "colab_type": "code",
        "colab": {}
      },
      "source": [
        "x = np.array([10, 11, 12, 13, 14])\n",
        "y = np.array([0, 1, 2, 3, 4])"
      ],
      "execution_count": 0,
      "outputs": []
    },
    {
      "cell_type": "code",
      "metadata": {
        "id": "vS4oWjCBjtp0",
        "colab_type": "code",
        "outputId": "a49058de-c2db-45b5-facb-c1139b266a39",
        "colab": {}
      },
      "source": [
        "x + y"
      ],
      "execution_count": 0,
      "outputs": [
        {
          "output_type": "execute_result",
          "data": {
            "text/plain": [
              "array([10, 12, 14, 16, 18])"
            ]
          },
          "metadata": {
            "tags": []
          },
          "execution_count": 107
        }
      ]
    },
    {
      "cell_type": "code",
      "metadata": {
        "id": "h-qAvdlDjtp2",
        "colab_type": "code",
        "outputId": "fac422ca-181e-45ee-e6c6-0b49a500fe93",
        "colab": {}
      },
      "source": [
        "x-y"
      ],
      "execution_count": 0,
      "outputs": [
        {
          "output_type": "execute_result",
          "data": {
            "text/plain": [
              "array([10, 10, 10, 10, 10])"
            ]
          },
          "metadata": {
            "tags": []
          },
          "execution_count": 108
        }
      ]
    },
    {
      "cell_type": "markdown",
      "metadata": {
        "id": "1EJGWlWRjtp5",
        "colab_type": "text"
      },
      "source": [
        "### 스칼라와 벡터 행렬의 곱셈"
      ]
    },
    {
      "cell_type": "markdown",
      "metadata": {
        "id": "gVFUhq6Kjtp5",
        "colab_type": "text"
      },
      "source": [
        "### 브로드캐스팅\n",
        "\n",
        " 1 - 벡터를 사용하여 스칼라를 벡터로 변환한 연산\n",
        " \n",
        " - 평균제거벡터(mean removed) or 0-평균(zero-mean)벡터\n",
        "     : 벡터 - 스칼라(일벡터생략)"
      ]
    },
    {
      "cell_type": "markdown",
      "metadata": {
        "id": "amlwqelwjtp6",
        "colab_type": "text"
      },
      "source": [
        "### 선형조합 (linear combination)"
      ]
    },
    {
      "cell_type": "markdown",
      "metadata": {
        "id": "kJCfMIYxjtp7",
        "colab_type": "text"
      },
      "source": [
        "### 벡터와 벡터의 곱셈\n",
        "\n",
        " - 내적(inner product)\n",
        " \n",
        "     $x$$^T$$y$\n",
        "     \n",
        " - dot product\n",
        "     \n",
        "     $x$ $\\cdotp$ $y$ = $x$ $\\ldotp$ $y$= $x$$^T$$y$\n",
        "     \n",
        "     \n",
        " - 앞의 벡터가 행벡터, 뒤의 벡터가 열 벡터\n",
        " - 두 벡터의 길이가 같아야한다. \n",
        " - 내적의 결과는 스칼라값! \n",
        " \n",
        "     $x$ $\\in$ $R$$^N$$^\\times$$^1$\n",
        "     \n",
        "     $y$ $\\in$ $R$$^N$$^\\times$$^1$\n",
        "     \n",
        "     $x$$^T$$y$ $\\in$ $R$"
      ]
    },
    {
      "cell_type": "code",
      "metadata": {
        "id": "ZK-NkIfbjtp7",
        "colab_type": "code",
        "outputId": "e73b8563-9a3e-4490-c7d3-d7c9083079a9",
        "colab": {}
      },
      "source": [
        "# 내적행렬\n",
        "# np.dot(x.T, y) or x.T @ y\n",
        "\n",
        "x = np.array([[1], [2], [3]])\n",
        "y = np.array([[4], [5], [6]])\n",
        "np.dot(x.T, y)"
      ],
      "execution_count": 0,
      "outputs": [
        {
          "output_type": "execute_result",
          "data": {
            "text/plain": [
              "array([[32]])"
            ]
          },
          "metadata": {
            "tags": []
          },
          "execution_count": 111
        }
      ]
    },
    {
      "cell_type": "code",
      "metadata": {
        "id": "2My20TQsjtp-",
        "colab_type": "code",
        "outputId": "30d8788b-0126-4c97-a414-48d4396bd2a9",
        "colab": {}
      },
      "source": [
        "x.T @ y"
      ],
      "execution_count": 0,
      "outputs": [
        {
          "output_type": "execute_result",
          "data": {
            "text/plain": [
              "array([[32]])"
            ]
          },
          "metadata": {
            "tags": []
          },
          "execution_count": 112
        }
      ]
    },
    {
      "cell_type": "code",
      "metadata": {
        "id": "J2EUB61OjtqA",
        "colab_type": "code",
        "outputId": "68dda19c-3274-4ee1-e341-589050dfa32d",
        "colab": {}
      },
      "source": [
        "# 1차원 배열에서는 T를 붙이는게 아무런 소용이 없기 때문에 그대로 사용\n",
        "\n",
        "x1 = np.array([1, 2, 3])\n",
        "y1 = np.array([4, 5, 6])\n",
        "\n",
        "x1 @ y1"
      ],
      "execution_count": 0,
      "outputs": [
        {
          "output_type": "execute_result",
          "data": {
            "text/plain": [
              "32"
            ]
          },
          "metadata": {
            "tags": []
          },
          "execution_count": 115
        }
      ]
    },
    {
      "cell_type": "code",
      "metadata": {
        "id": "5Vij2_gtjtqC",
        "colab_type": "code",
        "outputId": "c3d71888-044e-4d75-c0ab-07c890439cc9",
        "colab": {}
      },
      "source": [
        "np.dot(x1, y1)"
      ],
      "execution_count": 0,
      "outputs": [
        {
          "output_type": "execute_result",
          "data": {
            "text/plain": [
              "32"
            ]
          },
          "metadata": {
            "tags": []
          },
          "execution_count": 114
        }
      ]
    },
    {
      "cell_type": "markdown",
      "metadata": {
        "id": "fjRfuRHfjtqG",
        "colab_type": "text"
      },
      "source": [
        "### 가중합\n",
        "\n",
        " - 벡터의 내적은 가중합을 계산할 때 사용\n",
        " \n",
        "     $w$$^T$$x$\n",
        "     \n",
        "     $x$$^T$$w$"
      ]
    },
    {
      "cell_type": "markdown",
      "metadata": {
        "id": "LMgH1OYTjtqH",
        "colab_type": "text"
      },
      "source": [
        "* A,B,C 세 회사의 주식은 각각 100만원, 80만원, 50만원이다. 이 주식을 각각 3주, 4주, 5주를 매수할 때 필요한 금액을 구하고자 한다. \n",
        "\n",
        "1) 주식의 가격과 수량을 각각 $p$ 벡터, $n$ 벡터로 표시하고 Numpy로 코딩한다.\n",
        "\n",
        "2) 주식을 매수할 때 필요한 금액을 곱셈으로 표시하고 Numpy 연산으로 그 값을 계산한다."
      ]
    },
    {
      "cell_type": "code",
      "metadata": {
        "id": "uef3SqjVjtqH",
        "colab_type": "code",
        "colab": {}
      },
      "source": [
        "p = np.array([[100], [80], [50]])\n",
        "n = np.array([[3], [4], [5]])"
      ],
      "execution_count": 0,
      "outputs": []
    },
    {
      "cell_type": "code",
      "metadata": {
        "id": "5hzrwO5fjtqJ",
        "colab_type": "code",
        "outputId": "2503fa48-d4dd-4294-cae9-4e3b51be75ec",
        "colab": {}
      },
      "source": [
        "np.dot(p.T, n)[0][0]"
      ],
      "execution_count": 0,
      "outputs": [
        {
          "output_type": "execute_result",
          "data": {
            "text/plain": [
              "870"
            ]
          },
          "metadata": {
            "tags": []
          },
          "execution_count": 119
        }
      ]
    },
    {
      "cell_type": "markdown",
      "metadata": {
        "id": "okvRNx1UjtqL",
        "colab_type": "text"
      },
      "source": [
        "### 가중평균(weighted average)\n",
        "\n",
        " - 가중합의 가중치값을 전체 가중치값의 합으로 나누면 가중평균이 된다."
      ]
    },
    {
      "cell_type": "code",
      "metadata": {
        "id": "IUtWpuOhjtqN",
        "colab_type": "code",
        "outputId": "f992e6a6-27e1-41a2-bb4d-c9366b1b08f6",
        "colab": {}
      },
      "source": [
        "x = np.arange(10)\n",
        "N = len(x)\n",
        "\n",
        "np.ones(N) @ x / N"
      ],
      "execution_count": 0,
      "outputs": [
        {
          "output_type": "execute_result",
          "data": {
            "text/plain": [
              "4.5"
            ]
          },
          "metadata": {
            "tags": []
          },
          "execution_count": 121
        }
      ]
    },
    {
      "cell_type": "code",
      "metadata": {
        "id": "uITTszJHjtqQ",
        "colab_type": "code",
        "outputId": "b296ce67-e0d8-45d4-8a8a-2198ffb9b838",
        "colab": {}
      },
      "source": [
        "x.mean()"
      ],
      "execution_count": 0,
      "outputs": [
        {
          "output_type": "execute_result",
          "data": {
            "text/plain": [
              "4.5"
            ]
          },
          "metadata": {
            "tags": []
          },
          "execution_count": 122
        }
      ]
    },
    {
      "cell_type": "markdown",
      "metadata": {
        "id": "MdcDgONojtqR",
        "colab_type": "text"
      },
      "source": [
        "#### x의 평균제거벡터는 다음과 같이 계산함을 증명하라\n",
        "\n",
        " - $x - \\overline{x}$"
      ]
    },
    {
      "cell_type": "markdown",
      "metadata": {
        "id": "HlF2Q2OajtqS",
        "colab_type": "text"
      },
      "source": [
        "### 유사도\n",
        "\n",
        "- 내적을 이용하면 코사인 유사도(cosine similarity)라고 한다."
      ]
    },
    {
      "cell_type": "code",
      "metadata": {
        "id": "6CW8VtO4jtqS",
        "colab_type": "code",
        "outputId": "7ca8c49b-4163-47af-9214-9aa54c83d05c",
        "colab": {}
      },
      "source": [
        "from sklearn.datasets import load_digits\n",
        "import matplotlib.gridspec as gridspec\n",
        "\n",
        "digits = load_digits()\n",
        "d1 = digits.images[0]\n",
        "d2 = digits.images[10]\n",
        "d3 = digits.images[1]\n",
        "d4 = digits.images[11]\n",
        "v1 = d1.reshape(64, 1)\n",
        "v2 = d1.reshape(64, 1)\n",
        "v3 = d1.reshape(64, 1)\n",
        "v4 = d1.reshape(64, 1)\n",
        "\n",
        "plt.figure(figsize=(9, 9))\n",
        "gs = gridspec.GridSpec(1, 8, height_ratios=[1],\n",
        "                       width_ratios=[9, 1, 9, 1, 9, 1, 9, 1])\n",
        "for i in range(4):\n",
        "    plt.subplot(gs[2*i])\n",
        "    plt.imshow(eval(\"d\"+str(i+1)), aspect=1,\n",
        "               interpolation='nearest', cmap=plt.cm.bone_r)\n",
        "    plt.grid(False)\n",
        "    plt.xticks([])\n",
        "    plt.yticks([])\n",
        "    plt.title('image{}'.format(i+1))\n",
        "    plt.subplot(gs[2*i+1])\n",
        "    plt.imshow(eval(\"v\"+str(i+1)), aspect=0.25,\n",
        "               interpolation='nearest', cmap=plt.cm.bone_r)\n",
        "    plt.grid(False)\n",
        "    plt.xticks([])\n",
        "    plt.yticks([])\n",
        "    plt.title(\"vector{}\".format(i+1))\n",
        "plt.tight_layout()\n",
        "plt.show()"
      ],
      "execution_count": 0,
      "outputs": [
        {
          "output_type": "display_data",
          "data": {
            "image/png": "[encoded data removed]",
            "text/plain": [
              "<Figure size 648x648 with 8 Axes>"
            ]
          },
          "metadata": {
            "tags": [],
            "image/png": {
              "height": 186,
              "width": 641
            }
          }
        }
      ]
    },
    {
      "cell_type": "code",
      "metadata": {
        "id": "LVDgiAAwjtqV",
        "colab_type": "code",
        "outputId": "5aafca15-1343-4dbc-de26-4adf018da8c7",
        "colab": {}
      },
      "source": [
        "(v1.T @ v2)[0][0], (v3.T @ v4)[0][0]"
      ],
      "execution_count": 0,
      "outputs": [
        {
          "output_type": "execute_result",
          "data": {
            "text/plain": [
              "(3070.0, 3070.0)"
            ]
          },
          "metadata": {
            "tags": []
          },
          "execution_count": 139
        }
      ]
    },
    {
      "cell_type": "markdown",
      "metadata": {
        "id": "A44COGPBjtqX",
        "colab_type": "text"
      },
      "source": [
        "#### 다음 코드를 실행하면 MNIST 숫자 이미지 전체 데이터를 모두 벡터로 변환하여 하나의 Numpy 행렬 X를 만든다. 이 행렬을 이용하여 다음 문제를 풀어라\n",
        "\n",
        "    from sklearn.datasets import load_digits\n",
        "    X = load_digits().data\n",
        "    \n",
        "  1) 내적을 이용하여 첫 번째 이미지와 10번째 이미지의 유사도를 구하라.\n",
        "  \n",
        "  2) 내적을 이용하여 모든 이미지의 조합에 대해 유사도를 구하라. 어떻게 구현하는게 효율적일까.\n",
        "  \n",
        "      (이 문제는 뒤에서 배울 행렬과 행렬의 곱셈을 이용한다)"
      ]
    },
    {
      "cell_type": "code",
      "metadata": {
        "id": "IU4OOq8MjtqY",
        "colab_type": "code",
        "colab": {}
      },
      "source": [
        "from sklearn.datasets import load_digits\n",
        "X = load_digits().data"
      ],
      "execution_count": 0,
      "outputs": []
    },
    {
      "cell_type": "code",
      "metadata": {
        "id": "jcn28GU6jtqa",
        "colab_type": "code",
        "outputId": "9c4dedd6-cf18-4138-8f09-c4a3fc35ecbc",
        "colab": {}
      },
      "source": [
        "data = load_digits()\n",
        "x = data.data\n",
        "x"
      ],
      "execution_count": 0,
      "outputs": [
        {
          "output_type": "execute_result",
          "data": {
            "text/plain": [
              "array([[ 0.,  0.,  5., ...,  0.,  0.,  0.],\n",
              "       [ 0.,  0.,  0., ..., 10.,  0.,  0.],\n",
              "       [ 0.,  0.,  0., ..., 16.,  9.,  0.],\n",
              "       ...,\n",
              "       [ 0.,  0.,  1., ...,  6.,  0.,  0.],\n",
              "       [ 0.,  0.,  2., ..., 12.,  0.,  0.],\n",
              "       [ 0.,  0., 10., ..., 12.,  1.,  0.]])"
            ]
          },
          "metadata": {
            "tags": []
          },
          "execution_count": 146
        }
      ]
    },
    {
      "cell_type": "code",
      "metadata": {
        "id": "eAsc_ZZVjtqc",
        "colab_type": "code",
        "outputId": "e936855a-a2da-45b4-aadf-286987db4a72",
        "colab": {}
      },
      "source": [
        "x[0, :]"
      ],
      "execution_count": 0,
      "outputs": [
        {
          "output_type": "execute_result",
          "data": {
            "text/plain": [
              "array([ 0.,  0.,  5., 13.,  9.,  1.,  0.,  0.,  0.,  0., 13., 15., 10.,\n",
              "       15.,  5.,  0.,  0.,  3., 15.,  2.,  0., 11.,  8.,  0.,  0.,  4.,\n",
              "       12.,  0.,  0.,  8.,  8.,  0.,  0.,  5.,  8.,  0.,  0.,  9.,  8.,\n",
              "        0.,  0.,  4., 11.,  0.,  1., 12.,  7.,  0.,  0.,  2., 14.,  5.,\n",
              "       10., 12.,  0.,  0.,  0.,  0.,  6., 13., 10.,  0.,  0.,  0.])"
            ]
          },
          "metadata": {
            "tags": []
          },
          "execution_count": 147
        }
      ]
    },
    {
      "cell_type": "code",
      "metadata": {
        "id": "VG7nxap0jtqi",
        "colab_type": "code",
        "outputId": "b707f960-9e11-4363-f4db-77dfbd540420",
        "colab": {}
      },
      "source": [
        "x[9, :]"
      ],
      "execution_count": 0,
      "outputs": [
        {
          "output_type": "execute_result",
          "data": {
            "text/plain": [
              "array([ 0.,  0., 11., 12.,  0.,  0.,  0.,  0.,  0.,  2., 16., 16., 16.,\n",
              "       13.,  0.,  0.,  0.,  3., 16., 12., 10., 14.,  0.,  0.,  0.,  1.,\n",
              "       16.,  1., 12., 15.,  0.,  0.,  0.,  0., 13., 16.,  9., 15.,  2.,\n",
              "        0.,  0.,  0.,  0.,  3.,  0.,  9., 11.,  0.,  0.,  0.,  0.,  0.,\n",
              "        9., 15.,  4.,  0.,  0.,  0.,  9., 12., 13.,  3.,  0.,  0.])"
            ]
          },
          "metadata": {
            "tags": []
          },
          "execution_count": 149
        }
      ]
    },
    {
      "cell_type": "code",
      "metadata": {
        "id": "EVw2jKSajtqj",
        "colab_type": "code",
        "outputId": "a43db494-3fdd-493a-a00a-e10e30d10256",
        "colab": {}
      },
      "source": [
        "x[0, :]@ x[9, :]"
      ],
      "execution_count": 0,
      "outputs": [
        {
          "output_type": "execute_result",
          "data": {
            "text/plain": [
              "2807.0"
            ]
          },
          "metadata": {
            "tags": []
          },
          "execution_count": 150
        }
      ]
    }
  ]
}
