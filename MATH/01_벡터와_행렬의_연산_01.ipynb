{
  "nbformat": 4,
  "nbformat_minor": 0,
  "metadata": {
    "kernelspec": {
      "display_name": "Python 3",
      "language": "python",
      "name": "python3"
    },
    "language_info": {
      "codemirror_mode": {
        "name": "ipython",
        "version": 3
      },
      "file_extension": ".py",
      "mimetype": "text/x-python",
      "name": "python",
      "nbconvert_exporter": "python",
      "pygments_lexer": "ipython3",
      "version": "3.7.3"
    },
    "colab": {
      "name": "01_벡터와 행렬의 연산 01 .ipynb",
      "provenance": [],
      "collapsed_sections": [
        "yjdJBWZEjtpB",
        "TPxUB5sQjtpC",
        "sVDFpOcPjtpL",
        "fJkN3rpcjtpU",
        "k73n4DYwjtpU",
        "vJzxX2ZmjtpY",
        "1EJGWlWRjtp5",
        "gVFUhq6Kjtp5",
        "amlwqelwjtp6",
        "kJCfMIYxjtp7",
        "fjRfuRHfjtqG",
        "okvRNx1UjtqL",
        "MdcDgONojtqR",
        "HlF2Q2OajtqS",
        "A44COGPBjtqX",
        "uTLWrhABjtql",
        "IU_JndqPjtql",
        "ELJJjhzdjtqm",
        "mc7wa0BJjtqm",
        "-toSGuUfjtrF",
        "S34D8PdljtrR",
        "W6IwgTqXjtrl",
        "Jukyzy4ujtrq"
      ]
    }
  },
  "cells": [
    {
      "cell_type": "markdown",
      "metadata": {
        "id": "W99KcsBojtoU",
        "colab_type": "text"
      },
      "source": [
        "### LaTex\n",
        "\n",
        "   - $\\alpha = \\beta $\n",
        "   - $\\alpha$와 $\\beta$ 는 값이 같다."
      ]
    },
    {
      "cell_type": "markdown",
      "metadata": {
        "id": "zGQvbYb8jtoX",
        "colab_type": "text"
      },
      "source": [
        "----\n",
        "$\\alpha$ alpha\n",
        "$\\beta$ beta\n",
        "$\\gamma$ gamma\n",
        "$\\delta$ delta\n",
        "$\\epsilon$ epsilon\n",
        "$\\zeta$ zeta\n",
        "$\\eta$ eta\n",
        "$\\theta$ theta\n",
        "$\\kappa$ kappa\n",
        "$\\lambda$ lambda\n",
        "$\\mu$ mu\n",
        "$\\nu$ nu\n",
        "$\\xi$ xi\n",
        "$\\pi$ pi\n",
        "$\\rho$ rho\n",
        "$\\sigma$ sigma\n",
        "$\\tau$ tau\n",
        "$\\phi$ phi\n",
        "$\\chi$ chi\n",
        "$\\psi$ psi\n",
        "$\\omega$ omega\n",
        "\n",
        "\n",
        "----"
      ]
    },
    {
      "cell_type": "markdown",
      "metadata": {
        "id": "wA9ZKzubjtoY",
        "colab_type": "text"
      },
      "source": [
        "### 1.2 수열의 집합의 합과 곱"
      ]
    },
    {
      "cell_type": "markdown",
      "metadata": {
        "id": "6YSSMYNyjtoZ",
        "colab_type": "text"
      },
      "source": [
        "- 순서를 아는 데이터 : 수열\n",
        "- 순서가 중요하지 않은 데이트 : 집합\n",
        "- 실수의 집합 **R"
      ]
    },
    {
      "cell_type": "markdown",
      "metadata": {
        "id": "TcEH1emEjtoa",
        "colab_type": "text"
      },
      "source": [
        "----\n",
        "\n",
        "### 데이터 유형\n",
        "\n",
        " - 붓꽃 데이터셋(iris dataset)\n",
        "     - 150송이에 대한 꽃받침의 길이, 꽃받침의 폭, 꽃잎의 길이, 꽃잎의 폭을 측정\n",
        "     - 50 : 세토사, 50 : 베르시칼라, 50 : 비지니카"
      ]
    },
    {
      "cell_type": "code",
      "metadata": {
        "id": "1Uul_GoAjtob",
        "colab_type": "code",
        "colab": {}
      },
      "source": [
        "from sklearn.datasets import load_iris"
      ],
      "execution_count": 0,
      "outputs": []
    },
    {
      "cell_type": "code",
      "metadata": {
        "id": "n2N5Q46Rjtof",
        "colab_type": "code",
        "outputId": "a57576e0-5658-4bf8-b836-3449eb8ad24e",
        "colab": {}
      },
      "source": [
        "iris = load_iris()\n",
        "iris.data[0, :]"
      ],
      "execution_count": 0,
      "outputs": [
        {
          "output_type": "execute_result",
          "data": {
            "text/plain": [
              "array([5.1, 3.5, 1.4, 0.2])"
            ]
          },
          "metadata": {
            "tags": []
          },
          "execution_count": 4
        }
      ]
    },
    {
      "cell_type": "markdown",
      "metadata": {
        "id": "nXagB55ajtoj",
        "colab_type": "text"
      },
      "source": [
        "### 스칼라\n",
        "\n",
        " - 하나의 숫자만으로 이루어진 데이터\n",
        " - 실수 집합의 R\n",
        " \n",
        " $R$ $\\in$ $\\varkappa$"
      ]
    },
    {
      "cell_type": "markdown",
      "metadata": {
        "id": "ziYfedBTjtok",
        "colab_type": "text"
      },
      "source": [
        "----\n",
        "\n",
        "### 벡터\n",
        "\n",
        " - 여러 개의 숫자가 특정한 순서대로 모여있는 데이터\n",
        " - 데이터의 묶음(tuple)\n",
        " - iris vector == 길이가 4인 4차원 vector\n",
        "\n",
        " $\\varkappa$ $\\in$ $R^4$  \n",
        "\n",
        "\n",
        " - column(열) 벡터가 일반적"
      ]
    },
    {
      "cell_type": "markdown",
      "metadata": {
        "id": "uxPAgJfQjtok",
        "colab_type": "text"
      },
      "source": [
        " - 예측문제에서 입력데이터로 vector 사용시 \n",
        "      : 특징벡터(feature vector)"
      ]
    },
    {
      "cell_type": "code",
      "metadata": {
        "id": "sramDeOejtol",
        "colab_type": "code",
        "outputId": "31fb8764-9c9e-4a7a-a96f-a5fb5f598714",
        "colab": {}
      },
      "source": [
        "x1 = np.array([5.1, 3.5, 1.4, 0.2])\n",
        "x1"
      ],
      "execution_count": 0,
      "outputs": [
        {
          "output_type": "execute_result",
          "data": {
            "text/plain": [
              "array([5.1, 3.5, 1.4, 0.2])"
            ]
          },
          "metadata": {
            "tags": []
          },
          "execution_count": 8
        }
      ]
    },
    {
      "cell_type": "markdown",
      "metadata": {
        "id": "fXQJLh6Njtop",
        "colab_type": "text"
      },
      "source": [
        "\n",
        "##### Numpy를 사용해서 붓꽃데이터 x2에 대한 벡터 변수 x2를 만든다"
      ]
    },
    {
      "cell_type": "code",
      "metadata": {
        "id": "_kTw3u4-jtop",
        "colab_type": "code",
        "outputId": "05364488-4646-4004-ad2d-25c40a7f3c90",
        "colab": {}
      },
      "source": [
        "iris.data[1, :]"
      ],
      "execution_count": 0,
      "outputs": [
        {
          "output_type": "execute_result",
          "data": {
            "text/plain": [
              "array([4.9, 3. , 1.4, 0.2])"
            ]
          },
          "metadata": {
            "tags": []
          },
          "execution_count": 9
        }
      ]
    },
    {
      "cell_type": "code",
      "metadata": {
        "id": "zATzDEOVjtot",
        "colab_type": "code",
        "outputId": "e2590cb1-c6bc-4430-b185-f1bc1cf4bddb",
        "colab": {}
      },
      "source": [
        "x2 = np.array([[4.9], [3.], [1.4], [0.2]])\n",
        "x2"
      ],
      "execution_count": 0,
      "outputs": [
        {
          "output_type": "execute_result",
          "data": {
            "text/plain": [
              "array([[4.9],\n",
              "       [3. ],\n",
              "       [1.4],\n",
              "       [0.2]])"
            ]
          },
          "metadata": {
            "tags": []
          },
          "execution_count": 13
        }
      ]
    },
    {
      "cell_type": "code",
      "metadata": {
        "id": "nQFpg9THjtov",
        "colab_type": "code",
        "outputId": "e410f05f-4aad-4679-ac3b-36077f355254",
        "colab": {}
      },
      "source": [
        "np.arange(1,5).reshape(2,2)"
      ],
      "execution_count": 0,
      "outputs": [
        {
          "output_type": "execute_result",
          "data": {
            "text/plain": [
              "array([[1, 2],\n",
              "       [3, 4]])"
            ]
          },
          "metadata": {
            "tags": []
          },
          "execution_count": 300
        }
      ]
    },
    {
      "cell_type": "markdown",
      "metadata": {
        "id": "uje5_iAYjtoy",
        "colab_type": "text"
      },
      "source": [
        "### Mnist 숫자 이미지 (digit image) 데이터셋"
      ]
    },
    {
      "cell_type": "code",
      "metadata": {
        "id": "eMJWjLXljtoy",
        "colab_type": "code",
        "colab": {}
      },
      "source": [
        "import warnings\n",
        "warnings.filterwarnings(\"ignore\")"
      ],
      "execution_count": 0,
      "outputs": []
    },
    {
      "cell_type": "code",
      "metadata": {
        "id": "K0Z_QEobjto1",
        "colab_type": "code",
        "colab": {}
      },
      "source": [
        "from sklearn.datasets import load_digits"
      ],
      "execution_count": 0,
      "outputs": []
    },
    {
      "cell_type": "code",
      "metadata": {
        "id": "3nxAG9skjto3",
        "colab_type": "code",
        "outputId": "90c5fd41-202f-450c-b64d-a61ae2f43923",
        "colab": {}
      },
      "source": [
        "digits = load_digits()  # 데이터 로드\n",
        "samples = [0, 10, 20, 30, 1, 11, 21, 31]  # 선택된 이미지 번호\n",
        "d = []\n",
        "\n",
        "for i in range(8):\n",
        "    d.append(digits.images[samples[i]])\n",
        "\n",
        "plt.figure(figsize=(8, 2))\n",
        "for i in range(8):\n",
        "    plt.subplot(1, 8, i+1)\n",
        "    plt.imshow(d[i], interpolation='nearest', cmap=plt.cm.bone_r)\n",
        "    plt.grid(False)\n",
        "    plt.xticks([])\n",
        "    plt.yticks([])\n",
        "    plt.title(\"image {}\".format(i+1))\n",
        "plt.suptitle(\"숫자 0과 1 이미지\")\n",
        "plt.tight_layout()\n",
        "plt.show()"
      ],
      "execution_count": 0,
      "outputs": [
        {
          "output_type": "display_data",
          "data": {
            "image/png": "[encoded data removed]",
            "text/plain": [
              "<Figure size 576x144 with 8 Axes>"
            ]
          },
          "metadata": {
            "tags": [],
            "image/png": {
              "height": 114,
              "width": 567
            }
          }
        }
      ]
    },
    {
      "cell_type": "markdown",
      "metadata": {
        "id": "28nBtmlQjto6",
        "colab_type": "text"
      },
      "source": [
        "- 벡터는 행렬로 이루어짐\n",
        "- 특징 행렬 (feature matrix)\n",
        "- $X\\in{R}^{6\\times4}$"
      ]
    },
    {
      "cell_type": "markdown",
      "metadata": {
        "id": "Dzh3Flq7jto7",
        "colab_type": "text"
      },
      "source": [
        "### 스칼라"
      ]
    },
    {
      "cell_type": "markdown",
      "metadata": {
        "id": "WXxrY2xsjto7",
        "colab_type": "text"
      },
      "source": [
        "$a$ $\\in$ $R$ $^1$ $^\\times$ $^1$"
      ]
    },
    {
      "cell_type": "code",
      "metadata": {
        "id": "uWRLwvWxjto8",
        "colab_type": "code",
        "outputId": "4edc5110-f536-46e8-9126-f74f666df57b",
        "colab": {}
      },
      "source": [
        "X = np.array([[5.1, 3.5, 1.4, 0.2], [4.9, 3., 1.4, 0.2]])\n",
        "X"
      ],
      "execution_count": 0,
      "outputs": [
        {
          "output_type": "execute_result",
          "data": {
            "text/plain": [
              "array([[5.1, 3.5, 1.4, 0.2],\n",
              "       [4.9, 3. , 1.4, 0.2]])"
            ]
          },
          "metadata": {
            "tags": []
          },
          "execution_count": 92
        }
      ]
    },
    {
      "cell_type": "code",
      "metadata": {
        "id": "LQZoXSVrjto_",
        "colab_type": "code",
        "outputId": "707beb9c-a074-4942-d3cf-37dc0d33d714",
        "colab": {}
      },
      "source": [
        "X = np.array([[5.1, 3.5, 1.4, 0.2, 4.9, 3., 1.4, 0.2]]).reshape(2, 4)\n",
        "X"
      ],
      "execution_count": 0,
      "outputs": [
        {
          "output_type": "execute_result",
          "data": {
            "text/plain": [
              "array([[5.1, 3.5, 1.4, 0.2],\n",
              "       [4.9, 3. , 1.4, 0.2]])"
            ]
          },
          "metadata": {
            "tags": []
          },
          "execution_count": 93
        }
      ]
    },
    {
      "cell_type": "markdown",
      "metadata": {
        "id": "yjdJBWZEjtpB",
        "colab_type": "text"
      },
      "source": [
        "### 텐서\n",
        "\n",
        " - 같은 크기의 행렬이 여러개 같이 묶여 있는 데이터\n",
        " - 다차원 배열을 텐서라고 부르기도 함"
      ]
    },
    {
      "cell_type": "markdown",
      "metadata": {
        "id": "TPxUB5sQjtpC",
        "colab_type": "text"
      },
      "source": [
        "### 전치 행렬\n",
        "\n",
        "1. Numpy를 사용해서 붓꽃 데이터 X의 전치행렬 $X^T$ 를 구한다.\n",
        "2. Numpy를 사용해서 위 전치행렬을 다시 전치한 행렬 $(X^T)^T$를 구한다. 이 행렬과 원래 행렬 X를 비교한다."
      ]
    },
    {
      "cell_type": "code",
      "metadata": {
        "id": "iK7AdM1qjtpD",
        "colab_type": "code",
        "outputId": "d1b3042a-f8c7-4f6a-eb7b-8218ca1aa524",
        "colab": {}
      },
      "source": [
        "X"
      ],
      "execution_count": 0,
      "outputs": [
        {
          "output_type": "execute_result",
          "data": {
            "text/plain": [
              "array([[5.1, 3.5, 1.4, 0.2],\n",
              "       [4.9, 3. , 1.4, 0.2]])"
            ]
          },
          "metadata": {
            "tags": []
          },
          "execution_count": 52
        }
      ]
    },
    {
      "cell_type": "code",
      "metadata": {
        "id": "0I_NfaF0jtpG",
        "colab_type": "code",
        "outputId": "e2b46117-ebca-433a-978d-4797c85a2f44",
        "colab": {}
      },
      "source": [
        "X.T"
      ],
      "execution_count": 0,
      "outputs": [
        {
          "output_type": "execute_result",
          "data": {
            "text/plain": [
              "array([[5.1, 4.9],\n",
              "       [3.5, 3. ],\n",
              "       [1.4, 1.4],\n",
              "       [0.2, 0.2]])"
            ]
          },
          "metadata": {
            "tags": []
          },
          "execution_count": 50
        }
      ]
    },
    {
      "cell_type": "code",
      "metadata": {
        "id": "1V1XgG2qjtpI",
        "colab_type": "code",
        "outputId": "31709761-0774-4fba-f13f-f74a0f533eff",
        "colab": {}
      },
      "source": [
        "X.T.T"
      ],
      "execution_count": 0,
      "outputs": [
        {
          "output_type": "execute_result",
          "data": {
            "text/plain": [
              "array([[5.1, 3.5, 1.4, 0.2],\n",
              "       [4.9, 3. , 1.4, 0.2]])"
            ]
          },
          "metadata": {
            "tags": []
          },
          "execution_count": 53
        }
      ]
    }
  ]
}