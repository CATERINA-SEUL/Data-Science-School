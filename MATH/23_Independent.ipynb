{
 "cells": [
  {
   "cell_type": "markdown",
   "metadata": {},
   "source": [
    "### 독립과 상관\n",
    "\n",
    " #### 상관관계\n",
    "  - 한 확률변수의 표본 값이 달라지면 다른 확률변수의 조건부 분포가 달라질 때 서로 상관관계가 있다고 한다. \n",
    "  \n",
    "  \n",
    " #### 독립 \n",
    "  - 상관관계가 아니면 서로 독립\n",
    "  \n",
    "  $p_{XY}(x,y) = p_X(x)p_Y(y)$\n",
    "  \n",
    "  $p_{XYZ}(x,y,z) = p_X(x)p_Y(y)p_Z(z)$\n",
    "  \n",
    " \n",
    " #### 조건부 확률 분포\n",
    " \n",
    "  $p_{X|Y}(x|y) = \\frac{p_{XY}(x,y)}{p_Y(y)}= frac{p_X(x)p_Y(y)}{p_Y(y)} = p_X(x)$\n",
    "  \n",
    "  $p_{Y|X}(y|x) = \\frac{p_{XY}(x,y)}{p_X(x)}= frac{p_X(x)p_Y(y)}{p_X(x)} = p_Y(y)$"
   ]
  },
  {
   "cell_type": "code",
   "execution_count": 10,
   "metadata": {},
   "outputs": [
    {
     "data": {
      "image/png": "[encoded data removed]",
      "text/plain": [
       "<Figure size 432x288 with 2 Axes>"
      ]
     },
     "metadata": {
      "image/png": {
       "height": 157,
       "width": 365
      },
      "needs_background": "light"
     },
     "output_type": "display_data"
    }
   ],
   "source": [
    "pmf1 = np.array([[1, 2, 4, 2, 1],\n",
    "                 [2, 4, 8, 4, 2],\n",
    "                 [4, 8, 16, 8, 4],\n",
    "                 [2, 4, 8, 4, 2],\n",
    "                 [1, 2, 4, 2, 1]])\n",
    "pmf1 = pmf1/pmf1.sum()\n",
    "\n",
    "pmf1_marginal_x = np.round(pmf1.sum(axis=0), 2)\n",
    "pmf1_marginal_y = np.round(pmf1.sum(axis=1), 2)\n",
    "pmf1x = pmf1_marginal_x * pmf1_marginal_y[:, np.newaxis]\n",
    "\n",
    "plt.subplot(121)\n",
    "sns.heatmap(pmf1, cmap=mpl.cm.bone_r, annot=True,\n",
    "            square=True,  linewidths=1, linecolor='k', cbar=False, xticklabels=pmf1_marginal_x, yticklabels=pmf1_marginal_y)\n",
    "\n",
    "plt.subplot(122)\n",
    "pmf1x = pmf1_marginal_x * pmf1_marginal_y[:, np.newaxis]\n",
    "sns.heatmap(pmf1, cmap=mpl.cm.bone_r, annot=True,\n",
    "            square=True, linewidths=1, linecolor='k', cbar=False, xticklabels=pmf1_marginal_x, yticklabels=pmf1_marginal_y)\n",
    "\n",
    "plt.show()"
   ]
  },
  {
   "cell_type": "markdown",
   "metadata": {},
   "source": [
    "### 독립 확률변수의 기대값\n",
    "\n",
    " $E[XY] = E[X]E[Y]$\n",
    " \n",
    " $E[(X-\\mu x)(Y-\\mu y)]$ = 0\n",
    " \n",
    "---\n",
    "#### 독립 확률 변수의 분산\n",
    "\n",
    " $Var[X+Y] = Var[X]+Var[Y]$\n",
    " \n",
    "---\n",
    "### 공분산과 상관계수\n",
    "\n",
    " - 다변수 확률변수 간의 상관관계를 숫자로 나타낸 것\n",
    " \n",
    "#### 표본공분산\n",
    "\n",
    "  $s_{xy} = \\frac {1}{N}\\sum^N_{i=1}(x_i - \\bar x)(y_i - \\bar y)$\n",
    "  \n",
    "#### 표본 상관계수\n",
    "\n",
    "  $r_{xy} = \\frac {s_{xy}}{\\sqrt{s^2_x \\cdot s^2_y}}$\n",
    "  \n",
    "   - pearsonr() 함수로 사용\n",
    "   - 방향성(모양)을 나타냄"
   ]
  },
  {
   "cell_type": "code",
   "execution_count": 14,
   "metadata": {},
   "outputs": [
    {
     "data": {
      "text/plain": [
       "0.8717537758865832"
      ]
     },
     "execution_count": 14,
     "metadata": {},
     "output_type": "execute_result"
    }
   ],
   "source": [
    "from sklearn.datasets import load_iris\n",
    "\n",
    "X = load_iris().data\n",
    "x1 = X[:, 0]  # 꽃받침의 길이\n",
    "x2 = X[:, 1]  # 꽃받침의 폭\n",
    "x3 = X[:, 2]  # 꽃잎의 길이\n",
    "x4 = X[:, 3]  # 꽃잎의 폭\n",
    "\n",
    "\n",
    "# 꽃받침의 길이와 꽃잎의 길이 사이의 상관계수\n",
    "\n",
    "sp.stats.pearsonr(x1, x3)[0]"
   ]
  },
  {
   "cell_type": "markdown",
   "metadata": {},
   "source": [
    "#### 연습문제 7.5.1\n",
    "\n",
    " 1) 꽃받침의 길이와 꽃받침의 폭 사이의 상관계수\n",
    " \n",
    " 2) 꽃잎의 길이와 꽃잎의 폭 사이의 상관계수\n",
    " \n",
    " 3) 꽃받침의 폭과 꽃잎의 폭 사이의 상관계수"
   ]
  },
  {
   "cell_type": "code",
   "execution_count": 15,
   "metadata": {},
   "outputs": [
    {
     "data": {
      "text/plain": [
       "-0.11756978413300204"
      ]
     },
     "execution_count": 15,
     "metadata": {},
     "output_type": "execute_result"
    }
   ],
   "source": [
    "# 1)\n",
    "\n",
    "sp.stats.pearsonr(x1, x2)[0]"
   ]
  },
  {
   "cell_type": "code",
   "execution_count": 16,
   "metadata": {},
   "outputs": [
    {
     "data": {
      "text/plain": [
       "0.9628654314027961"
      ]
     },
     "execution_count": 16,
     "metadata": {},
     "output_type": "execute_result"
    }
   ],
   "source": [
    "# 2)\n",
    "\n",
    "sp.stats.pearsonr(x3, x4)[0]"
   ]
  },
  {
   "cell_type": "code",
   "execution_count": 17,
   "metadata": {},
   "outputs": [
    {
     "data": {
      "text/plain": [
       "-0.3661259325364391"
      ]
     },
     "execution_count": 17,
     "metadata": {},
     "output_type": "execute_result"
    }
   ],
   "source": [
    "# 3)\n",
    "\n",
    "sp.stats.pearsonr(x2, x4)[0]"
   ]
  }
 ],
 "metadata": {
  "kernelspec": {
   "display_name": "Python 3",
   "language": "python",
   "name": "python3"
  },
  "language_info": {
   "codemirror_mode": {
    "name": "ipython",
    "version": 3
   },
   "file_extension": ".py",
   "mimetype": "text/x-python",
   "name": "python",
   "nbconvert_exporter": "python",
   "pygments_lexer": "ipython3",
   "version": "3.7.3"
  }
 },
 "nbformat": 4,
 "nbformat_minor": 4
}
