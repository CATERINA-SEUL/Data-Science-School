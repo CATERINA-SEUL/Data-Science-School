{
 "cells": [
  {
   "cell_type": "markdown",
   "metadata": {},
   "source": [
    "---\n",
    "###  분산과 표준편차\n",
    "\n",
    "#### 확률분포의 분산\n",
    "\n",
    " - $\\sigma^2 = Var[X] = E[(X-\\mu)^2]$\n",
    " \n",
    " - 이산확률변수 : $\\sigma^2 = \\sum_{x_i \\in \\Omega}(x_i - \\mu)^2p(x_i)$\n",
    " \n",
    " - 연속확률변수 : $\\sigma^2 = \\int^\\infty_\\infty(x-\\mu)^2p(x)dx$\n",
    "\n",
    "---\n",
    "#### 분산의 성질\n",
    "\n",
    " - 분산은 항상 0 또는 양수이다. \n",
    " \n",
    "     $Var[X]\\geq0$\n",
    "     \n",
    "     \n",
    " - 확률변수가 아닌 상수값 c에 대해\n",
    " \n",
    "     $Var[c] = 0$\n",
    "     \n",
    "     $Var[cX] = c^2Var[X]$\n",
    "     \n",
    "     \n",
    " - 기대값 성질을 이용\n",
    " \n",
    "     $Var[X] = E[X^2] - (E[X])^2 = E[X^2]-\\mu^2$\n",
    "     \n",
    "     $E[X^2] = \\mu^2 + Var[X]$\n",
    "     \n",
    "     \n",
    " - 확률변수 합의 분산\n",
    " \n",
    "     $Var[X+Y] = Var[X] + Var[Y] -2E[(X-\\mu_X)(Y-\\mu_Y)]$\n",
    "     \n",
    "     \n",
    " - 확률변수의 독립\n",
    " \n",
    "     $E[(X-\\mu_x)(Y-\\mu_Y)]$\n",
    "     \n",
    "     $Var[X+Y] = Var[X]+Var[Y]$\n",
    "     \n",
    "---\n",
    "#### 표본평균의 분산\n",
    "\n",
    " - $Var[\\bar X] = \\frac{1}{N}Var[X]$\n",
    " - 표본평균을 계산한 표본 개수가 커지면 표본평균의 값의 변동은 작아진다..\n",
    " \n",
    " \n",
    " 1) 데이터를 생성하는 확률변수 $X$의 기대값을 구하려면 확률밀도함수 $P(x)$의 수식을 알아야함.\n",
    " \n",
    " 2) 표본평균이라는 새로운 확률변수 $\\bar X$ 의 기대값 $E[\\bar X]$은 원래 확률 변수 $X$의 기대값 $E[X]$와 같으므로 표본평균 $\\bar x$는 비슷한 값이 나오지만 정확하지는 않다. \n",
    " \n",
    " 3) 표본개수 $N$이 크면 표본평균 $\\bar x$의 분산이 아주 작아지므로 표본평균의 값 $\\bar x$는 항상 표본평균의 기대값 $E[\\bar X] = E[X]$ 근처의 거의 일정한 값이 나올 것이다.\n",
    " \n",
    " 4) 따라서 표본 개수 $N$ 이 크면 표본평균 $\\bar x$는 원래 확률변수 $N$의 기대값 $E[X]$ 의 근사값이라고 할 수 있다.\n",
    " \n",
    " \n",
    "--- \n",
    "\n",
    "#### 표본분산의 기대값\n",
    "\n",
    " - $E[S^2] = \\frac{N-1}{N}\\sigma^2$\n",
    " \n",
    "   - 표본분산 $S^2$의 기대값을 구하면 이론적인 분산값의 $\\frac{N-1}{N}$ \n",
    "   \n",
    "       $\\rightarrow$표본분산값이 이론적인 분산값보다 더 작아진다.\n",
    "       \n",
    "       \n",
    " - 표본분산이 실제분산보다 작아지는 이유 \n",
    " \n",
    "  1) 표본분산을 계산할 때 사용한은 표본평균의 값이 데이터가 많이 몰려있는 쪽으로 편향되게 나온다. \n",
    "  \n",
    "  2) 데이터가 몰려있는 위치에 있는 표본평균을 기준으로 각 데이터까지의 거리를 계산하면 원래의 기대값으로부터의 거리보다 작게 나올 수 있다.\n",
    "  "
   ]
  },
  {
   "cell_type": "code",
   "execution_count": 248,
   "metadata": {},
   "outputs": [],
   "source": [
    "np.random.seed(15)"
   ]
  },
  {
   "cell_type": "code",
   "execution_count": 249,
   "metadata": {},
   "outputs": [],
   "source": [
    "N = 7\n",
    "data = np.sort(np.random.normal(size=(N)))[::-1]"
   ]
  },
  {
   "cell_type": "code",
   "execution_count": 250,
   "metadata": {},
   "outputs": [
    {
     "data": {
      "text/plain": [
       "-0.46494862738581794"
      ]
     },
     "execution_count": 250,
     "metadata": {},
     "output_type": "execute_result"
    }
   ],
   "source": [
    "mean = np.mean(data)\n",
    "mean"
   ]
  },
  {
   "cell_type": "code",
   "execution_count": 253,
   "metadata": {},
   "outputs": [
    {
     "data": {
      "image/png": "[encoded data removed]",
      "text/plain": [
       "<Figure size 720x144 with 1 Axes>"
      ]
     },
     "metadata": {
      "image/png": {
       "height": 143,
       "width": 603
      },
      "needs_background": "light"
     },
     "output_type": "display_data"
    }
   ],
   "source": [
    "plt.figure(figsize=(10, 2))\n",
    "sns.rugplot(data, height=0.5, linewidth=4)\n",
    "x = np.linspace(-3, 3, 100)\n",
    "plt.axvline(x=0, ls=':', c='r', linewidth=2, label='expectation')\n",
    "plt.axvline(x=mean, ls='--', c='b', linewidth=2, label='mean')\n",
    "plt.legend()\n",
    "plt.xlim(-2, 2)\n",
    "plt.show()"
   ]
  },
  {
   "cell_type": "code",
   "execution_count": 254,
   "metadata": {},
   "outputs": [
    {
     "data": {
      "text/plain": [
       "array([ 0.80423333,  0.70051752,  0.30904009,  0.15262015, -0.03684105,\n",
       "       -0.63091342, -1.29865663])"
      ]
     },
     "execution_count": 254,
     "metadata": {},
     "output_type": "execute_result"
    }
   ],
   "source": [
    "distance_from_sample_mean = data - mean\n",
    "distance_from_sample_mean"
   ]
  },
  {
   "cell_type": "code",
   "execution_count": 256,
   "metadata": {},
   "outputs": [
    {
     "data": {
      "text/plain": [
       "0.4774618257836171"
      ]
     },
     "execution_count": 256,
     "metadata": {},
     "output_type": "execute_result"
    }
   ],
   "source": [
    "sample_variance = (distance_from_sample_mean ** 2).mean()\n",
    "sample_variance"
   ]
  },
  {
   "cell_type": "code",
   "execution_count": 257,
   "metadata": {},
   "outputs": [
    {
     "data": {
      "text/plain": [
       "0.5570387967475533"
      ]
     },
     "execution_count": 257,
     "metadata": {},
     "output_type": "execute_result"
    }
   ],
   "source": [
    "sample_variance * N / (N-1)"
   ]
  },
  {
   "cell_type": "markdown",
   "metadata": {},
   "source": [
    "#### 비대칭도와 첨도\n",
    "\n",
    " - 비대칭도 (skew)\n",
    "     \n",
    "     $E[(\\frac{X-\\mu}{\\sigma})^3] = \\frac{\\mu_3}{\\sigma^3}$\n",
    "     \n",
    " - 첨도 (kurtosis)\n",
    " \n",
    "     $E[(\\frac{X-\\mu}{\\sigma})^4] = \\frac{mu_4}{\\sigma^4}$\n",
    "     \n",
    "#### 모멘트 (moment)\n",
    "\n",
    " - $\\mu_n = E[(X-\\mu)^n] = \\int(x-\\mu)^np(x)dx$\n",
    " \n"
   ]
  },
  {
   "cell_type": "markdown",
   "metadata": {},
   "source": [
    "### 다변수 확률변수\n",
    "\n",
    "#### 결합확률질량함수 (joint probability mass function)\n",
    "\n",
    " - $p_{XY}(x,y)$"
   ]
  },
  {
   "cell_type": "code",
   "execution_count": 261,
   "metadata": {},
   "outputs": [
    {
     "data": {
      "text/html": [
       "<div>\n",
       "<style scoped>\n",
       "    .dataframe tbody tr th:only-of-type {\n",
       "        vertical-align: middle;\n",
       "    }\n",
       "\n",
       "    .dataframe tbody tr th {\n",
       "        vertical-align: top;\n",
       "    }\n",
       "\n",
       "    .dataframe thead th {\n",
       "        text-align: right;\n",
       "    }\n",
       "</style>\n",
       "<table border=\"1\" class=\"dataframe\">\n",
       "  <thead>\n",
       "    <tr style=\"text-align: right;\">\n",
       "      <th>X</th>\n",
       "      <th>A</th>\n",
       "      <th>B</th>\n",
       "      <th>C</th>\n",
       "      <th>D</th>\n",
       "      <th>E</th>\n",
       "      <th>F</th>\n",
       "    </tr>\n",
       "    <tr>\n",
       "      <th>Y</th>\n",
       "      <th></th>\n",
       "      <th></th>\n",
       "      <th></th>\n",
       "      <th></th>\n",
       "      <th></th>\n",
       "      <th></th>\n",
       "    </tr>\n",
       "  </thead>\n",
       "  <tbody>\n",
       "    <tr>\n",
       "      <th>A</th>\n",
       "      <td>1</td>\n",
       "      <td>2</td>\n",
       "      <td>1</td>\n",
       "      <td>0</td>\n",
       "      <td>0</td>\n",
       "      <td>0</td>\n",
       "    </tr>\n",
       "    <tr>\n",
       "      <th>B</th>\n",
       "      <td>0</td>\n",
       "      <td>2</td>\n",
       "      <td>3</td>\n",
       "      <td>1</td>\n",
       "      <td>0</td>\n",
       "      <td>0</td>\n",
       "    </tr>\n",
       "    <tr>\n",
       "      <th>C</th>\n",
       "      <td>0</td>\n",
       "      <td>4</td>\n",
       "      <td>7</td>\n",
       "      <td>4</td>\n",
       "      <td>1</td>\n",
       "      <td>0</td>\n",
       "    </tr>\n",
       "    <tr>\n",
       "      <th>D</th>\n",
       "      <td>0</td>\n",
       "      <td>1</td>\n",
       "      <td>4</td>\n",
       "      <td>5</td>\n",
       "      <td>4</td>\n",
       "      <td>0</td>\n",
       "    </tr>\n",
       "    <tr>\n",
       "      <th>E</th>\n",
       "      <td>0</td>\n",
       "      <td>0</td>\n",
       "      <td>1</td>\n",
       "      <td>3</td>\n",
       "      <td>2</td>\n",
       "      <td>0</td>\n",
       "    </tr>\n",
       "    <tr>\n",
       "      <th>F</th>\n",
       "      <td>0</td>\n",
       "      <td>0</td>\n",
       "      <td>0</td>\n",
       "      <td>1</td>\n",
       "      <td>2</td>\n",
       "      <td>1</td>\n",
       "    </tr>\n",
       "  </tbody>\n",
       "</table>\n",
       "</div>"
      ],
      "text/plain": [
       "X  A  B  C  D  E  F\n",
       "Y                  \n",
       "A  1  2  1  0  0  0\n",
       "B  0  2  3  1  0  0\n",
       "C  0  4  7  4  1  0\n",
       "D  0  1  4  5  4  0\n",
       "E  0  0  1  3  2  0\n",
       "F  0  0  0  1  2  1"
      ]
     },
     "execution_count": 261,
     "metadata": {},
     "output_type": "execute_result"
    }
   ],
   "source": [
    "grades = ['A', 'B', 'C', 'D', 'E', 'F']\n",
    "scores = pd.DataFrame(\n",
    "    [[1, 2, 1, 0, 0, 0],\n",
    "     [0, 2, 3, 1, 0, 0],\n",
    "        [0, 4, 7, 4, 1, 0],\n",
    "        [0, 1, 4, 5, 4, 0],\n",
    "        [0, 0, 1, 3, 2, 0],\n",
    "        [0, 0, 0, 1, 2, 1]],\n",
    "    columns=grades, index=grades)\n",
    "scores.index.name = 'Y'\n",
    "scores.columns.name = 'X'\n",
    "scores"
   ]
  },
  {
   "cell_type": "code",
   "execution_count": 262,
   "metadata": {},
   "outputs": [
    {
     "data": {
      "text/html": [
       "<div>\n",
       "<style scoped>\n",
       "    .dataframe tbody tr th:only-of-type {\n",
       "        vertical-align: middle;\n",
       "    }\n",
       "\n",
       "    .dataframe tbody tr th {\n",
       "        vertical-align: top;\n",
       "    }\n",
       "\n",
       "    .dataframe thead th {\n",
       "        text-align: right;\n",
       "    }\n",
       "</style>\n",
       "<table border=\"1\" class=\"dataframe\">\n",
       "  <thead>\n",
       "    <tr style=\"text-align: right;\">\n",
       "      <th>X</th>\n",
       "      <th>A</th>\n",
       "      <th>B</th>\n",
       "      <th>C</th>\n",
       "      <th>D</th>\n",
       "      <th>E</th>\n",
       "      <th>F</th>\n",
       "    </tr>\n",
       "    <tr>\n",
       "      <th>Y</th>\n",
       "      <th></th>\n",
       "      <th></th>\n",
       "      <th></th>\n",
       "      <th></th>\n",
       "      <th></th>\n",
       "      <th></th>\n",
       "    </tr>\n",
       "  </thead>\n",
       "  <tbody>\n",
       "    <tr>\n",
       "      <th>A</th>\n",
       "      <td>0.02</td>\n",
       "      <td>0.04</td>\n",
       "      <td>0.02</td>\n",
       "      <td>0.00</td>\n",
       "      <td>0.00</td>\n",
       "      <td>0.00</td>\n",
       "    </tr>\n",
       "    <tr>\n",
       "      <th>B</th>\n",
       "      <td>0.00</td>\n",
       "      <td>0.04</td>\n",
       "      <td>0.06</td>\n",
       "      <td>0.02</td>\n",
       "      <td>0.00</td>\n",
       "      <td>0.00</td>\n",
       "    </tr>\n",
       "    <tr>\n",
       "      <th>C</th>\n",
       "      <td>0.00</td>\n",
       "      <td>0.08</td>\n",
       "      <td>0.14</td>\n",
       "      <td>0.08</td>\n",
       "      <td>0.02</td>\n",
       "      <td>0.00</td>\n",
       "    </tr>\n",
       "    <tr>\n",
       "      <th>D</th>\n",
       "      <td>0.00</td>\n",
       "      <td>0.02</td>\n",
       "      <td>0.08</td>\n",
       "      <td>0.10</td>\n",
       "      <td>0.08</td>\n",
       "      <td>0.00</td>\n",
       "    </tr>\n",
       "    <tr>\n",
       "      <th>E</th>\n",
       "      <td>0.00</td>\n",
       "      <td>0.00</td>\n",
       "      <td>0.02</td>\n",
       "      <td>0.06</td>\n",
       "      <td>0.04</td>\n",
       "      <td>0.00</td>\n",
       "    </tr>\n",
       "    <tr>\n",
       "      <th>F</th>\n",
       "      <td>0.00</td>\n",
       "      <td>0.00</td>\n",
       "      <td>0.00</td>\n",
       "      <td>0.02</td>\n",
       "      <td>0.04</td>\n",
       "      <td>0.02</td>\n",
       "    </tr>\n",
       "  </tbody>\n",
       "</table>\n",
       "</div>"
      ],
      "text/plain": [
       "X     A     B     C     D     E     F\n",
       "Y                                    \n",
       "A  0.02  0.04  0.02  0.00  0.00  0.00\n",
       "B  0.00  0.04  0.06  0.02  0.00  0.00\n",
       "C  0.00  0.08  0.14  0.08  0.02  0.00\n",
       "D  0.00  0.02  0.08  0.10  0.08  0.00\n",
       "E  0.00  0.00  0.02  0.06  0.04  0.00\n",
       "F  0.00  0.00  0.00  0.02  0.04  0.02"
      ]
     },
     "execution_count": 262,
     "metadata": {},
     "output_type": "execute_result"
    }
   ],
   "source": [
    "pmf = scores / scores.values.sum()\n",
    "pmf"
   ]
  },
  {
   "cell_type": "code",
   "execution_count": 295,
   "metadata": {},
   "outputs": [
    {
     "data": {
      "image/png": "[encoded data removed]",
      "text/plain": [
       "<Figure size 432x288 with 2 Axes>"
      ]
     },
     "metadata": {
      "image/png": {
       "height": 420,
       "width": 541
      },
      "needs_background": "light"
     },
     "output_type": "display_data"
    }
   ],
   "source": [
    "sns.heatmap(pmf, cmap=mpl.cm.bone_r, annot=True, \n",
    "            xticklabels=['A', 'B', 'C', 'D', 'E', 'F'],\n",
    "            yticklabels=['A', 'B', 'C', 'D', 'E', 'F'])\n",
    "plt.title(\"joint probability mass function p(x,y)\")\n",
    "plt.tight_layout(pad=-6)\n",
    "plt.show()"
   ]
  },
  {
   "cell_type": "markdown",
   "metadata": {},
   "source": [
    "#### 주변확률질량함수 (marginal probability mass function)\n",
    "\n",
    " - $p_X(x) = \\sum_{y_i}p_{XY}(x,y_i)$\n",
    " - $p_Y(y) = \\sum_{X_i}p_{XY}(x_i,y)$"
   ]
  },
  {
   "cell_type": "code",
   "execution_count": 297,
   "metadata": {},
   "outputs": [
    {
     "data": {
      "text/plain": [
       "X\n",
       "A    0.02\n",
       "B    0.18\n",
       "C    0.32\n",
       "D    0.28\n",
       "E    0.18\n",
       "F    0.02\n",
       "dtype: float64"
      ]
     },
     "execution_count": 297,
     "metadata": {},
     "output_type": "execute_result"
    }
   ],
   "source": [
    "pmf_marginal_x = pmf.sum(axis=0)\n",
    "pmf_marginal_x"
   ]
  },
  {
   "cell_type": "code",
   "execution_count": 299,
   "metadata": {},
   "outputs": [
    {
     "data": {
      "text/plain": [
       "array([[0.08],\n",
       "       [0.12],\n",
       "       [0.32],\n",
       "       [0.28],\n",
       "       [0.12],\n",
       "       [0.08]])"
      ]
     },
     "execution_count": 299,
     "metadata": {},
     "output_type": "execute_result"
    }
   ],
   "source": [
    "pmf_marginal_y = pmf.sum(axis=1)\n",
    "pmf_marginal_y[:,np.newaxis]"
   ]
  },
  {
   "cell_type": "markdown",
   "metadata": {},
   "source": [
    "#### 조건부확률질량함수\n",
    "\n",
    " - $p_{X|Y}(x|y) = \\frac{p_{XY}(x,y)}{p_Y(y)}$\n",
    " - $p_{Y|X}(y|x) = \\frac{p_{XY}(x,y)}{p_X(x)}$\n",
    " \n",
    " $\\rightarrow$ 점수가 $Y$일 경우 $p_Y(y)$로 나눠줌으로써 전체의 합이 1이 되도록 normalize"
   ]
  }
 ],
 "metadata": {
  "kernelspec": {
   "display_name": "Python 3",
   "language": "python",
   "name": "python3"
  },
  "language_info": {
   "codemirror_mode": {
    "name": "ipython",
    "version": 3
   },
   "file_extension": ".py",
   "mimetype": "text/x-python",
   "name": "python",
   "nbconvert_exporter": "python",
   "pygments_lexer": "ipython3",
   "version": "3.7.3"
  }
 },
 "nbformat": 4,
 "nbformat_minor": 4
}
